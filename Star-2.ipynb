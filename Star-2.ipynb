{
  "cells": [
    {
      "cell_type": "code",
      "execution_count": 1,
      "metadata": {
        "id": "v9n4mBEx9R-2"
      },
      "outputs": [],
      "source": [
        "import pandas as pd\n",
        "import numpy as np\n",
        "import matplotlib.pyplot as plt\n",
        "import tensorflow as tf\n",
        "import seaborn as sns\n",
        "%matplotlib inline"
      ]
    },
    {
      "cell_type": "markdown",
      "source": [
        "Preprocessed dataset. 3642 records.\n",
        "\n",
        "TargetClass - Whether the Star is Dwarf (0) or Giant (1)\n",
        "\n",
        "B-V - B-V color index.\n",
        "\n",
        "Vmag=Visual Apparent Magnitude of the Star\n",
        "\n",
        "Amag - Absolute Magnitude of the Star.\n",
        "The absolute magnitude of the stars were generated via the equation:\n",
        "\n",
        "M = m + 5(logP + 1)\n",
        "\n",
        "Where M represents the absolute magnitude Amag,\n",
        "m represents the visual apparent magnitude Vmag\n",
        "and p represents stellar parallax Plx."
      ],
      "metadata": {
        "id": "PXCRnO3Lq6Sa"
      }
    },
    {
      "cell_type": "markdown",
      "metadata": {
        "id": "uOmHK0xPAf9k"
      },
      "source": [
        "Star Number 3642"
      ]
    },
    {
      "cell_type": "code",
      "execution_count": 2,
      "metadata": {
        "id": "PIB34WC09p30"
      },
      "outputs": [],
      "source": [
        "dataset=pd.read_csv('Star3642_balanced.csv')"
      ]
    },
    {
      "cell_type": "code",
      "execution_count": 3,
      "metadata": {
        "id": "1pKWDKHZ-gky",
        "colab": {
          "base_uri": "https://localhost:8080/",
          "height": 419
        },
        "outputId": "6e92e8bc-fdcd-4e7c-f7a4-8336de870d21"
      },
      "outputs": [
        {
          "output_type": "execute_result",
          "data": {
            "text/plain": [
              "      Vmag    Plx  e_Plx    B-V       SpType       Amag  TargetClass\n",
              "0     5.99  13.73   0.58  1.318        K5III  16.678352            0\n",
              "1     8.70   2.31   1.29 -0.045         B1II  15.518060            0\n",
              "2     5.77   5.50   1.03  0.855        G5III  14.471813            0\n",
              "3     6.72   5.26   0.74 -0.015          B7V  15.324928            1\n",
              "4     8.76  13.44   1.16  0.584          G0V  19.401997            1\n",
              "...    ...    ...    ...    ...          ...        ...          ...\n",
              "3637  7.29   3.26   0.95  1.786        K4III  14.856089            0\n",
              "3638  8.29   6.38   1.00  0.408       F2IV/V  17.314104            1\n",
              "3639  6.11   2.42   0.79  1.664  M0/M1IIICNp  13.029078            0\n",
              "3640  7.94   4.94   2.90  0.210          A5V  16.408636            1\n",
              "3641  8.81   1.87   1.23  1.176     K1/K2III  15.169209            0\n",
              "\n",
              "[3642 rows x 7 columns]"
            ],
            "text/html": [
              "\n",
              "  <div id=\"df-ed24202d-b589-4819-9a2e-edc2f533a347\" class=\"colab-df-container\">\n",
              "    <div>\n",
              "<style scoped>\n",
              "    .dataframe tbody tr th:only-of-type {\n",
              "        vertical-align: middle;\n",
              "    }\n",
              "\n",
              "    .dataframe tbody tr th {\n",
              "        vertical-align: top;\n",
              "    }\n",
              "\n",
              "    .dataframe thead th {\n",
              "        text-align: right;\n",
              "    }\n",
              "</style>\n",
              "<table border=\"1\" class=\"dataframe\">\n",
              "  <thead>\n",
              "    <tr style=\"text-align: right;\">\n",
              "      <th></th>\n",
              "      <th>Vmag</th>\n",
              "      <th>Plx</th>\n",
              "      <th>e_Plx</th>\n",
              "      <th>B-V</th>\n",
              "      <th>SpType</th>\n",
              "      <th>Amag</th>\n",
              "      <th>TargetClass</th>\n",
              "    </tr>\n",
              "  </thead>\n",
              "  <tbody>\n",
              "    <tr>\n",
              "      <th>0</th>\n",
              "      <td>5.99</td>\n",
              "      <td>13.73</td>\n",
              "      <td>0.58</td>\n",
              "      <td>1.318</td>\n",
              "      <td>K5III</td>\n",
              "      <td>16.678352</td>\n",
              "      <td>0</td>\n",
              "    </tr>\n",
              "    <tr>\n",
              "      <th>1</th>\n",
              "      <td>8.70</td>\n",
              "      <td>2.31</td>\n",
              "      <td>1.29</td>\n",
              "      <td>-0.045</td>\n",
              "      <td>B1II</td>\n",
              "      <td>15.518060</td>\n",
              "      <td>0</td>\n",
              "    </tr>\n",
              "    <tr>\n",
              "      <th>2</th>\n",
              "      <td>5.77</td>\n",
              "      <td>5.50</td>\n",
              "      <td>1.03</td>\n",
              "      <td>0.855</td>\n",
              "      <td>G5III</td>\n",
              "      <td>14.471813</td>\n",
              "      <td>0</td>\n",
              "    </tr>\n",
              "    <tr>\n",
              "      <th>3</th>\n",
              "      <td>6.72</td>\n",
              "      <td>5.26</td>\n",
              "      <td>0.74</td>\n",
              "      <td>-0.015</td>\n",
              "      <td>B7V</td>\n",
              "      <td>15.324928</td>\n",
              "      <td>1</td>\n",
              "    </tr>\n",
              "    <tr>\n",
              "      <th>4</th>\n",
              "      <td>8.76</td>\n",
              "      <td>13.44</td>\n",
              "      <td>1.16</td>\n",
              "      <td>0.584</td>\n",
              "      <td>G0V</td>\n",
              "      <td>19.401997</td>\n",
              "      <td>1</td>\n",
              "    </tr>\n",
              "    <tr>\n",
              "      <th>...</th>\n",
              "      <td>...</td>\n",
              "      <td>...</td>\n",
              "      <td>...</td>\n",
              "      <td>...</td>\n",
              "      <td>...</td>\n",
              "      <td>...</td>\n",
              "      <td>...</td>\n",
              "    </tr>\n",
              "    <tr>\n",
              "      <th>3637</th>\n",
              "      <td>7.29</td>\n",
              "      <td>3.26</td>\n",
              "      <td>0.95</td>\n",
              "      <td>1.786</td>\n",
              "      <td>K4III</td>\n",
              "      <td>14.856089</td>\n",
              "      <td>0</td>\n",
              "    </tr>\n",
              "    <tr>\n",
              "      <th>3638</th>\n",
              "      <td>8.29</td>\n",
              "      <td>6.38</td>\n",
              "      <td>1.00</td>\n",
              "      <td>0.408</td>\n",
              "      <td>F2IV/V</td>\n",
              "      <td>17.314104</td>\n",
              "      <td>1</td>\n",
              "    </tr>\n",
              "    <tr>\n",
              "      <th>3639</th>\n",
              "      <td>6.11</td>\n",
              "      <td>2.42</td>\n",
              "      <td>0.79</td>\n",
              "      <td>1.664</td>\n",
              "      <td>M0/M1IIICNp</td>\n",
              "      <td>13.029078</td>\n",
              "      <td>0</td>\n",
              "    </tr>\n",
              "    <tr>\n",
              "      <th>3640</th>\n",
              "      <td>7.94</td>\n",
              "      <td>4.94</td>\n",
              "      <td>2.90</td>\n",
              "      <td>0.210</td>\n",
              "      <td>A5V</td>\n",
              "      <td>16.408636</td>\n",
              "      <td>1</td>\n",
              "    </tr>\n",
              "    <tr>\n",
              "      <th>3641</th>\n",
              "      <td>8.81</td>\n",
              "      <td>1.87</td>\n",
              "      <td>1.23</td>\n",
              "      <td>1.176</td>\n",
              "      <td>K1/K2III</td>\n",
              "      <td>15.169209</td>\n",
              "      <td>0</td>\n",
              "    </tr>\n",
              "  </tbody>\n",
              "</table>\n",
              "<p>3642 rows × 7 columns</p>\n",
              "</div>\n",
              "    <div class=\"colab-df-buttons\">\n",
              "\n",
              "  <div class=\"colab-df-container\">\n",
              "    <button class=\"colab-df-convert\" onclick=\"convertToInteractive('df-ed24202d-b589-4819-9a2e-edc2f533a347')\"\n",
              "            title=\"Convert this dataframe to an interactive table.\"\n",
              "            style=\"display:none;\">\n",
              "\n",
              "  <svg xmlns=\"http://www.w3.org/2000/svg\" height=\"24px\" viewBox=\"0 -960 960 960\">\n",
              "    <path d=\"M120-120v-720h720v720H120Zm60-500h600v-160H180v160Zm220 220h160v-160H400v160Zm0 220h160v-160H400v160ZM180-400h160v-160H180v160Zm440 0h160v-160H620v160ZM180-180h160v-160H180v160Zm440 0h160v-160H620v160Z\"/>\n",
              "  </svg>\n",
              "    </button>\n",
              "\n",
              "  <style>\n",
              "    .colab-df-container {\n",
              "      display:flex;\n",
              "      gap: 12px;\n",
              "    }\n",
              "\n",
              "    .colab-df-convert {\n",
              "      background-color: #E8F0FE;\n",
              "      border: none;\n",
              "      border-radius: 50%;\n",
              "      cursor: pointer;\n",
              "      display: none;\n",
              "      fill: #1967D2;\n",
              "      height: 32px;\n",
              "      padding: 0 0 0 0;\n",
              "      width: 32px;\n",
              "    }\n",
              "\n",
              "    .colab-df-convert:hover {\n",
              "      background-color: #E2EBFA;\n",
              "      box-shadow: 0px 1px 2px rgba(60, 64, 67, 0.3), 0px 1px 3px 1px rgba(60, 64, 67, 0.15);\n",
              "      fill: #174EA6;\n",
              "    }\n",
              "\n",
              "    .colab-df-buttons div {\n",
              "      margin-bottom: 4px;\n",
              "    }\n",
              "\n",
              "    [theme=dark] .colab-df-convert {\n",
              "      background-color: #3B4455;\n",
              "      fill: #D2E3FC;\n",
              "    }\n",
              "\n",
              "    [theme=dark] .colab-df-convert:hover {\n",
              "      background-color: #434B5C;\n",
              "      box-shadow: 0px 1px 3px 1px rgba(0, 0, 0, 0.15);\n",
              "      filter: drop-shadow(0px 1px 2px rgba(0, 0, 0, 0.3));\n",
              "      fill: #FFFFFF;\n",
              "    }\n",
              "  </style>\n",
              "\n",
              "    <script>\n",
              "      const buttonEl =\n",
              "        document.querySelector('#df-ed24202d-b589-4819-9a2e-edc2f533a347 button.colab-df-convert');\n",
              "      buttonEl.style.display =\n",
              "        google.colab.kernel.accessAllowed ? 'block' : 'none';\n",
              "\n",
              "      async function convertToInteractive(key) {\n",
              "        const element = document.querySelector('#df-ed24202d-b589-4819-9a2e-edc2f533a347');\n",
              "        const dataTable =\n",
              "          await google.colab.kernel.invokeFunction('convertToInteractive',\n",
              "                                                    [key], {});\n",
              "        if (!dataTable) return;\n",
              "\n",
              "        const docLinkHtml = 'Like what you see? Visit the ' +\n",
              "          '<a target=\"_blank\" href=https://colab.research.google.com/notebooks/data_table.ipynb>data table notebook</a>'\n",
              "          + ' to learn more about interactive tables.';\n",
              "        element.innerHTML = '';\n",
              "        dataTable['output_type'] = 'display_data';\n",
              "        await google.colab.output.renderOutput(dataTable, element);\n",
              "        const docLink = document.createElement('div');\n",
              "        docLink.innerHTML = docLinkHtml;\n",
              "        element.appendChild(docLink);\n",
              "      }\n",
              "    </script>\n",
              "  </div>\n",
              "\n",
              "\n",
              "<div id=\"df-8ba57349-5172-42aa-b23f-c105f3a647b7\">\n",
              "  <button class=\"colab-df-quickchart\" onclick=\"quickchart('df-8ba57349-5172-42aa-b23f-c105f3a647b7')\"\n",
              "            title=\"Suggest charts.\"\n",
              "            style=\"display:none;\">\n",
              "\n",
              "<svg xmlns=\"http://www.w3.org/2000/svg\" height=\"24px\"viewBox=\"0 0 24 24\"\n",
              "     width=\"24px\">\n",
              "    <g>\n",
              "        <path d=\"M19 3H5c-1.1 0-2 .9-2 2v14c0 1.1.9 2 2 2h14c1.1 0 2-.9 2-2V5c0-1.1-.9-2-2-2zM9 17H7v-7h2v7zm4 0h-2V7h2v10zm4 0h-2v-4h2v4z\"/>\n",
              "    </g>\n",
              "</svg>\n",
              "  </button>\n",
              "\n",
              "<style>\n",
              "  .colab-df-quickchart {\n",
              "      --bg-color: #E8F0FE;\n",
              "      --fill-color: #1967D2;\n",
              "      --hover-bg-color: #E2EBFA;\n",
              "      --hover-fill-color: #174EA6;\n",
              "      --disabled-fill-color: #AAA;\n",
              "      --disabled-bg-color: #DDD;\n",
              "  }\n",
              "\n",
              "  [theme=dark] .colab-df-quickchart {\n",
              "      --bg-color: #3B4455;\n",
              "      --fill-color: #D2E3FC;\n",
              "      --hover-bg-color: #434B5C;\n",
              "      --hover-fill-color: #FFFFFF;\n",
              "      --disabled-bg-color: #3B4455;\n",
              "      --disabled-fill-color: #666;\n",
              "  }\n",
              "\n",
              "  .colab-df-quickchart {\n",
              "    background-color: var(--bg-color);\n",
              "    border: none;\n",
              "    border-radius: 50%;\n",
              "    cursor: pointer;\n",
              "    display: none;\n",
              "    fill: var(--fill-color);\n",
              "    height: 32px;\n",
              "    padding: 0;\n",
              "    width: 32px;\n",
              "  }\n",
              "\n",
              "  .colab-df-quickchart:hover {\n",
              "    background-color: var(--hover-bg-color);\n",
              "    box-shadow: 0 1px 2px rgba(60, 64, 67, 0.3), 0 1px 3px 1px rgba(60, 64, 67, 0.15);\n",
              "    fill: var(--button-hover-fill-color);\n",
              "  }\n",
              "\n",
              "  .colab-df-quickchart-complete:disabled,\n",
              "  .colab-df-quickchart-complete:disabled:hover {\n",
              "    background-color: var(--disabled-bg-color);\n",
              "    fill: var(--disabled-fill-color);\n",
              "    box-shadow: none;\n",
              "  }\n",
              "\n",
              "  .colab-df-spinner {\n",
              "    border: 2px solid var(--fill-color);\n",
              "    border-color: transparent;\n",
              "    border-bottom-color: var(--fill-color);\n",
              "    animation:\n",
              "      spin 1s steps(1) infinite;\n",
              "  }\n",
              "\n",
              "  @keyframes spin {\n",
              "    0% {\n",
              "      border-color: transparent;\n",
              "      border-bottom-color: var(--fill-color);\n",
              "      border-left-color: var(--fill-color);\n",
              "    }\n",
              "    20% {\n",
              "      border-color: transparent;\n",
              "      border-left-color: var(--fill-color);\n",
              "      border-top-color: var(--fill-color);\n",
              "    }\n",
              "    30% {\n",
              "      border-color: transparent;\n",
              "      border-left-color: var(--fill-color);\n",
              "      border-top-color: var(--fill-color);\n",
              "      border-right-color: var(--fill-color);\n",
              "    }\n",
              "    40% {\n",
              "      border-color: transparent;\n",
              "      border-right-color: var(--fill-color);\n",
              "      border-top-color: var(--fill-color);\n",
              "    }\n",
              "    60% {\n",
              "      border-color: transparent;\n",
              "      border-right-color: var(--fill-color);\n",
              "    }\n",
              "    80% {\n",
              "      border-color: transparent;\n",
              "      border-right-color: var(--fill-color);\n",
              "      border-bottom-color: var(--fill-color);\n",
              "    }\n",
              "    90% {\n",
              "      border-color: transparent;\n",
              "      border-bottom-color: var(--fill-color);\n",
              "    }\n",
              "  }\n",
              "</style>\n",
              "\n",
              "  <script>\n",
              "    async function quickchart(key) {\n",
              "      const quickchartButtonEl =\n",
              "        document.querySelector('#' + key + ' button');\n",
              "      quickchartButtonEl.disabled = true;  // To prevent multiple clicks.\n",
              "      quickchartButtonEl.classList.add('colab-df-spinner');\n",
              "      try {\n",
              "        const charts = await google.colab.kernel.invokeFunction(\n",
              "            'suggestCharts', [key], {});\n",
              "      } catch (error) {\n",
              "        console.error('Error during call to suggestCharts:', error);\n",
              "      }\n",
              "      quickchartButtonEl.classList.remove('colab-df-spinner');\n",
              "      quickchartButtonEl.classList.add('colab-df-quickchart-complete');\n",
              "    }\n",
              "    (() => {\n",
              "      let quickchartButtonEl =\n",
              "        document.querySelector('#df-8ba57349-5172-42aa-b23f-c105f3a647b7 button');\n",
              "      quickchartButtonEl.style.display =\n",
              "        google.colab.kernel.accessAllowed ? 'block' : 'none';\n",
              "    })();\n",
              "  </script>\n",
              "</div>\n",
              "    </div>\n",
              "  </div>\n"
            ]
          },
          "metadata": {},
          "execution_count": 3
        }
      ],
      "source": [
        "dataset"
      ]
    },
    {
      "cell_type": "code",
      "execution_count": 4,
      "metadata": {
        "id": "3p7Xdebk-hVy"
      },
      "outputs": [],
      "source": [
        "dataset=dataset.drop(['SpType'],axis=1)"
      ]
    },
    {
      "cell_type": "code",
      "execution_count": 5,
      "metadata": {
        "id": "DJgTODWRArit",
        "colab": {
          "base_uri": "https://localhost:8080/"
        },
        "outputId": "bab49256-22e3-469b-fdc3-636e762c79f5"
      },
      "outputs": [
        {
          "output_type": "stream",
          "name": "stdout",
          "text": [
            "<class 'pandas.core.frame.DataFrame'>\n",
            "RangeIndex: 3642 entries, 0 to 3641\n",
            "Data columns (total 6 columns):\n",
            " #   Column       Non-Null Count  Dtype  \n",
            "---  ------       --------------  -----  \n",
            " 0   Vmag         3642 non-null   float64\n",
            " 1   Plx          3642 non-null   float64\n",
            " 2   e_Plx        3642 non-null   float64\n",
            " 3   B-V          3642 non-null   float64\n",
            " 4   Amag         3642 non-null   float64\n",
            " 5   TargetClass  3642 non-null   int64  \n",
            "dtypes: float64(5), int64(1)\n",
            "memory usage: 170.8 KB\n"
          ]
        }
      ],
      "source": [
        "dataset.info()"
      ]
    },
    {
      "cell_type": "code",
      "execution_count": 6,
      "metadata": {
        "id": "QlARLGB3A6rw",
        "colab": {
          "base_uri": "https://localhost:8080/",
          "height": 297
        },
        "outputId": "a1f7e621-8a72-415f-c280-368d717a0f66"
      },
      "outputs": [
        {
          "output_type": "execute_result",
          "data": {
            "text/plain": [
              "              Vmag          Plx        e_Plx          B-V         Amag  \\\n",
              "count  3642.000000  3642.000000  3642.000000  3642.000000  3642.000000   \n",
              "mean      8.120530     7.606153     1.176568     0.827077    16.427388   \n",
              "std       1.338875    11.924052     0.919999     0.436699     2.428144   \n",
              "min       0.450000    -6.820000     0.470000    -0.196000     2.820000   \n",
              "25%       7.370000     2.740000     0.840000     0.487250    15.150312   \n",
              "50%       8.390000     4.950000     1.040000     0.867000    16.392485   \n",
              "75%       9.060000     8.670000     1.270000     1.136000    18.029836   \n",
              "max      12.490000   280.270000    30.290000     2.530000    29.249165   \n",
              "\n",
              "       TargetClass  \n",
              "count  3642.000000  \n",
              "mean      0.500000  \n",
              "std       0.500069  \n",
              "min       0.000000  \n",
              "25%       0.000000  \n",
              "50%       0.500000  \n",
              "75%       1.000000  \n",
              "max       1.000000  "
            ],
            "text/html": [
              "\n",
              "  <div id=\"df-0d41f3e0-3fbd-4f6d-9d9f-4b85b13c078d\" class=\"colab-df-container\">\n",
              "    <div>\n",
              "<style scoped>\n",
              "    .dataframe tbody tr th:only-of-type {\n",
              "        vertical-align: middle;\n",
              "    }\n",
              "\n",
              "    .dataframe tbody tr th {\n",
              "        vertical-align: top;\n",
              "    }\n",
              "\n",
              "    .dataframe thead th {\n",
              "        text-align: right;\n",
              "    }\n",
              "</style>\n",
              "<table border=\"1\" class=\"dataframe\">\n",
              "  <thead>\n",
              "    <tr style=\"text-align: right;\">\n",
              "      <th></th>\n",
              "      <th>Vmag</th>\n",
              "      <th>Plx</th>\n",
              "      <th>e_Plx</th>\n",
              "      <th>B-V</th>\n",
              "      <th>Amag</th>\n",
              "      <th>TargetClass</th>\n",
              "    </tr>\n",
              "  </thead>\n",
              "  <tbody>\n",
              "    <tr>\n",
              "      <th>count</th>\n",
              "      <td>3642.000000</td>\n",
              "      <td>3642.000000</td>\n",
              "      <td>3642.000000</td>\n",
              "      <td>3642.000000</td>\n",
              "      <td>3642.000000</td>\n",
              "      <td>3642.000000</td>\n",
              "    </tr>\n",
              "    <tr>\n",
              "      <th>mean</th>\n",
              "      <td>8.120530</td>\n",
              "      <td>7.606153</td>\n",
              "      <td>1.176568</td>\n",
              "      <td>0.827077</td>\n",
              "      <td>16.427388</td>\n",
              "      <td>0.500000</td>\n",
              "    </tr>\n",
              "    <tr>\n",
              "      <th>std</th>\n",
              "      <td>1.338875</td>\n",
              "      <td>11.924052</td>\n",
              "      <td>0.919999</td>\n",
              "      <td>0.436699</td>\n",
              "      <td>2.428144</td>\n",
              "      <td>0.500069</td>\n",
              "    </tr>\n",
              "    <tr>\n",
              "      <th>min</th>\n",
              "      <td>0.450000</td>\n",
              "      <td>-6.820000</td>\n",
              "      <td>0.470000</td>\n",
              "      <td>-0.196000</td>\n",
              "      <td>2.820000</td>\n",
              "      <td>0.000000</td>\n",
              "    </tr>\n",
              "    <tr>\n",
              "      <th>25%</th>\n",
              "      <td>7.370000</td>\n",
              "      <td>2.740000</td>\n",
              "      <td>0.840000</td>\n",
              "      <td>0.487250</td>\n",
              "      <td>15.150312</td>\n",
              "      <td>0.000000</td>\n",
              "    </tr>\n",
              "    <tr>\n",
              "      <th>50%</th>\n",
              "      <td>8.390000</td>\n",
              "      <td>4.950000</td>\n",
              "      <td>1.040000</td>\n",
              "      <td>0.867000</td>\n",
              "      <td>16.392485</td>\n",
              "      <td>0.500000</td>\n",
              "    </tr>\n",
              "    <tr>\n",
              "      <th>75%</th>\n",
              "      <td>9.060000</td>\n",
              "      <td>8.670000</td>\n",
              "      <td>1.270000</td>\n",
              "      <td>1.136000</td>\n",
              "      <td>18.029836</td>\n",
              "      <td>1.000000</td>\n",
              "    </tr>\n",
              "    <tr>\n",
              "      <th>max</th>\n",
              "      <td>12.490000</td>\n",
              "      <td>280.270000</td>\n",
              "      <td>30.290000</td>\n",
              "      <td>2.530000</td>\n",
              "      <td>29.249165</td>\n",
              "      <td>1.000000</td>\n",
              "    </tr>\n",
              "  </tbody>\n",
              "</table>\n",
              "</div>\n",
              "    <div class=\"colab-df-buttons\">\n",
              "\n",
              "  <div class=\"colab-df-container\">\n",
              "    <button class=\"colab-df-convert\" onclick=\"convertToInteractive('df-0d41f3e0-3fbd-4f6d-9d9f-4b85b13c078d')\"\n",
              "            title=\"Convert this dataframe to an interactive table.\"\n",
              "            style=\"display:none;\">\n",
              "\n",
              "  <svg xmlns=\"http://www.w3.org/2000/svg\" height=\"24px\" viewBox=\"0 -960 960 960\">\n",
              "    <path d=\"M120-120v-720h720v720H120Zm60-500h600v-160H180v160Zm220 220h160v-160H400v160Zm0 220h160v-160H400v160ZM180-400h160v-160H180v160Zm440 0h160v-160H620v160ZM180-180h160v-160H180v160Zm440 0h160v-160H620v160Z\"/>\n",
              "  </svg>\n",
              "    </button>\n",
              "\n",
              "  <style>\n",
              "    .colab-df-container {\n",
              "      display:flex;\n",
              "      gap: 12px;\n",
              "    }\n",
              "\n",
              "    .colab-df-convert {\n",
              "      background-color: #E8F0FE;\n",
              "      border: none;\n",
              "      border-radius: 50%;\n",
              "      cursor: pointer;\n",
              "      display: none;\n",
              "      fill: #1967D2;\n",
              "      height: 32px;\n",
              "      padding: 0 0 0 0;\n",
              "      width: 32px;\n",
              "    }\n",
              "\n",
              "    .colab-df-convert:hover {\n",
              "      background-color: #E2EBFA;\n",
              "      box-shadow: 0px 1px 2px rgba(60, 64, 67, 0.3), 0px 1px 3px 1px rgba(60, 64, 67, 0.15);\n",
              "      fill: #174EA6;\n",
              "    }\n",
              "\n",
              "    .colab-df-buttons div {\n",
              "      margin-bottom: 4px;\n",
              "    }\n",
              "\n",
              "    [theme=dark] .colab-df-convert {\n",
              "      background-color: #3B4455;\n",
              "      fill: #D2E3FC;\n",
              "    }\n",
              "\n",
              "    [theme=dark] .colab-df-convert:hover {\n",
              "      background-color: #434B5C;\n",
              "      box-shadow: 0px 1px 3px 1px rgba(0, 0, 0, 0.15);\n",
              "      filter: drop-shadow(0px 1px 2px rgba(0, 0, 0, 0.3));\n",
              "      fill: #FFFFFF;\n",
              "    }\n",
              "  </style>\n",
              "\n",
              "    <script>\n",
              "      const buttonEl =\n",
              "        document.querySelector('#df-0d41f3e0-3fbd-4f6d-9d9f-4b85b13c078d button.colab-df-convert');\n",
              "      buttonEl.style.display =\n",
              "        google.colab.kernel.accessAllowed ? 'block' : 'none';\n",
              "\n",
              "      async function convertToInteractive(key) {\n",
              "        const element = document.querySelector('#df-0d41f3e0-3fbd-4f6d-9d9f-4b85b13c078d');\n",
              "        const dataTable =\n",
              "          await google.colab.kernel.invokeFunction('convertToInteractive',\n",
              "                                                    [key], {});\n",
              "        if (!dataTable) return;\n",
              "\n",
              "        const docLinkHtml = 'Like what you see? Visit the ' +\n",
              "          '<a target=\"_blank\" href=https://colab.research.google.com/notebooks/data_table.ipynb>data table notebook</a>'\n",
              "          + ' to learn more about interactive tables.';\n",
              "        element.innerHTML = '';\n",
              "        dataTable['output_type'] = 'display_data';\n",
              "        await google.colab.output.renderOutput(dataTable, element);\n",
              "        const docLink = document.createElement('div');\n",
              "        docLink.innerHTML = docLinkHtml;\n",
              "        element.appendChild(docLink);\n",
              "      }\n",
              "    </script>\n",
              "  </div>\n",
              "\n",
              "\n",
              "<div id=\"df-e811bd9b-bc43-48c4-8be5-a809c7af54ad\">\n",
              "  <button class=\"colab-df-quickchart\" onclick=\"quickchart('df-e811bd9b-bc43-48c4-8be5-a809c7af54ad')\"\n",
              "            title=\"Suggest charts.\"\n",
              "            style=\"display:none;\">\n",
              "\n",
              "<svg xmlns=\"http://www.w3.org/2000/svg\" height=\"24px\"viewBox=\"0 0 24 24\"\n",
              "     width=\"24px\">\n",
              "    <g>\n",
              "        <path d=\"M19 3H5c-1.1 0-2 .9-2 2v14c0 1.1.9 2 2 2h14c1.1 0 2-.9 2-2V5c0-1.1-.9-2-2-2zM9 17H7v-7h2v7zm4 0h-2V7h2v10zm4 0h-2v-4h2v4z\"/>\n",
              "    </g>\n",
              "</svg>\n",
              "  </button>\n",
              "\n",
              "<style>\n",
              "  .colab-df-quickchart {\n",
              "      --bg-color: #E8F0FE;\n",
              "      --fill-color: #1967D2;\n",
              "      --hover-bg-color: #E2EBFA;\n",
              "      --hover-fill-color: #174EA6;\n",
              "      --disabled-fill-color: #AAA;\n",
              "      --disabled-bg-color: #DDD;\n",
              "  }\n",
              "\n",
              "  [theme=dark] .colab-df-quickchart {\n",
              "      --bg-color: #3B4455;\n",
              "      --fill-color: #D2E3FC;\n",
              "      --hover-bg-color: #434B5C;\n",
              "      --hover-fill-color: #FFFFFF;\n",
              "      --disabled-bg-color: #3B4455;\n",
              "      --disabled-fill-color: #666;\n",
              "  }\n",
              "\n",
              "  .colab-df-quickchart {\n",
              "    background-color: var(--bg-color);\n",
              "    border: none;\n",
              "    border-radius: 50%;\n",
              "    cursor: pointer;\n",
              "    display: none;\n",
              "    fill: var(--fill-color);\n",
              "    height: 32px;\n",
              "    padding: 0;\n",
              "    width: 32px;\n",
              "  }\n",
              "\n",
              "  .colab-df-quickchart:hover {\n",
              "    background-color: var(--hover-bg-color);\n",
              "    box-shadow: 0 1px 2px rgba(60, 64, 67, 0.3), 0 1px 3px 1px rgba(60, 64, 67, 0.15);\n",
              "    fill: var(--button-hover-fill-color);\n",
              "  }\n",
              "\n",
              "  .colab-df-quickchart-complete:disabled,\n",
              "  .colab-df-quickchart-complete:disabled:hover {\n",
              "    background-color: var(--disabled-bg-color);\n",
              "    fill: var(--disabled-fill-color);\n",
              "    box-shadow: none;\n",
              "  }\n",
              "\n",
              "  .colab-df-spinner {\n",
              "    border: 2px solid var(--fill-color);\n",
              "    border-color: transparent;\n",
              "    border-bottom-color: var(--fill-color);\n",
              "    animation:\n",
              "      spin 1s steps(1) infinite;\n",
              "  }\n",
              "\n",
              "  @keyframes spin {\n",
              "    0% {\n",
              "      border-color: transparent;\n",
              "      border-bottom-color: var(--fill-color);\n",
              "      border-left-color: var(--fill-color);\n",
              "    }\n",
              "    20% {\n",
              "      border-color: transparent;\n",
              "      border-left-color: var(--fill-color);\n",
              "      border-top-color: var(--fill-color);\n",
              "    }\n",
              "    30% {\n",
              "      border-color: transparent;\n",
              "      border-left-color: var(--fill-color);\n",
              "      border-top-color: var(--fill-color);\n",
              "      border-right-color: var(--fill-color);\n",
              "    }\n",
              "    40% {\n",
              "      border-color: transparent;\n",
              "      border-right-color: var(--fill-color);\n",
              "      border-top-color: var(--fill-color);\n",
              "    }\n",
              "    60% {\n",
              "      border-color: transparent;\n",
              "      border-right-color: var(--fill-color);\n",
              "    }\n",
              "    80% {\n",
              "      border-color: transparent;\n",
              "      border-right-color: var(--fill-color);\n",
              "      border-bottom-color: var(--fill-color);\n",
              "    }\n",
              "    90% {\n",
              "      border-color: transparent;\n",
              "      border-bottom-color: var(--fill-color);\n",
              "    }\n",
              "  }\n",
              "</style>\n",
              "\n",
              "  <script>\n",
              "    async function quickchart(key) {\n",
              "      const quickchartButtonEl =\n",
              "        document.querySelector('#' + key + ' button');\n",
              "      quickchartButtonEl.disabled = true;  // To prevent multiple clicks.\n",
              "      quickchartButtonEl.classList.add('colab-df-spinner');\n",
              "      try {\n",
              "        const charts = await google.colab.kernel.invokeFunction(\n",
              "            'suggestCharts', [key], {});\n",
              "      } catch (error) {\n",
              "        console.error('Error during call to suggestCharts:', error);\n",
              "      }\n",
              "      quickchartButtonEl.classList.remove('colab-df-spinner');\n",
              "      quickchartButtonEl.classList.add('colab-df-quickchart-complete');\n",
              "    }\n",
              "    (() => {\n",
              "      let quickchartButtonEl =\n",
              "        document.querySelector('#df-e811bd9b-bc43-48c4-8be5-a809c7af54ad button');\n",
              "      quickchartButtonEl.style.display =\n",
              "        google.colab.kernel.accessAllowed ? 'block' : 'none';\n",
              "    })();\n",
              "  </script>\n",
              "</div>\n",
              "    </div>\n",
              "  </div>\n"
            ]
          },
          "metadata": {},
          "execution_count": 6
        }
      ],
      "source": [
        "dataset.describe()"
      ]
    },
    {
      "cell_type": "code",
      "execution_count": 7,
      "metadata": {
        "id": "094qwInLA8nM",
        "colab": {
          "base_uri": "https://localhost:8080/"
        },
        "outputId": "dd8fdb4d-467f-435d-cf59-c8876a1d89f8"
      },
      "outputs": [
        {
          "output_type": "execute_result",
          "data": {
            "text/plain": [
              "Vmag           0\n",
              "Plx            0\n",
              "e_Plx          0\n",
              "B-V            0\n",
              "Amag           0\n",
              "TargetClass    0\n",
              "dtype: int64"
            ]
          },
          "metadata": {},
          "execution_count": 7
        }
      ],
      "source": [
        "dataset.isnull().sum()"
      ]
    },
    {
      "cell_type": "code",
      "execution_count": 8,
      "metadata": {
        "id": "jSH9LHnYBBBi",
        "colab": {
          "base_uri": "https://localhost:8080/",
          "height": 452
        },
        "outputId": "dbe7946f-0f0d-4171-cb41-c71c4dab41ce"
      },
      "outputs": [
        {
          "output_type": "execute_result",
          "data": {
            "text/plain": [
              "<Axes: >"
            ]
          },
          "metadata": {},
          "execution_count": 8
        },
        {
          "output_type": "display_data",
          "data": {
            "text/plain": [
              "<Figure size 640x480 with 2 Axes>"
            ],
            "image/png": "[encoded data removed]"
          },
          "metadata": {}
        }
      ],
      "source": [
        "sns.heatmap(dataset.corr(),annot=True)"
      ]
    },
    {
      "cell_type": "code",
      "execution_count": 9,
      "metadata": {
        "id": "BPaG7e19BKQS"
      },
      "outputs": [],
      "source": [
        "#sns.pairplot(dataset)"
      ]
    },
    {
      "cell_type": "code",
      "execution_count": 10,
      "metadata": {
        "id": "heC5kNLABVmr",
        "colab": {
          "base_uri": "https://localhost:8080/",
          "height": 419
        },
        "outputId": "c96083cf-0198-4279-ff1b-94d8b523590d"
      },
      "outputs": [
        {
          "output_type": "execute_result",
          "data": {
            "text/plain": [
              "      Vmag    Plx  e_Plx    B-V       Amag  TargetClass\n",
              "0     5.99  13.73   0.58  1.318  16.678352            0\n",
              "1     8.70   2.31   1.29 -0.045  15.518060            0\n",
              "2     5.77   5.50   1.03  0.855  14.471813            0\n",
              "3     6.72   5.26   0.74 -0.015  15.324928            1\n",
              "4     8.76  13.44   1.16  0.584  19.401997            1\n",
              "...    ...    ...    ...    ...        ...          ...\n",
              "3637  7.29   3.26   0.95  1.786  14.856089            0\n",
              "3638  8.29   6.38   1.00  0.408  17.314104            1\n",
              "3639  6.11   2.42   0.79  1.664  13.029078            0\n",
              "3640  7.94   4.94   2.90  0.210  16.408636            1\n",
              "3641  8.81   1.87   1.23  1.176  15.169209            0\n",
              "\n",
              "[3642 rows x 6 columns]"
            ],
            "text/html": [
              "\n",
              "  <div id=\"df-ea87e339-e35c-4d01-bda1-3d227dfbf138\" class=\"colab-df-container\">\n",
              "    <div>\n",
              "<style scoped>\n",
              "    .dataframe tbody tr th:only-of-type {\n",
              "        vertical-align: middle;\n",
              "    }\n",
              "\n",
              "    .dataframe tbody tr th {\n",
              "        vertical-align: top;\n",
              "    }\n",
              "\n",
              "    .dataframe thead th {\n",
              "        text-align: right;\n",
              "    }\n",
              "</style>\n",
              "<table border=\"1\" class=\"dataframe\">\n",
              "  <thead>\n",
              "    <tr style=\"text-align: right;\">\n",
              "      <th></th>\n",
              "      <th>Vmag</th>\n",
              "      <th>Plx</th>\n",
              "      <th>e_Plx</th>\n",
              "      <th>B-V</th>\n",
              "      <th>Amag</th>\n",
              "      <th>TargetClass</th>\n",
              "    </tr>\n",
              "  </thead>\n",
              "  <tbody>\n",
              "    <tr>\n",
              "      <th>0</th>\n",
              "      <td>5.99</td>\n",
              "      <td>13.73</td>\n",
              "      <td>0.58</td>\n",
              "      <td>1.318</td>\n",
              "      <td>16.678352</td>\n",
              "      <td>0</td>\n",
              "    </tr>\n",
              "    <tr>\n",
              "      <th>1</th>\n",
              "      <td>8.70</td>\n",
              "      <td>2.31</td>\n",
              "      <td>1.29</td>\n",
              "      <td>-0.045</td>\n",
              "      <td>15.518060</td>\n",
              "      <td>0</td>\n",
              "    </tr>\n",
              "    <tr>\n",
              "      <th>2</th>\n",
              "      <td>5.77</td>\n",
              "      <td>5.50</td>\n",
              "      <td>1.03</td>\n",
              "      <td>0.855</td>\n",
              "      <td>14.471813</td>\n",
              "      <td>0</td>\n",
              "    </tr>\n",
              "    <tr>\n",
              "      <th>3</th>\n",
              "      <td>6.72</td>\n",
              "      <td>5.26</td>\n",
              "      <td>0.74</td>\n",
              "      <td>-0.015</td>\n",
              "      <td>15.324928</td>\n",
              "      <td>1</td>\n",
              "    </tr>\n",
              "    <tr>\n",
              "      <th>4</th>\n",
              "      <td>8.76</td>\n",
              "      <td>13.44</td>\n",
              "      <td>1.16</td>\n",
              "      <td>0.584</td>\n",
              "      <td>19.401997</td>\n",
              "      <td>1</td>\n",
              "    </tr>\n",
              "    <tr>\n",
              "      <th>...</th>\n",
              "      <td>...</td>\n",
              "      <td>...</td>\n",
              "      <td>...</td>\n",
              "      <td>...</td>\n",
              "      <td>...</td>\n",
              "      <td>...</td>\n",
              "    </tr>\n",
              "    <tr>\n",
              "      <th>3637</th>\n",
              "      <td>7.29</td>\n",
              "      <td>3.26</td>\n",
              "      <td>0.95</td>\n",
              "      <td>1.786</td>\n",
              "      <td>14.856089</td>\n",
              "      <td>0</td>\n",
              "    </tr>\n",
              "    <tr>\n",
              "      <th>3638</th>\n",
              "      <td>8.29</td>\n",
              "      <td>6.38</td>\n",
              "      <td>1.00</td>\n",
              "      <td>0.408</td>\n",
              "      <td>17.314104</td>\n",
              "      <td>1</td>\n",
              "    </tr>\n",
              "    <tr>\n",
              "      <th>3639</th>\n",
              "      <td>6.11</td>\n",
              "      <td>2.42</td>\n",
              "      <td>0.79</td>\n",
              "      <td>1.664</td>\n",
              "      <td>13.029078</td>\n",
              "      <td>0</td>\n",
              "    </tr>\n",
              "    <tr>\n",
              "      <th>3640</th>\n",
              "      <td>7.94</td>\n",
              "      <td>4.94</td>\n",
              "      <td>2.90</td>\n",
              "      <td>0.210</td>\n",
              "      <td>16.408636</td>\n",
              "      <td>1</td>\n",
              "    </tr>\n",
              "    <tr>\n",
              "      <th>3641</th>\n",
              "      <td>8.81</td>\n",
              "      <td>1.87</td>\n",
              "      <td>1.23</td>\n",
              "      <td>1.176</td>\n",
              "      <td>15.169209</td>\n",
              "      <td>0</td>\n",
              "    </tr>\n",
              "  </tbody>\n",
              "</table>\n",
              "<p>3642 rows × 6 columns</p>\n",
              "</div>\n",
              "    <div class=\"colab-df-buttons\">\n",
              "\n",
              "  <div class=\"colab-df-container\">\n",
              "    <button class=\"colab-df-convert\" onclick=\"convertToInteractive('df-ea87e339-e35c-4d01-bda1-3d227dfbf138')\"\n",
              "            title=\"Convert this dataframe to an interactive table.\"\n",
              "            style=\"display:none;\">\n",
              "\n",
              "  <svg xmlns=\"http://www.w3.org/2000/svg\" height=\"24px\" viewBox=\"0 -960 960 960\">\n",
              "    <path d=\"M120-120v-720h720v720H120Zm60-500h600v-160H180v160Zm220 220h160v-160H400v160Zm0 220h160v-160H400v160ZM180-400h160v-160H180v160Zm440 0h160v-160H620v160ZM180-180h160v-160H180v160Zm440 0h160v-160H620v160Z\"/>\n",
              "  </svg>\n",
              "    </button>\n",
              "\n",
              "  <style>\n",
              "    .colab-df-container {\n",
              "      display:flex;\n",
              "      gap: 12px;\n",
              "    }\n",
              "\n",
              "    .colab-df-convert {\n",
              "      background-color: #E8F0FE;\n",
              "      border: none;\n",
              "      border-radius: 50%;\n",
              "      cursor: pointer;\n",
              "      display: none;\n",
              "      fill: #1967D2;\n",
              "      height: 32px;\n",
              "      padding: 0 0 0 0;\n",
              "      width: 32px;\n",
              "    }\n",
              "\n",
              "    .colab-df-convert:hover {\n",
              "      background-color: #E2EBFA;\n",
              "      box-shadow: 0px 1px 2px rgba(60, 64, 67, 0.3), 0px 1px 3px 1px rgba(60, 64, 67, 0.15);\n",
              "      fill: #174EA6;\n",
              "    }\n",
              "\n",
              "    .colab-df-buttons div {\n",
              "      margin-bottom: 4px;\n",
              "    }\n",
              "\n",
              "    [theme=dark] .colab-df-convert {\n",
              "      background-color: #3B4455;\n",
              "      fill: #D2E3FC;\n",
              "    }\n",
              "\n",
              "    [theme=dark] .colab-df-convert:hover {\n",
              "      background-color: #434B5C;\n",
              "      box-shadow: 0px 1px 3px 1px rgba(0, 0, 0, 0.15);\n",
              "      filter: drop-shadow(0px 1px 2px rgba(0, 0, 0, 0.3));\n",
              "      fill: #FFFFFF;\n",
              "    }\n",
              "  </style>\n",
              "\n",
              "    <script>\n",
              "      const buttonEl =\n",
              "        document.querySelector('#df-ea87e339-e35c-4d01-bda1-3d227dfbf138 button.colab-df-convert');\n",
              "      buttonEl.style.display =\n",
              "        google.colab.kernel.accessAllowed ? 'block' : 'none';\n",
              "\n",
              "      async function convertToInteractive(key) {\n",
              "        const element = document.querySelector('#df-ea87e339-e35c-4d01-bda1-3d227dfbf138');\n",
              "        const dataTable =\n",
              "          await google.colab.kernel.invokeFunction('convertToInteractive',\n",
              "                                                    [key], {});\n",
              "        if (!dataTable) return;\n",
              "\n",
              "        const docLinkHtml = 'Like what you see? Visit the ' +\n",
              "          '<a target=\"_blank\" href=https://colab.research.google.com/notebooks/data_table.ipynb>data table notebook</a>'\n",
              "          + ' to learn more about interactive tables.';\n",
              "        element.innerHTML = '';\n",
              "        dataTable['output_type'] = 'display_data';\n",
              "        await google.colab.output.renderOutput(dataTable, element);\n",
              "        const docLink = document.createElement('div');\n",
              "        docLink.innerHTML = docLinkHtml;\n",
              "        element.appendChild(docLink);\n",
              "      }\n",
              "    </script>\n",
              "  </div>\n",
              "\n",
              "\n",
              "<div id=\"df-458c729b-feda-44bd-8db7-4a86c39620a0\">\n",
              "  <button class=\"colab-df-quickchart\" onclick=\"quickchart('df-458c729b-feda-44bd-8db7-4a86c39620a0')\"\n",
              "            title=\"Suggest charts.\"\n",
              "            style=\"display:none;\">\n",
              "\n",
              "<svg xmlns=\"http://www.w3.org/2000/svg\" height=\"24px\"viewBox=\"0 0 24 24\"\n",
              "     width=\"24px\">\n",
              "    <g>\n",
              "        <path d=\"M19 3H5c-1.1 0-2 .9-2 2v14c0 1.1.9 2 2 2h14c1.1 0 2-.9 2-2V5c0-1.1-.9-2-2-2zM9 17H7v-7h2v7zm4 0h-2V7h2v10zm4 0h-2v-4h2v4z\"/>\n",
              "    </g>\n",
              "</svg>\n",
              "  </button>\n",
              "\n",
              "<style>\n",
              "  .colab-df-quickchart {\n",
              "      --bg-color: #E8F0FE;\n",
              "      --fill-color: #1967D2;\n",
              "      --hover-bg-color: #E2EBFA;\n",
              "      --hover-fill-color: #174EA6;\n",
              "      --disabled-fill-color: #AAA;\n",
              "      --disabled-bg-color: #DDD;\n",
              "  }\n",
              "\n",
              "  [theme=dark] .colab-df-quickchart {\n",
              "      --bg-color: #3B4455;\n",
              "      --fill-color: #D2E3FC;\n",
              "      --hover-bg-color: #434B5C;\n",
              "      --hover-fill-color: #FFFFFF;\n",
              "      --disabled-bg-color: #3B4455;\n",
              "      --disabled-fill-color: #666;\n",
              "  }\n",
              "\n",
              "  .colab-df-quickchart {\n",
              "    background-color: var(--bg-color);\n",
              "    border: none;\n",
              "    border-radius: 50%;\n",
              "    cursor: pointer;\n",
              "    display: none;\n",
              "    fill: var(--fill-color);\n",
              "    height: 32px;\n",
              "    padding: 0;\n",
              "    width: 32px;\n",
              "  }\n",
              "\n",
              "  .colab-df-quickchart:hover {\n",
              "    background-color: var(--hover-bg-color);\n",
              "    box-shadow: 0 1px 2px rgba(60, 64, 67, 0.3), 0 1px 3px 1px rgba(60, 64, 67, 0.15);\n",
              "    fill: var(--button-hover-fill-color);\n",
              "  }\n",
              "\n",
              "  .colab-df-quickchart-complete:disabled,\n",
              "  .colab-df-quickchart-complete:disabled:hover {\n",
              "    background-color: var(--disabled-bg-color);\n",
              "    fill: var(--disabled-fill-color);\n",
              "    box-shadow: none;\n",
              "  }\n",
              "\n",
              "  .colab-df-spinner {\n",
              "    border: 2px solid var(--fill-color);\n",
              "    border-color: transparent;\n",
              "    border-bottom-color: var(--fill-color);\n",
              "    animation:\n",
              "      spin 1s steps(1) infinite;\n",
              "  }\n",
              "\n",
              "  @keyframes spin {\n",
              "    0% {\n",
              "      border-color: transparent;\n",
              "      border-bottom-color: var(--fill-color);\n",
              "      border-left-color: var(--fill-color);\n",
              "    }\n",
              "    20% {\n",
              "      border-color: transparent;\n",
              "      border-left-color: var(--fill-color);\n",
              "      border-top-color: var(--fill-color);\n",
              "    }\n",
              "    30% {\n",
              "      border-color: transparent;\n",
              "      border-left-color: var(--fill-color);\n",
              "      border-top-color: var(--fill-color);\n",
              "      border-right-color: var(--fill-color);\n",
              "    }\n",
              "    40% {\n",
              "      border-color: transparent;\n",
              "      border-right-color: var(--fill-color);\n",
              "      border-top-color: var(--fill-color);\n",
              "    }\n",
              "    60% {\n",
              "      border-color: transparent;\n",
              "      border-right-color: var(--fill-color);\n",
              "    }\n",
              "    80% {\n",
              "      border-color: transparent;\n",
              "      border-right-color: var(--fill-color);\n",
              "      border-bottom-color: var(--fill-color);\n",
              "    }\n",
              "    90% {\n",
              "      border-color: transparent;\n",
              "      border-bottom-color: var(--fill-color);\n",
              "    }\n",
              "  }\n",
              "</style>\n",
              "\n",
              "  <script>\n",
              "    async function quickchart(key) {\n",
              "      const quickchartButtonEl =\n",
              "        document.querySelector('#' + key + ' button');\n",
              "      quickchartButtonEl.disabled = true;  // To prevent multiple clicks.\n",
              "      quickchartButtonEl.classList.add('colab-df-spinner');\n",
              "      try {\n",
              "        const charts = await google.colab.kernel.invokeFunction(\n",
              "            'suggestCharts', [key], {});\n",
              "      } catch (error) {\n",
              "        console.error('Error during call to suggestCharts:', error);\n",
              "      }\n",
              "      quickchartButtonEl.classList.remove('colab-df-spinner');\n",
              "      quickchartButtonEl.classList.add('colab-df-quickchart-complete');\n",
              "    }\n",
              "    (() => {\n",
              "      let quickchartButtonEl =\n",
              "        document.querySelector('#df-458c729b-feda-44bd-8db7-4a86c39620a0 button');\n",
              "      quickchartButtonEl.style.display =\n",
              "        google.colab.kernel.accessAllowed ? 'block' : 'none';\n",
              "    })();\n",
              "  </script>\n",
              "</div>\n",
              "    </div>\n",
              "  </div>\n"
            ]
          },
          "metadata": {},
          "execution_count": 10
        }
      ],
      "source": [
        "dataset"
      ]
    },
    {
      "cell_type": "code",
      "execution_count": 11,
      "metadata": {
        "id": "P2P2beYaBlaL",
        "colab": {
          "base_uri": "https://localhost:8080/",
          "height": 466
        },
        "outputId": "c319b8e2-0f02-4a0f-f094-01719b780e96"
      },
      "outputs": [
        {
          "output_type": "execute_result",
          "data": {
            "text/plain": [
              "<Axes: xlabel='TargetClass', ylabel='count'>"
            ]
          },
          "metadata": {},
          "execution_count": 11
        },
        {
          "output_type": "display_data",
          "data": {
            "text/plain": [
              "<Figure size 640x480 with 1 Axes>"
            ],
            "image/png": "[encoded data removed]"
          },
          "metadata": {}
        }
      ],
      "source": [
        "sns.countplot(x='TargetClass',data=dataset)"
      ]
    },
    {
      "cell_type": "code",
      "execution_count": 12,
      "metadata": {
        "id": "m7Pq6NGSB-x7",
        "colab": {
          "base_uri": "https://localhost:8080/",
          "height": 523
        },
        "outputId": "81188ee7-8663-4e22-8b04-62bebb92099a"
      },
      "outputs": [
        {
          "output_type": "execute_result",
          "data": {
            "text/plain": [
              "<seaborn.axisgrid.FacetGrid at 0x7c38d993a4a0>"
            ]
          },
          "metadata": {},
          "execution_count": 12
        },
        {
          "output_type": "display_data",
          "data": {
            "text/plain": [
              "<Figure size 500x500 with 1 Axes>"
            ],
            "image/png": "[encoded data removed]"
          },
          "metadata": {}
        }
      ],
      "source": [
        "sns.displot(dataset['Amag'],kind='kde')"
      ]
    },
    {
      "cell_type": "code",
      "execution_count": 13,
      "metadata": {
        "id": "OZ3Y3wB7CPWZ",
        "colab": {
          "base_uri": "https://localhost:8080/",
          "height": 523
        },
        "outputId": "e4a94dae-4a8d-4658-a6c5-578fb397bad4"
      },
      "outputs": [
        {
          "output_type": "execute_result",
          "data": {
            "text/plain": [
              "<seaborn.axisgrid.FacetGrid at 0x7c38d74fcac0>"
            ]
          },
          "metadata": {},
          "execution_count": 13
        },
        {
          "output_type": "display_data",
          "data": {
            "text/plain": [
              "<Figure size 500x500 with 1 Axes>"
            ],
            "image/png": "[encoded data removed]"
          },
          "metadata": {}
        }
      ],
      "source": [
        "sns.displot(dataset['Vmag'],kind='kde',color='orange' )"
      ]
    },
    {
      "cell_type": "code",
      "execution_count": 14,
      "metadata": {
        "id": "BXKHq9zICi8W",
        "colab": {
          "base_uri": "https://localhost:8080/",
          "height": 624
        },
        "outputId": "d64d3b4b-04b7-4503-b9fd-02dc04564447"
      },
      "outputs": [
        {
          "output_type": "execute_result",
          "data": {
            "text/plain": [
              "<seaborn.axisgrid.JointGrid at 0x7c38d7579330>"
            ]
          },
          "metadata": {},
          "execution_count": 14
        },
        {
          "output_type": "display_data",
          "data": {
            "text/plain": [
              "<Figure size 600x600 with 3 Axes>"
            ],
            "image/png": "[encoded data removed]"
          },
          "metadata": {}
        }
      ],
      "source": [
        "sns.jointplot(data=dataset,x='Amag',y='Vmag')"
      ]
    },
    {
      "cell_type": "code",
      "execution_count": 15,
      "metadata": {
        "id": "EaQZCWCTDHik",
        "colab": {
          "base_uri": "https://localhost:8080/",
          "height": 419
        },
        "outputId": "9509f7a2-09ee-4f2d-93a7-efe4aa3fc7b7"
      },
      "outputs": [
        {
          "output_type": "execute_result",
          "data": {
            "text/plain": [
              "      Vmag    Plx  e_Plx    B-V       Amag  TargetClass\n",
              "0     5.99  13.73   0.58  1.318  16.678352            0\n",
              "1     8.70   2.31   1.29 -0.045  15.518060            0\n",
              "2     5.77   5.50   1.03  0.855  14.471813            0\n",
              "3     6.72   5.26   0.74 -0.015  15.324928            1\n",
              "4     8.76  13.44   1.16  0.584  19.401997            1\n",
              "...    ...    ...    ...    ...        ...          ...\n",
              "3637  7.29   3.26   0.95  1.786  14.856089            0\n",
              "3638  8.29   6.38   1.00  0.408  17.314104            1\n",
              "3639  6.11   2.42   0.79  1.664  13.029078            0\n",
              "3640  7.94   4.94   2.90  0.210  16.408636            1\n",
              "3641  8.81   1.87   1.23  1.176  15.169209            0\n",
              "\n",
              "[3642 rows x 6 columns]"
            ],
            "text/html": [
              "\n",
              "  <div id=\"df-d0af85b6-46b7-4cc9-a4dd-d7d9d269304c\" class=\"colab-df-container\">\n",
              "    <div>\n",
              "<style scoped>\n",
              "    .dataframe tbody tr th:only-of-type {\n",
              "        vertical-align: middle;\n",
              "    }\n",
              "\n",
              "    .dataframe tbody tr th {\n",
              "        vertical-align: top;\n",
              "    }\n",
              "\n",
              "    .dataframe thead th {\n",
              "        text-align: right;\n",
              "    }\n",
              "</style>\n",
              "<table border=\"1\" class=\"dataframe\">\n",
              "  <thead>\n",
              "    <tr style=\"text-align: right;\">\n",
              "      <th></th>\n",
              "      <th>Vmag</th>\n",
              "      <th>Plx</th>\n",
              "      <th>e_Plx</th>\n",
              "      <th>B-V</th>\n",
              "      <th>Amag</th>\n",
              "      <th>TargetClass</th>\n",
              "    </tr>\n",
              "  </thead>\n",
              "  <tbody>\n",
              "    <tr>\n",
              "      <th>0</th>\n",
              "      <td>5.99</td>\n",
              "      <td>13.73</td>\n",
              "      <td>0.58</td>\n",
              "      <td>1.318</td>\n",
              "      <td>16.678352</td>\n",
              "      <td>0</td>\n",
              "    </tr>\n",
              "    <tr>\n",
              "      <th>1</th>\n",
              "      <td>8.70</td>\n",
              "      <td>2.31</td>\n",
              "      <td>1.29</td>\n",
              "      <td>-0.045</td>\n",
              "      <td>15.518060</td>\n",
              "      <td>0</td>\n",
              "    </tr>\n",
              "    <tr>\n",
              "      <th>2</th>\n",
              "      <td>5.77</td>\n",
              "      <td>5.50</td>\n",
              "      <td>1.03</td>\n",
              "      <td>0.855</td>\n",
              "      <td>14.471813</td>\n",
              "      <td>0</td>\n",
              "    </tr>\n",
              "    <tr>\n",
              "      <th>3</th>\n",
              "      <td>6.72</td>\n",
              "      <td>5.26</td>\n",
              "      <td>0.74</td>\n",
              "      <td>-0.015</td>\n",
              "      <td>15.324928</td>\n",
              "      <td>1</td>\n",
              "    </tr>\n",
              "    <tr>\n",
              "      <th>4</th>\n",
              "      <td>8.76</td>\n",
              "      <td>13.44</td>\n",
              "      <td>1.16</td>\n",
              "      <td>0.584</td>\n",
              "      <td>19.401997</td>\n",
              "      <td>1</td>\n",
              "    </tr>\n",
              "    <tr>\n",
              "      <th>...</th>\n",
              "      <td>...</td>\n",
              "      <td>...</td>\n",
              "      <td>...</td>\n",
              "      <td>...</td>\n",
              "      <td>...</td>\n",
              "      <td>...</td>\n",
              "    </tr>\n",
              "    <tr>\n",
              "      <th>3637</th>\n",
              "      <td>7.29</td>\n",
              "      <td>3.26</td>\n",
              "      <td>0.95</td>\n",
              "      <td>1.786</td>\n",
              "      <td>14.856089</td>\n",
              "      <td>0</td>\n",
              "    </tr>\n",
              "    <tr>\n",
              "      <th>3638</th>\n",
              "      <td>8.29</td>\n",
              "      <td>6.38</td>\n",
              "      <td>1.00</td>\n",
              "      <td>0.408</td>\n",
              "      <td>17.314104</td>\n",
              "      <td>1</td>\n",
              "    </tr>\n",
              "    <tr>\n",
              "      <th>3639</th>\n",
              "      <td>6.11</td>\n",
              "      <td>2.42</td>\n",
              "      <td>0.79</td>\n",
              "      <td>1.664</td>\n",
              "      <td>13.029078</td>\n",
              "      <td>0</td>\n",
              "    </tr>\n",
              "    <tr>\n",
              "      <th>3640</th>\n",
              "      <td>7.94</td>\n",
              "      <td>4.94</td>\n",
              "      <td>2.90</td>\n",
              "      <td>0.210</td>\n",
              "      <td>16.408636</td>\n",
              "      <td>1</td>\n",
              "    </tr>\n",
              "    <tr>\n",
              "      <th>3641</th>\n",
              "      <td>8.81</td>\n",
              "      <td>1.87</td>\n",
              "      <td>1.23</td>\n",
              "      <td>1.176</td>\n",
              "      <td>15.169209</td>\n",
              "      <td>0</td>\n",
              "    </tr>\n",
              "  </tbody>\n",
              "</table>\n",
              "<p>3642 rows × 6 columns</p>\n",
              "</div>\n",
              "    <div class=\"colab-df-buttons\">\n",
              "\n",
              "  <div class=\"colab-df-container\">\n",
              "    <button class=\"colab-df-convert\" onclick=\"convertToInteractive('df-d0af85b6-46b7-4cc9-a4dd-d7d9d269304c')\"\n",
              "            title=\"Convert this dataframe to an interactive table.\"\n",
              "            style=\"display:none;\">\n",
              "\n",
              "  <svg xmlns=\"http://www.w3.org/2000/svg\" height=\"24px\" viewBox=\"0 -960 960 960\">\n",
              "    <path d=\"M120-120v-720h720v720H120Zm60-500h600v-160H180v160Zm220 220h160v-160H400v160Zm0 220h160v-160H400v160ZM180-400h160v-160H180v160Zm440 0h160v-160H620v160ZM180-180h160v-160H180v160Zm440 0h160v-160H620v160Z\"/>\n",
              "  </svg>\n",
              "    </button>\n",
              "\n",
              "  <style>\n",
              "    .colab-df-container {\n",
              "      display:flex;\n",
              "      gap: 12px;\n",
              "    }\n",
              "\n",
              "    .colab-df-convert {\n",
              "      background-color: #E8F0FE;\n",
              "      border: none;\n",
              "      border-radius: 50%;\n",
              "      cursor: pointer;\n",
              "      display: none;\n",
              "      fill: #1967D2;\n",
              "      height: 32px;\n",
              "      padding: 0 0 0 0;\n",
              "      width: 32px;\n",
              "    }\n",
              "\n",
              "    .colab-df-convert:hover {\n",
              "      background-color: #E2EBFA;\n",
              "      box-shadow: 0px 1px 2px rgba(60, 64, 67, 0.3), 0px 1px 3px 1px rgba(60, 64, 67, 0.15);\n",
              "      fill: #174EA6;\n",
              "    }\n",
              "\n",
              "    .colab-df-buttons div {\n",
              "      margin-bottom: 4px;\n",
              "    }\n",
              "\n",
              "    [theme=dark] .colab-df-convert {\n",
              "      background-color: #3B4455;\n",
              "      fill: #D2E3FC;\n",
              "    }\n",
              "\n",
              "    [theme=dark] .colab-df-convert:hover {\n",
              "      background-color: #434B5C;\n",
              "      box-shadow: 0px 1px 3px 1px rgba(0, 0, 0, 0.15);\n",
              "      filter: drop-shadow(0px 1px 2px rgba(0, 0, 0, 0.3));\n",
              "      fill: #FFFFFF;\n",
              "    }\n",
              "  </style>\n",
              "\n",
              "    <script>\n",
              "      const buttonEl =\n",
              "        document.querySelector('#df-d0af85b6-46b7-4cc9-a4dd-d7d9d269304c button.colab-df-convert');\n",
              "      buttonEl.style.display =\n",
              "        google.colab.kernel.accessAllowed ? 'block' : 'none';\n",
              "\n",
              "      async function convertToInteractive(key) {\n",
              "        const element = document.querySelector('#df-d0af85b6-46b7-4cc9-a4dd-d7d9d269304c');\n",
              "        const dataTable =\n",
              "          await google.colab.kernel.invokeFunction('convertToInteractive',\n",
              "                                                    [key], {});\n",
              "        if (!dataTable) return;\n",
              "\n",
              "        const docLinkHtml = 'Like what you see? Visit the ' +\n",
              "          '<a target=\"_blank\" href=https://colab.research.google.com/notebooks/data_table.ipynb>data table notebook</a>'\n",
              "          + ' to learn more about interactive tables.';\n",
              "        element.innerHTML = '';\n",
              "        dataTable['output_type'] = 'display_data';\n",
              "        await google.colab.output.renderOutput(dataTable, element);\n",
              "        const docLink = document.createElement('div');\n",
              "        docLink.innerHTML = docLinkHtml;\n",
              "        element.appendChild(docLink);\n",
              "      }\n",
              "    </script>\n",
              "  </div>\n",
              "\n",
              "\n",
              "<div id=\"df-4850eac7-4bec-4d3f-81f6-17d4c12e7dfa\">\n",
              "  <button class=\"colab-df-quickchart\" onclick=\"quickchart('df-4850eac7-4bec-4d3f-81f6-17d4c12e7dfa')\"\n",
              "            title=\"Suggest charts.\"\n",
              "            style=\"display:none;\">\n",
              "\n",
              "<svg xmlns=\"http://www.w3.org/2000/svg\" height=\"24px\"viewBox=\"0 0 24 24\"\n",
              "     width=\"24px\">\n",
              "    <g>\n",
              "        <path d=\"M19 3H5c-1.1 0-2 .9-2 2v14c0 1.1.9 2 2 2h14c1.1 0 2-.9 2-2V5c0-1.1-.9-2-2-2zM9 17H7v-7h2v7zm4 0h-2V7h2v10zm4 0h-2v-4h2v4z\"/>\n",
              "    </g>\n",
              "</svg>\n",
              "  </button>\n",
              "\n",
              "<style>\n",
              "  .colab-df-quickchart {\n",
              "      --bg-color: #E8F0FE;\n",
              "      --fill-color: #1967D2;\n",
              "      --hover-bg-color: #E2EBFA;\n",
              "      --hover-fill-color: #174EA6;\n",
              "      --disabled-fill-color: #AAA;\n",
              "      --disabled-bg-color: #DDD;\n",
              "  }\n",
              "\n",
              "  [theme=dark] .colab-df-quickchart {\n",
              "      --bg-color: #3B4455;\n",
              "      --fill-color: #D2E3FC;\n",
              "      --hover-bg-color: #434B5C;\n",
              "      --hover-fill-color: #FFFFFF;\n",
              "      --disabled-bg-color: #3B4455;\n",
              "      --disabled-fill-color: #666;\n",
              "  }\n",
              "\n",
              "  .colab-df-quickchart {\n",
              "    background-color: var(--bg-color);\n",
              "    border: none;\n",
              "    border-radius: 50%;\n",
              "    cursor: pointer;\n",
              "    display: none;\n",
              "    fill: var(--fill-color);\n",
              "    height: 32px;\n",
              "    padding: 0;\n",
              "    width: 32px;\n",
              "  }\n",
              "\n",
              "  .colab-df-quickchart:hover {\n",
              "    background-color: var(--hover-bg-color);\n",
              "    box-shadow: 0 1px 2px rgba(60, 64, 67, 0.3), 0 1px 3px 1px rgba(60, 64, 67, 0.15);\n",
              "    fill: var(--button-hover-fill-color);\n",
              "  }\n",
              "\n",
              "  .colab-df-quickchart-complete:disabled,\n",
              "  .colab-df-quickchart-complete:disabled:hover {\n",
              "    background-color: var(--disabled-bg-color);\n",
              "    fill: var(--disabled-fill-color);\n",
              "    box-shadow: none;\n",
              "  }\n",
              "\n",
              "  .colab-df-spinner {\n",
              "    border: 2px solid var(--fill-color);\n",
              "    border-color: transparent;\n",
              "    border-bottom-color: var(--fill-color);\n",
              "    animation:\n",
              "      spin 1s steps(1) infinite;\n",
              "  }\n",
              "\n",
              "  @keyframes spin {\n",
              "    0% {\n",
              "      border-color: transparent;\n",
              "      border-bottom-color: var(--fill-color);\n",
              "      border-left-color: var(--fill-color);\n",
              "    }\n",
              "    20% {\n",
              "      border-color: transparent;\n",
              "      border-left-color: var(--fill-color);\n",
              "      border-top-color: var(--fill-color);\n",
              "    }\n",
              "    30% {\n",
              "      border-color: transparent;\n",
              "      border-left-color: var(--fill-color);\n",
              "      border-top-color: var(--fill-color);\n",
              "      border-right-color: var(--fill-color);\n",
              "    }\n",
              "    40% {\n",
              "      border-color: transparent;\n",
              "      border-right-color: var(--fill-color);\n",
              "      border-top-color: var(--fill-color);\n",
              "    }\n",
              "    60% {\n",
              "      border-color: transparent;\n",
              "      border-right-color: var(--fill-color);\n",
              "    }\n",
              "    80% {\n",
              "      border-color: transparent;\n",
              "      border-right-color: var(--fill-color);\n",
              "      border-bottom-color: var(--fill-color);\n",
              "    }\n",
              "    90% {\n",
              "      border-color: transparent;\n",
              "      border-bottom-color: var(--fill-color);\n",
              "    }\n",
              "  }\n",
              "</style>\n",
              "\n",
              "  <script>\n",
              "    async function quickchart(key) {\n",
              "      const quickchartButtonEl =\n",
              "        document.querySelector('#' + key + ' button');\n",
              "      quickchartButtonEl.disabled = true;  // To prevent multiple clicks.\n",
              "      quickchartButtonEl.classList.add('colab-df-spinner');\n",
              "      try {\n",
              "        const charts = await google.colab.kernel.invokeFunction(\n",
              "            'suggestCharts', [key], {});\n",
              "      } catch (error) {\n",
              "        console.error('Error during call to suggestCharts:', error);\n",
              "      }\n",
              "      quickchartButtonEl.classList.remove('colab-df-spinner');\n",
              "      quickchartButtonEl.classList.add('colab-df-quickchart-complete');\n",
              "    }\n",
              "    (() => {\n",
              "      let quickchartButtonEl =\n",
              "        document.querySelector('#df-4850eac7-4bec-4d3f-81f6-17d4c12e7dfa button');\n",
              "      quickchartButtonEl.style.display =\n",
              "        google.colab.kernel.accessAllowed ? 'block' : 'none';\n",
              "    })();\n",
              "  </script>\n",
              "</div>\n",
              "    </div>\n",
              "  </div>\n"
            ]
          },
          "metadata": {},
          "execution_count": 15
        }
      ],
      "source": [
        "dataset"
      ]
    },
    {
      "cell_type": "code",
      "execution_count": 16,
      "metadata": {
        "id": "9lGjUSeWExXd"
      },
      "outputs": [],
      "source": [
        "X=dataset.iloc[:,:-1].values\n",
        "y=dataset.iloc[:,-1].values"
      ]
    },
    {
      "cell_type": "code",
      "execution_count": 17,
      "metadata": {
        "id": "n14xQkG8E6s3",
        "colab": {
          "base_uri": "https://localhost:8080/"
        },
        "outputId": "c20dbd76-409a-49dc-fd70-4b8672406808"
      },
      "outputs": [
        {
          "output_type": "execute_result",
          "data": {
            "text/plain": [
              "array([[ 5.99    , 13.73    ,  0.58    ,  1.318   , 16.678352],\n",
              "       [ 8.7     ,  2.31    ,  1.29    , -0.045   , 15.51806 ],\n",
              "       [ 5.77    ,  5.5     ,  1.03    ,  0.855   , 14.471813],\n",
              "       ...,\n",
              "       [ 6.11    ,  2.42    ,  0.79    ,  1.664   , 13.029078],\n",
              "       [ 7.94    ,  4.94    ,  2.9     ,  0.21    , 16.408636],\n",
              "       [ 8.81    ,  1.87    ,  1.23    ,  1.176   , 15.169209]])"
            ]
          },
          "metadata": {},
          "execution_count": 17
        }
      ],
      "source": [
        "X"
      ]
    },
    {
      "cell_type": "code",
      "execution_count": 18,
      "metadata": {
        "id": "YyaznuxmE8FB",
        "colab": {
          "base_uri": "https://localhost:8080/"
        },
        "outputId": "0e7e37d7-0e3d-4c36-c9ec-dc982a08b473"
      },
      "outputs": [
        {
          "output_type": "execute_result",
          "data": {
            "text/plain": [
              "array([0, 0, 0, ..., 0, 1, 0])"
            ]
          },
          "metadata": {},
          "execution_count": 18
        }
      ],
      "source": [
        "y"
      ]
    },
    {
      "cell_type": "code",
      "execution_count": 19,
      "metadata": {
        "id": "K_DIajSfE93U"
      },
      "outputs": [],
      "source": [
        "from sklearn.model_selection import train_test_split\n",
        "X_train, X_test, y_train, y_test = train_test_split(X, y, test_size = 0.2, random_state = 0)"
      ]
    },
    {
      "cell_type": "code",
      "execution_count": 20,
      "metadata": {
        "id": "utHxH0m1MIU1"
      },
      "outputs": [],
      "source": [
        "from sklearn.preprocessing import StandardScaler\n",
        "sc = StandardScaler()\n",
        "X_train = sc.fit_transform(X_train)\n",
        "X_test = sc.transform(X_test)"
      ]
    },
    {
      "cell_type": "code",
      "execution_count": 21,
      "metadata": {
        "id": "YaxJa1QoMM6c"
      },
      "outputs": [],
      "source": [
        "from sklearn.linear_model import LogisticRegression"
      ]
    },
    {
      "cell_type": "code",
      "execution_count": 22,
      "metadata": {
        "id": "fvPPU8PMMrZm"
      },
      "outputs": [],
      "source": [
        "lr=LogisticRegression()"
      ]
    },
    {
      "cell_type": "code",
      "execution_count": 23,
      "metadata": {
        "id": "s9ZNJRV7Mza5",
        "colab": {
          "base_uri": "https://localhost:8080/",
          "height": 74
        },
        "outputId": "3962db55-e8ea-4888-f54e-00ecc4bca89f"
      },
      "outputs": [
        {
          "output_type": "execute_result",
          "data": {
            "text/plain": [
              "LogisticRegression()"
            ],
            "text/html": [
              "<style>#sk-container-id-1 {color: black;background-color: white;}#sk-container-id-1 pre{padding: 0;}#sk-container-id-1 div.sk-toggleable {background-color: white;}#sk-container-id-1 label.sk-toggleable__label {cursor: pointer;display: block;width: 100%;margin-bottom: 0;padding: 0.3em;box-sizing: border-box;text-align: center;}#sk-container-id-1 label.sk-toggleable__label-arrow:before {content: \"▸\";float: left;margin-right: 0.25em;color: #696969;}#sk-container-id-1 label.sk-toggleable__label-arrow:hover:before {color: black;}#sk-container-id-1 div.sk-estimator:hover label.sk-toggleable__label-arrow:before {color: black;}#sk-container-id-1 div.sk-toggleable__content {max-height: 0;max-width: 0;overflow: hidden;text-align: left;background-color: #f0f8ff;}#sk-container-id-1 div.sk-toggleable__content pre {margin: 0.2em;color: black;border-radius: 0.25em;background-color: #f0f8ff;}#sk-container-id-1 input.sk-toggleable__control:checked~div.sk-toggleable__content {max-height: 200px;max-width: 100%;overflow: auto;}#sk-container-id-1 input.sk-toggleable__control:checked~label.sk-toggleable__label-arrow:before {content: \"▾\";}#sk-container-id-1 div.sk-estimator input.sk-toggleable__control:checked~label.sk-toggleable__label {background-color: #d4ebff;}#sk-container-id-1 div.sk-label input.sk-toggleable__control:checked~label.sk-toggleable__label {background-color: #d4ebff;}#sk-container-id-1 input.sk-hidden--visually {border: 0;clip: rect(1px 1px 1px 1px);clip: rect(1px, 1px, 1px, 1px);height: 1px;margin: -1px;overflow: hidden;padding: 0;position: absolute;width: 1px;}#sk-container-id-1 div.sk-estimator {font-family: monospace;background-color: #f0f8ff;border: 1px dotted black;border-radius: 0.25em;box-sizing: border-box;margin-bottom: 0.5em;}#sk-container-id-1 div.sk-estimator:hover {background-color: #d4ebff;}#sk-container-id-1 div.sk-parallel-item::after {content: \"\";width: 100%;border-bottom: 1px solid gray;flex-grow: 1;}#sk-container-id-1 div.sk-label:hover label.sk-toggleable__label {background-color: #d4ebff;}#sk-container-id-1 div.sk-serial::before {content: \"\";position: absolute;border-left: 1px solid gray;box-sizing: border-box;top: 0;bottom: 0;left: 50%;z-index: 0;}#sk-container-id-1 div.sk-serial {display: flex;flex-direction: column;align-items: center;background-color: white;padding-right: 0.2em;padding-left: 0.2em;position: relative;}#sk-container-id-1 div.sk-item {position: relative;z-index: 1;}#sk-container-id-1 div.sk-parallel {display: flex;align-items: stretch;justify-content: center;background-color: white;position: relative;}#sk-container-id-1 div.sk-item::before, #sk-container-id-1 div.sk-parallel-item::before {content: \"\";position: absolute;border-left: 1px solid gray;box-sizing: border-box;top: 0;bottom: 0;left: 50%;z-index: -1;}#sk-container-id-1 div.sk-parallel-item {display: flex;flex-direction: column;z-index: 1;position: relative;background-color: white;}#sk-container-id-1 div.sk-parallel-item:first-child::after {align-self: flex-end;width: 50%;}#sk-container-id-1 div.sk-parallel-item:last-child::after {align-self: flex-start;width: 50%;}#sk-container-id-1 div.sk-parallel-item:only-child::after {width: 0;}#sk-container-id-1 div.sk-dashed-wrapped {border: 1px dashed gray;margin: 0 0.4em 0.5em 0.4em;box-sizing: border-box;padding-bottom: 0.4em;background-color: white;}#sk-container-id-1 div.sk-label label {font-family: monospace;font-weight: bold;display: inline-block;line-height: 1.2em;}#sk-container-id-1 div.sk-label-container {text-align: center;}#sk-container-id-1 div.sk-container {/* jupyter's `normalize.less` sets `[hidden] { display: none; }` but bootstrap.min.css set `[hidden] { display: none !important; }` so we also need the `!important` here to be able to override the default hidden behavior on the sphinx rendered scikit-learn.org. See: https://github.com/scikit-learn/scikit-learn/issues/21755 */display: inline-block !important;position: relative;}#sk-container-id-1 div.sk-text-repr-fallback {display: none;}</style><div id=\"sk-container-id-1\" class=\"sk-top-container\"><div class=\"sk-text-repr-fallback\"><pre>LogisticRegression()</pre><b>In a Jupyter environment, please rerun this cell to show the HTML representation or trust the notebook. <br />On GitHub, the HTML representation is unable to render, please try loading this page with nbviewer.org.</b></div><div class=\"sk-container\" hidden><div class=\"sk-item\"><div class=\"sk-estimator sk-toggleable\"><input class=\"sk-toggleable__control sk-hidden--visually\" id=\"sk-estimator-id-1\" type=\"checkbox\" checked><label for=\"sk-estimator-id-1\" class=\"sk-toggleable__label sk-toggleable__label-arrow\">LogisticRegression</label><div class=\"sk-toggleable__content\"><pre>LogisticRegression()</pre></div></div></div></div></div>"
            ]
          },
          "metadata": {},
          "execution_count": 23
        }
      ],
      "source": [
        "lr.fit(X_train,y_train)"
      ]
    },
    {
      "cell_type": "code",
      "execution_count": 24,
      "metadata": {
        "id": "EHOCaHt5M2Si"
      },
      "outputs": [],
      "source": [
        "y_pred=lr.predict(X_test)"
      ]
    },
    {
      "cell_type": "code",
      "execution_count": 25,
      "metadata": {
        "id": "f1zjVnxAM6D9",
        "colab": {
          "base_uri": "https://localhost:8080/"
        },
        "outputId": "60a56b1a-8772-40ad-b1b2-99a322f3ee3a"
      },
      "outputs": [
        {
          "output_type": "stream",
          "name": "stdout",
          "text": [
            "[[0 0]\n",
            " [1 1]\n",
            " [0 0]\n",
            " ...\n",
            " [1 1]\n",
            " [1 1]\n",
            " [1 1]]\n"
          ]
        }
      ],
      "source": [
        "print(np.concatenate((y_pred.reshape(len(y_pred),1),y_test.reshape(len(y_test),1)),1))"
      ]
    },
    {
      "cell_type": "code",
      "execution_count": 26,
      "metadata": {
        "id": "b5ynQC_ZNBx2",
        "colab": {
          "base_uri": "https://localhost:8080/"
        },
        "outputId": "fa105e24-bbea-4f9d-b152-dac280ccdd1b"
      },
      "outputs": [
        {
          "output_type": "execute_result",
          "data": {
            "text/plain": [
              "0.8930041152263375"
            ]
          },
          "metadata": {},
          "execution_count": 26
        }
      ],
      "source": [
        "from sklearn.metrics import accuracy_score\n",
        "accuracy_score(y_test, y_pred)"
      ]
    },
    {
      "cell_type": "code",
      "execution_count": 27,
      "metadata": {
        "id": "sUMnl-XfNMH0",
        "colab": {
          "base_uri": "https://localhost:8080/"
        },
        "outputId": "69a694ae-6ed2-4795-9be3-2a1929a0ff21"
      },
      "outputs": [
        {
          "output_type": "stream",
          "name": "stdout",
          "text": [
            "[[328  42]\n",
            " [ 36 323]]\n"
          ]
        }
      ],
      "source": [
        "from sklearn.metrics import confusion_matrix\n",
        "print(confusion_matrix(y_test,y_pred))\n"
      ]
    },
    {
      "cell_type": "code",
      "execution_count": 28,
      "metadata": {
        "id": "gB0hCimeNUfA",
        "colab": {
          "base_uri": "https://localhost:8080/"
        },
        "outputId": "5f0e7aab-ea42-407d-a848-3b458d8fa664"
      },
      "outputs": [
        {
          "output_type": "stream",
          "name": "stdout",
          "text": [
            "              precision    recall  f1-score   support\n",
            "\n",
            "           0       0.90      0.89      0.89       370\n",
            "           1       0.88      0.90      0.89       359\n",
            "\n",
            "    accuracy                           0.89       729\n",
            "   macro avg       0.89      0.89      0.89       729\n",
            "weighted avg       0.89      0.89      0.89       729\n",
            "\n"
          ]
        }
      ],
      "source": [
        "from sklearn.metrics import classification_report #Precision, recall, f1-score and support\n",
        "print(classification_report(y_test, y_pred))"
      ]
    },
    {
      "cell_type": "code",
      "execution_count": 29,
      "metadata": {
        "id": "14uoRf7WNbLc"
      },
      "outputs": [],
      "source": [
        "from sklearn.svm import SVC"
      ]
    },
    {
      "cell_type": "code",
      "execution_count": 30,
      "metadata": {
        "id": "rIHodhVhOQH5"
      },
      "outputs": [],
      "source": [
        "svc=SVC()"
      ]
    },
    {
      "cell_type": "code",
      "execution_count": 31,
      "metadata": {
        "id": "WPbD6ZixOG2v",
        "colab": {
          "base_uri": "https://localhost:8080/"
        },
        "outputId": "3ca158e3-63a4-4c3e-858f-61e687c2592c"
      },
      "outputs": [
        {
          "output_type": "stream",
          "name": "stdout",
          "text": [
            "Best Accuracy: 90.18 %\n",
            "Best Parameters: {'C': 1, 'gamma': 0.2, 'kernel': 'rbf'}\n"
          ]
        }
      ],
      "source": [
        "from sklearn.model_selection import GridSearchCV\n",
        "parameters = [{'C': [0.25, 0.5, 0.75, 1], 'kernel': ['linear']},\n",
        "              {'C': [0.25, 0.5, 0.75, 1], 'kernel': ['rbf'], 'gamma': [0.1, 0.2, 0.3, 0.4, 0.5, 0.6, 0.7, 0.8, 0.9]}]\n",
        "grid_search = GridSearchCV(estimator = svc,\n",
        "                           param_grid = parameters,\n",
        "                           scoring = 'accuracy',\n",
        "                           cv = 10,\n",
        "                           n_jobs = -1)\n",
        "grid_search.fit(X_train, y_train)\n",
        "best_accuracy = grid_search.best_score_\n",
        "best_parameters = grid_search.best_params_\n",
        "print(\"Best Accuracy: {:.2f} %\".format(best_accuracy*100))\n",
        "print(\"Best Parameters:\", best_parameters)"
      ]
    },
    {
      "cell_type": "code",
      "execution_count": 32,
      "metadata": {
        "id": "irYkdSAuOpKL"
      },
      "outputs": [],
      "source": [
        "svc=SVC(C=1, kernel='rbf',gamma = 0.2)"
      ]
    },
    {
      "cell_type": "code",
      "execution_count": 33,
      "metadata": {
        "id": "0_ZLH3YDO0Gg",
        "colab": {
          "base_uri": "https://localhost:8080/",
          "height": 74
        },
        "outputId": "11b56e80-1ba6-4260-cbd1-aa93a2facdfa"
      },
      "outputs": [
        {
          "output_type": "execute_result",
          "data": {
            "text/plain": [
              "SVC(C=1, gamma=0.2)"
            ],
            "text/html": [
              "<style>#sk-container-id-2 {color: black;background-color: white;}#sk-container-id-2 pre{padding: 0;}#sk-container-id-2 div.sk-toggleable {background-color: white;}#sk-container-id-2 label.sk-toggleable__label {cursor: pointer;display: block;width: 100%;margin-bottom: 0;padding: 0.3em;box-sizing: border-box;text-align: center;}#sk-container-id-2 label.sk-toggleable__label-arrow:before {content: \"▸\";float: left;margin-right: 0.25em;color: #696969;}#sk-container-id-2 label.sk-toggleable__label-arrow:hover:before {color: black;}#sk-container-id-2 div.sk-estimator:hover label.sk-toggleable__label-arrow:before {color: black;}#sk-container-id-2 div.sk-toggleable__content {max-height: 0;max-width: 0;overflow: hidden;text-align: left;background-color: #f0f8ff;}#sk-container-id-2 div.sk-toggleable__content pre {margin: 0.2em;color: black;border-radius: 0.25em;background-color: #f0f8ff;}#sk-container-id-2 input.sk-toggleable__control:checked~div.sk-toggleable__content {max-height: 200px;max-width: 100%;overflow: auto;}#sk-container-id-2 input.sk-toggleable__control:checked~label.sk-toggleable__label-arrow:before {content: \"▾\";}#sk-container-id-2 div.sk-estimator input.sk-toggleable__control:checked~label.sk-toggleable__label {background-color: #d4ebff;}#sk-container-id-2 div.sk-label input.sk-toggleable__control:checked~label.sk-toggleable__label {background-color: #d4ebff;}#sk-container-id-2 input.sk-hidden--visually {border: 0;clip: rect(1px 1px 1px 1px);clip: rect(1px, 1px, 1px, 1px);height: 1px;margin: -1px;overflow: hidden;padding: 0;position: absolute;width: 1px;}#sk-container-id-2 div.sk-estimator {font-family: monospace;background-color: #f0f8ff;border: 1px dotted black;border-radius: 0.25em;box-sizing: border-box;margin-bottom: 0.5em;}#sk-container-id-2 div.sk-estimator:hover {background-color: #d4ebff;}#sk-container-id-2 div.sk-parallel-item::after {content: \"\";width: 100%;border-bottom: 1px solid gray;flex-grow: 1;}#sk-container-id-2 div.sk-label:hover label.sk-toggleable__label {background-color: #d4ebff;}#sk-container-id-2 div.sk-serial::before {content: \"\";position: absolute;border-left: 1px solid gray;box-sizing: border-box;top: 0;bottom: 0;left: 50%;z-index: 0;}#sk-container-id-2 div.sk-serial {display: flex;flex-direction: column;align-items: center;background-color: white;padding-right: 0.2em;padding-left: 0.2em;position: relative;}#sk-container-id-2 div.sk-item {position: relative;z-index: 1;}#sk-container-id-2 div.sk-parallel {display: flex;align-items: stretch;justify-content: center;background-color: white;position: relative;}#sk-container-id-2 div.sk-item::before, #sk-container-id-2 div.sk-parallel-item::before {content: \"\";position: absolute;border-left: 1px solid gray;box-sizing: border-box;top: 0;bottom: 0;left: 50%;z-index: -1;}#sk-container-id-2 div.sk-parallel-item {display: flex;flex-direction: column;z-index: 1;position: relative;background-color: white;}#sk-container-id-2 div.sk-parallel-item:first-child::after {align-self: flex-end;width: 50%;}#sk-container-id-2 div.sk-parallel-item:last-child::after {align-self: flex-start;width: 50%;}#sk-container-id-2 div.sk-parallel-item:only-child::after {width: 0;}#sk-container-id-2 div.sk-dashed-wrapped {border: 1px dashed gray;margin: 0 0.4em 0.5em 0.4em;box-sizing: border-box;padding-bottom: 0.4em;background-color: white;}#sk-container-id-2 div.sk-label label {font-family: monospace;font-weight: bold;display: inline-block;line-height: 1.2em;}#sk-container-id-2 div.sk-label-container {text-align: center;}#sk-container-id-2 div.sk-container {/* jupyter's `normalize.less` sets `[hidden] { display: none; }` but bootstrap.min.css set `[hidden] { display: none !important; }` so we also need the `!important` here to be able to override the default hidden behavior on the sphinx rendered scikit-learn.org. See: https://github.com/scikit-learn/scikit-learn/issues/21755 */display: inline-block !important;position: relative;}#sk-container-id-2 div.sk-text-repr-fallback {display: none;}</style><div id=\"sk-container-id-2\" class=\"sk-top-container\"><div class=\"sk-text-repr-fallback\"><pre>SVC(C=1, gamma=0.2)</pre><b>In a Jupyter environment, please rerun this cell to show the HTML representation or trust the notebook. <br />On GitHub, the HTML representation is unable to render, please try loading this page with nbviewer.org.</b></div><div class=\"sk-container\" hidden><div class=\"sk-item\"><div class=\"sk-estimator sk-toggleable\"><input class=\"sk-toggleable__control sk-hidden--visually\" id=\"sk-estimator-id-2\" type=\"checkbox\" checked><label for=\"sk-estimator-id-2\" class=\"sk-toggleable__label sk-toggleable__label-arrow\">SVC</label><div class=\"sk-toggleable__content\"><pre>SVC(C=1, gamma=0.2)</pre></div></div></div></div></div>"
            ]
          },
          "metadata": {},
          "execution_count": 33
        }
      ],
      "source": [
        "svc.fit(X_train,y_train)"
      ]
    },
    {
      "cell_type": "code",
      "execution_count": 34,
      "metadata": {
        "id": "ZmKeN3ivO47o"
      },
      "outputs": [],
      "source": [
        "y_svc=svc.predict(X_test)"
      ]
    },
    {
      "cell_type": "code",
      "execution_count": 35,
      "metadata": {
        "id": "J8fTl1rdPBXz",
        "colab": {
          "base_uri": "https://localhost:8080/"
        },
        "outputId": "848397f2-05c9-4222-e40e-d13423a24bdc"
      },
      "outputs": [
        {
          "output_type": "stream",
          "name": "stdout",
          "text": [
            "[[0 0]\n",
            " [1 1]\n",
            " [0 0]\n",
            " ...\n",
            " [1 1]\n",
            " [1 1]\n",
            " [1 1]]\n"
          ]
        }
      ],
      "source": [
        "print(np.concatenate((y_svc.reshape(len(y_svc),1),y_test.reshape(len(y_test),1)),1))"
      ]
    },
    {
      "cell_type": "code",
      "execution_count": 36,
      "metadata": {
        "id": "Co5rt7HsPJTD",
        "colab": {
          "base_uri": "https://localhost:8080/"
        },
        "outputId": "c13170b4-e8cb-4d24-f448-8e0383ba835c"
      },
      "outputs": [
        {
          "output_type": "execute_result",
          "data": {
            "text/plain": [
              "0.8888888888888888"
            ]
          },
          "metadata": {},
          "execution_count": 36
        }
      ],
      "source": [
        "from sklearn.metrics import accuracy_score\n",
        "accuracy_score(y_test, y_svc)"
      ]
    },
    {
      "cell_type": "code",
      "execution_count": 37,
      "metadata": {
        "id": "T7N3ryeLPPXV",
        "colab": {
          "base_uri": "https://localhost:8080/"
        },
        "outputId": "40c4770f-ea6a-4e82-8623-a42b7cbeebdc"
      },
      "outputs": [
        {
          "output_type": "stream",
          "name": "stdout",
          "text": [
            "[[328  42]\n",
            " [ 39 320]]\n"
          ]
        }
      ],
      "source": [
        "from sklearn.metrics import confusion_matrix\n",
        "print(confusion_matrix(y_test,y_svc))\n"
      ]
    },
    {
      "cell_type": "code",
      "execution_count": 38,
      "metadata": {
        "id": "urvoxvh0Pfbh",
        "colab": {
          "base_uri": "https://localhost:8080/"
        },
        "outputId": "e784dd81-ca21-4754-f1b0-1116eb819887"
      },
      "outputs": [
        {
          "output_type": "stream",
          "name": "stdout",
          "text": [
            "              precision    recall  f1-score   support\n",
            "\n",
            "           0       0.89      0.89      0.89       370\n",
            "           1       0.88      0.89      0.89       359\n",
            "\n",
            "    accuracy                           0.89       729\n",
            "   macro avg       0.89      0.89      0.89       729\n",
            "weighted avg       0.89      0.89      0.89       729\n",
            "\n"
          ]
        }
      ],
      "source": [
        "from sklearn.metrics import classification_report #Precision, recall, f1-score and support\n",
        "print(classification_report(y_test, y_svc))"
      ]
    },
    {
      "cell_type": "code",
      "execution_count": 39,
      "metadata": {
        "id": "3HTTvX9FPkyj"
      },
      "outputs": [],
      "source": [
        "from sklearn.naive_bayes import GaussianNB"
      ]
    },
    {
      "cell_type": "code",
      "execution_count": 40,
      "metadata": {
        "id": "WkKny4T1PxGi"
      },
      "outputs": [],
      "source": [
        "gb=GaussianNB()"
      ]
    },
    {
      "cell_type": "code",
      "execution_count": 41,
      "metadata": {
        "id": "wb9fSjGQP0Fw",
        "colab": {
          "base_uri": "https://localhost:8080/",
          "height": 74
        },
        "outputId": "fc601d29-1838-4d7a-e7a2-2bb598b2f881"
      },
      "outputs": [
        {
          "output_type": "execute_result",
          "data": {
            "text/plain": [
              "GaussianNB()"
            ],
            "text/html": [
              "<style>#sk-container-id-3 {color: black;background-color: white;}#sk-container-id-3 pre{padding: 0;}#sk-container-id-3 div.sk-toggleable {background-color: white;}#sk-container-id-3 label.sk-toggleable__label {cursor: pointer;display: block;width: 100%;margin-bottom: 0;padding: 0.3em;box-sizing: border-box;text-align: center;}#sk-container-id-3 label.sk-toggleable__label-arrow:before {content: \"▸\";float: left;margin-right: 0.25em;color: #696969;}#sk-container-id-3 label.sk-toggleable__label-arrow:hover:before {color: black;}#sk-container-id-3 div.sk-estimator:hover label.sk-toggleable__label-arrow:before {color: black;}#sk-container-id-3 div.sk-toggleable__content {max-height: 0;max-width: 0;overflow: hidden;text-align: left;background-color: #f0f8ff;}#sk-container-id-3 div.sk-toggleable__content pre {margin: 0.2em;color: black;border-radius: 0.25em;background-color: #f0f8ff;}#sk-container-id-3 input.sk-toggleable__control:checked~div.sk-toggleable__content {max-height: 200px;max-width: 100%;overflow: auto;}#sk-container-id-3 input.sk-toggleable__control:checked~label.sk-toggleable__label-arrow:before {content: \"▾\";}#sk-container-id-3 div.sk-estimator input.sk-toggleable__control:checked~label.sk-toggleable__label {background-color: #d4ebff;}#sk-container-id-3 div.sk-label input.sk-toggleable__control:checked~label.sk-toggleable__label {background-color: #d4ebff;}#sk-container-id-3 input.sk-hidden--visually {border: 0;clip: rect(1px 1px 1px 1px);clip: rect(1px, 1px, 1px, 1px);height: 1px;margin: -1px;overflow: hidden;padding: 0;position: absolute;width: 1px;}#sk-container-id-3 div.sk-estimator {font-family: monospace;background-color: #f0f8ff;border: 1px dotted black;border-radius: 0.25em;box-sizing: border-box;margin-bottom: 0.5em;}#sk-container-id-3 div.sk-estimator:hover {background-color: #d4ebff;}#sk-container-id-3 div.sk-parallel-item::after {content: \"\";width: 100%;border-bottom: 1px solid gray;flex-grow: 1;}#sk-container-id-3 div.sk-label:hover label.sk-toggleable__label {background-color: #d4ebff;}#sk-container-id-3 div.sk-serial::before {content: \"\";position: absolute;border-left: 1px solid gray;box-sizing: border-box;top: 0;bottom: 0;left: 50%;z-index: 0;}#sk-container-id-3 div.sk-serial {display: flex;flex-direction: column;align-items: center;background-color: white;padding-right: 0.2em;padding-left: 0.2em;position: relative;}#sk-container-id-3 div.sk-item {position: relative;z-index: 1;}#sk-container-id-3 div.sk-parallel {display: flex;align-items: stretch;justify-content: center;background-color: white;position: relative;}#sk-container-id-3 div.sk-item::before, #sk-container-id-3 div.sk-parallel-item::before {content: \"\";position: absolute;border-left: 1px solid gray;box-sizing: border-box;top: 0;bottom: 0;left: 50%;z-index: -1;}#sk-container-id-3 div.sk-parallel-item {display: flex;flex-direction: column;z-index: 1;position: relative;background-color: white;}#sk-container-id-3 div.sk-parallel-item:first-child::after {align-self: flex-end;width: 50%;}#sk-container-id-3 div.sk-parallel-item:last-child::after {align-self: flex-start;width: 50%;}#sk-container-id-3 div.sk-parallel-item:only-child::after {width: 0;}#sk-container-id-3 div.sk-dashed-wrapped {border: 1px dashed gray;margin: 0 0.4em 0.5em 0.4em;box-sizing: border-box;padding-bottom: 0.4em;background-color: white;}#sk-container-id-3 div.sk-label label {font-family: monospace;font-weight: bold;display: inline-block;line-height: 1.2em;}#sk-container-id-3 div.sk-label-container {text-align: center;}#sk-container-id-3 div.sk-container {/* jupyter's `normalize.less` sets `[hidden] { display: none; }` but bootstrap.min.css set `[hidden] { display: none !important; }` so we also need the `!important` here to be able to override the default hidden behavior on the sphinx rendered scikit-learn.org. See: https://github.com/scikit-learn/scikit-learn/issues/21755 */display: inline-block !important;position: relative;}#sk-container-id-3 div.sk-text-repr-fallback {display: none;}</style><div id=\"sk-container-id-3\" class=\"sk-top-container\"><div class=\"sk-text-repr-fallback\"><pre>GaussianNB()</pre><b>In a Jupyter environment, please rerun this cell to show the HTML representation or trust the notebook. <br />On GitHub, the HTML representation is unable to render, please try loading this page with nbviewer.org.</b></div><div class=\"sk-container\" hidden><div class=\"sk-item\"><div class=\"sk-estimator sk-toggleable\"><input class=\"sk-toggleable__control sk-hidden--visually\" id=\"sk-estimator-id-3\" type=\"checkbox\" checked><label for=\"sk-estimator-id-3\" class=\"sk-toggleable__label sk-toggleable__label-arrow\">GaussianNB</label><div class=\"sk-toggleable__content\"><pre>GaussianNB()</pre></div></div></div></div></div>"
            ]
          },
          "metadata": {},
          "execution_count": 41
        }
      ],
      "source": [
        "gb.fit(X_train,y_train)"
      ]
    },
    {
      "cell_type": "code",
      "execution_count": 42,
      "metadata": {
        "id": "0dw-CJoBP3oa"
      },
      "outputs": [],
      "source": [
        "y_gb=gb.predict(X_test)"
      ]
    },
    {
      "cell_type": "code",
      "execution_count": 43,
      "metadata": {
        "id": "K2NAoXV6P7he",
        "colab": {
          "base_uri": "https://localhost:8080/"
        },
        "outputId": "b123e96f-4588-41c5-db40-b5f958a90d4f"
      },
      "outputs": [
        {
          "output_type": "stream",
          "name": "stdout",
          "text": [
            "[[0 0]\n",
            " [1 1]\n",
            " [0 0]\n",
            " ...\n",
            " [1 1]\n",
            " [1 1]\n",
            " [1 1]]\n"
          ]
        }
      ],
      "source": [
        "print(np.concatenate((y_gb.reshape(len(y_gb),1),y_test.reshape(len(y_test),1)),1))"
      ]
    },
    {
      "cell_type": "code",
      "execution_count": 44,
      "metadata": {
        "id": "u7sSQKowQHe3",
        "colab": {
          "base_uri": "https://localhost:8080/"
        },
        "outputId": "639b2d19-e34e-4aa1-8e1c-932383c09e51"
      },
      "outputs": [
        {
          "output_type": "execute_result",
          "data": {
            "text/plain": [
              "0.8573388203017832"
            ]
          },
          "metadata": {},
          "execution_count": 44
        }
      ],
      "source": [
        "from sklearn.metrics import accuracy_score\n",
        "accuracy_score(y_test, y_gb)"
      ]
    },
    {
      "cell_type": "code",
      "execution_count": 45,
      "metadata": {
        "id": "gMp3yI7oQJK0",
        "colab": {
          "base_uri": "https://localhost:8080/"
        },
        "outputId": "2cef5b88-a130-4f5b-a870-cdccdd90fd37"
      },
      "outputs": [
        {
          "output_type": "stream",
          "name": "stdout",
          "text": [
            "[[340  30]\n",
            " [ 74 285]]\n"
          ]
        }
      ],
      "source": [
        "from sklearn.metrics import confusion_matrix\n",
        "print(confusion_matrix(y_test,y_gb))"
      ]
    },
    {
      "cell_type": "code",
      "execution_count": 46,
      "metadata": {
        "id": "i1CxbvsQQOhZ",
        "colab": {
          "base_uri": "https://localhost:8080/"
        },
        "outputId": "8728e648-6865-48c0-ef4a-28e4c5cf250f"
      },
      "outputs": [
        {
          "output_type": "stream",
          "name": "stdout",
          "text": [
            "              precision    recall  f1-score   support\n",
            "\n",
            "           0       0.82      0.92      0.87       370\n",
            "           1       0.90      0.79      0.85       359\n",
            "\n",
            "    accuracy                           0.86       729\n",
            "   macro avg       0.86      0.86      0.86       729\n",
            "weighted avg       0.86      0.86      0.86       729\n",
            "\n"
          ]
        }
      ],
      "source": [
        "from sklearn.metrics import classification_report #Precision, recall, f1-score and support\n",
        "print(classification_report(y_test, y_gb))"
      ]
    },
    {
      "cell_type": "code",
      "execution_count": 47,
      "metadata": {
        "id": "CcM4C1oNQRfh"
      },
      "outputs": [],
      "source": [
        "from sklearn.neighbors import KNeighborsClassifier"
      ]
    },
    {
      "cell_type": "code",
      "execution_count": 48,
      "metadata": {
        "id": "VIf8-3mUQpvS"
      },
      "outputs": [],
      "source": [
        "knn=KNeighborsClassifier()"
      ]
    },
    {
      "cell_type": "code",
      "execution_count": 49,
      "metadata": {
        "id": "JEuwkV9qQsL0",
        "colab": {
          "base_uri": "https://localhost:8080/"
        },
        "outputId": "db17d233-ee13-4ad8-e9b1-12803f017f66"
      },
      "outputs": [
        {
          "output_type": "stream",
          "name": "stdout",
          "text": [
            "0.8575274236235139\n",
            "2\n"
          ]
        }
      ],
      "source": [
        "from sklearn.model_selection import GridSearchCV\n",
        "params = {\"n_neighbors\": np.arange(1,3),\n",
        "              \"metric\": [\"euclidean\", \"cityblock\"]}\n",
        "grid = GridSearchCV(estimator=knn,\n",
        "                        param_grid=params)\n",
        "grid.fit(X_train, y_train)\n",
        "print(grid.best_score_)\n",
        "print(grid.best_estimator_.n_neighbors)\n"
      ]
    },
    {
      "cell_type": "code",
      "execution_count": 50,
      "metadata": {
        "id": "t4PkT83PRUoo"
      },
      "outputs": [],
      "source": [
        "knn=KNeighborsClassifier(n_neighbors=2,metric='minkowski')"
      ]
    },
    {
      "cell_type": "code",
      "execution_count": 51,
      "metadata": {
        "id": "BbaevK_iRiao",
        "colab": {
          "base_uri": "https://localhost:8080/",
          "height": 74
        },
        "outputId": "04f90082-bf16-4a5a-e46c-a2a563e2cc89"
      },
      "outputs": [
        {
          "output_type": "execute_result",
          "data": {
            "text/plain": [
              "KNeighborsClassifier(n_neighbors=2)"
            ],
            "text/html": [
              "<style>#sk-container-id-4 {color: black;background-color: white;}#sk-container-id-4 pre{padding: 0;}#sk-container-id-4 div.sk-toggleable {background-color: white;}#sk-container-id-4 label.sk-toggleable__label {cursor: pointer;display: block;width: 100%;margin-bottom: 0;padding: 0.3em;box-sizing: border-box;text-align: center;}#sk-container-id-4 label.sk-toggleable__label-arrow:before {content: \"▸\";float: left;margin-right: 0.25em;color: #696969;}#sk-container-id-4 label.sk-toggleable__label-arrow:hover:before {color: black;}#sk-container-id-4 div.sk-estimator:hover label.sk-toggleable__label-arrow:before {color: black;}#sk-container-id-4 div.sk-toggleable__content {max-height: 0;max-width: 0;overflow: hidden;text-align: left;background-color: #f0f8ff;}#sk-container-id-4 div.sk-toggleable__content pre {margin: 0.2em;color: black;border-radius: 0.25em;background-color: #f0f8ff;}#sk-container-id-4 input.sk-toggleable__control:checked~div.sk-toggleable__content {max-height: 200px;max-width: 100%;overflow: auto;}#sk-container-id-4 input.sk-toggleable__control:checked~label.sk-toggleable__label-arrow:before {content: \"▾\";}#sk-container-id-4 div.sk-estimator input.sk-toggleable__control:checked~label.sk-toggleable__label {background-color: #d4ebff;}#sk-container-id-4 div.sk-label input.sk-toggleable__control:checked~label.sk-toggleable__label {background-color: #d4ebff;}#sk-container-id-4 input.sk-hidden--visually {border: 0;clip: rect(1px 1px 1px 1px);clip: rect(1px, 1px, 1px, 1px);height: 1px;margin: -1px;overflow: hidden;padding: 0;position: absolute;width: 1px;}#sk-container-id-4 div.sk-estimator {font-family: monospace;background-color: #f0f8ff;border: 1px dotted black;border-radius: 0.25em;box-sizing: border-box;margin-bottom: 0.5em;}#sk-container-id-4 div.sk-estimator:hover {background-color: #d4ebff;}#sk-container-id-4 div.sk-parallel-item::after {content: \"\";width: 100%;border-bottom: 1px solid gray;flex-grow: 1;}#sk-container-id-4 div.sk-label:hover label.sk-toggleable__label {background-color: #d4ebff;}#sk-container-id-4 div.sk-serial::before {content: \"\";position: absolute;border-left: 1px solid gray;box-sizing: border-box;top: 0;bottom: 0;left: 50%;z-index: 0;}#sk-container-id-4 div.sk-serial {display: flex;flex-direction: column;align-items: center;background-color: white;padding-right: 0.2em;padding-left: 0.2em;position: relative;}#sk-container-id-4 div.sk-item {position: relative;z-index: 1;}#sk-container-id-4 div.sk-parallel {display: flex;align-items: stretch;justify-content: center;background-color: white;position: relative;}#sk-container-id-4 div.sk-item::before, #sk-container-id-4 div.sk-parallel-item::before {content: \"\";position: absolute;border-left: 1px solid gray;box-sizing: border-box;top: 0;bottom: 0;left: 50%;z-index: -1;}#sk-container-id-4 div.sk-parallel-item {display: flex;flex-direction: column;z-index: 1;position: relative;background-color: white;}#sk-container-id-4 div.sk-parallel-item:first-child::after {align-self: flex-end;width: 50%;}#sk-container-id-4 div.sk-parallel-item:last-child::after {align-self: flex-start;width: 50%;}#sk-container-id-4 div.sk-parallel-item:only-child::after {width: 0;}#sk-container-id-4 div.sk-dashed-wrapped {border: 1px dashed gray;margin: 0 0.4em 0.5em 0.4em;box-sizing: border-box;padding-bottom: 0.4em;background-color: white;}#sk-container-id-4 div.sk-label label {font-family: monospace;font-weight: bold;display: inline-block;line-height: 1.2em;}#sk-container-id-4 div.sk-label-container {text-align: center;}#sk-container-id-4 div.sk-container {/* jupyter's `normalize.less` sets `[hidden] { display: none; }` but bootstrap.min.css set `[hidden] { display: none !important; }` so we also need the `!important` here to be able to override the default hidden behavior on the sphinx rendered scikit-learn.org. See: https://github.com/scikit-learn/scikit-learn/issues/21755 */display: inline-block !important;position: relative;}#sk-container-id-4 div.sk-text-repr-fallback {display: none;}</style><div id=\"sk-container-id-4\" class=\"sk-top-container\"><div class=\"sk-text-repr-fallback\"><pre>KNeighborsClassifier(n_neighbors=2)</pre><b>In a Jupyter environment, please rerun this cell to show the HTML representation or trust the notebook. <br />On GitHub, the HTML representation is unable to render, please try loading this page with nbviewer.org.</b></div><div class=\"sk-container\" hidden><div class=\"sk-item\"><div class=\"sk-estimator sk-toggleable\"><input class=\"sk-toggleable__control sk-hidden--visually\" id=\"sk-estimator-id-4\" type=\"checkbox\" checked><label for=\"sk-estimator-id-4\" class=\"sk-toggleable__label sk-toggleable__label-arrow\">KNeighborsClassifier</label><div class=\"sk-toggleable__content\"><pre>KNeighborsClassifier(n_neighbors=2)</pre></div></div></div></div></div>"
            ]
          },
          "metadata": {},
          "execution_count": 51
        }
      ],
      "source": [
        "knn.fit(X_train,y_train)"
      ]
    },
    {
      "cell_type": "code",
      "execution_count": 52,
      "metadata": {
        "id": "4FvVGF8sRlT1"
      },
      "outputs": [],
      "source": [
        "y_knn=knn.predict(X_test)"
      ]
    },
    {
      "cell_type": "code",
      "execution_count": 53,
      "metadata": {
        "id": "iz3MaIVcRofl",
        "colab": {
          "base_uri": "https://localhost:8080/"
        },
        "outputId": "96897a43-c530-4a8f-c9b7-d8028e38e6a4"
      },
      "outputs": [
        {
          "output_type": "stream",
          "name": "stdout",
          "text": [
            "[[0 0]\n",
            " [1 1]\n",
            " [0 0]\n",
            " ...\n",
            " [1 1]\n",
            " [1 1]\n",
            " [1 1]]\n"
          ]
        }
      ],
      "source": [
        "print(np.concatenate((y_knn.reshape(len(y_knn),1),y_test.reshape(len(y_test),1)),1))"
      ]
    },
    {
      "cell_type": "code",
      "execution_count": 54,
      "metadata": {
        "id": "3s_Z0PpdRwQ1",
        "colab": {
          "base_uri": "https://localhost:8080/"
        },
        "outputId": "0df79186-d553-45de-d80c-a0e9abc6cd00"
      },
      "outputs": [
        {
          "output_type": "execute_result",
          "data": {
            "text/plain": [
              "0.8559670781893004"
            ]
          },
          "metadata": {},
          "execution_count": 54
        }
      ],
      "source": [
        "from sklearn.metrics import accuracy_score\n",
        "accuracy_score(y_test, y_knn)"
      ]
    },
    {
      "cell_type": "code",
      "execution_count": 55,
      "metadata": {
        "id": "EwYUb8aQR2nU",
        "colab": {
          "base_uri": "https://localhost:8080/"
        },
        "outputId": "2123296f-8bab-4293-ad5d-790677f02425"
      },
      "outputs": [
        {
          "output_type": "stream",
          "name": "stdout",
          "text": [
            "[[338  32]\n",
            " [ 73 286]]\n"
          ]
        }
      ],
      "source": [
        "from sklearn.metrics import confusion_matrix\n",
        "print(confusion_matrix(y_test,y_knn))"
      ]
    },
    {
      "cell_type": "code",
      "execution_count": 56,
      "metadata": {
        "id": "fOr-xZ4hR62N",
        "colab": {
          "base_uri": "https://localhost:8080/"
        },
        "outputId": "69263884-25bc-4be2-ba9e-ad60e4e5bca0"
      },
      "outputs": [
        {
          "output_type": "stream",
          "name": "stdout",
          "text": [
            "              precision    recall  f1-score   support\n",
            "\n",
            "           0       0.82      0.91      0.87       370\n",
            "           1       0.90      0.80      0.84       359\n",
            "\n",
            "    accuracy                           0.86       729\n",
            "   macro avg       0.86      0.86      0.86       729\n",
            "weighted avg       0.86      0.86      0.86       729\n",
            "\n"
          ]
        }
      ],
      "source": [
        "from sklearn.metrics import classification_report #Precision, recall, f1-score and support\n",
        "print(classification_report(y_test, y_knn))"
      ]
    },
    {
      "cell_type": "code",
      "execution_count": 57,
      "metadata": {
        "id": "_CQtVt3OR-DI"
      },
      "outputs": [],
      "source": [
        "from sklearn.tree import DecisionTreeClassifier"
      ]
    },
    {
      "cell_type": "code",
      "execution_count": 58,
      "metadata": {
        "id": "XtC-YeKIS-S4"
      },
      "outputs": [],
      "source": [
        "dt=DecisionTreeClassifier(criterion='entropy')"
      ]
    },
    {
      "cell_type": "code",
      "execution_count": 59,
      "metadata": {
        "id": "6e5OZD4lTIGJ",
        "colab": {
          "base_uri": "https://localhost:8080/",
          "height": 74
        },
        "outputId": "e925622a-84ea-4fbf-ed61-9cc5f97d2312"
      },
      "outputs": [
        {
          "output_type": "execute_result",
          "data": {
            "text/plain": [
              "DecisionTreeClassifier(criterion='entropy')"
            ],
            "text/html": [
              "<style>#sk-container-id-5 {color: black;background-color: white;}#sk-container-id-5 pre{padding: 0;}#sk-container-id-5 div.sk-toggleable {background-color: white;}#sk-container-id-5 label.sk-toggleable__label {cursor: pointer;display: block;width: 100%;margin-bottom: 0;padding: 0.3em;box-sizing: border-box;text-align: center;}#sk-container-id-5 label.sk-toggleable__label-arrow:before {content: \"▸\";float: left;margin-right: 0.25em;color: #696969;}#sk-container-id-5 label.sk-toggleable__label-arrow:hover:before {color: black;}#sk-container-id-5 div.sk-estimator:hover label.sk-toggleable__label-arrow:before {color: black;}#sk-container-id-5 div.sk-toggleable__content {max-height: 0;max-width: 0;overflow: hidden;text-align: left;background-color: #f0f8ff;}#sk-container-id-5 div.sk-toggleable__content pre {margin: 0.2em;color: black;border-radius: 0.25em;background-color: #f0f8ff;}#sk-container-id-5 input.sk-toggleable__control:checked~div.sk-toggleable__content {max-height: 200px;max-width: 100%;overflow: auto;}#sk-container-id-5 input.sk-toggleable__control:checked~label.sk-toggleable__label-arrow:before {content: \"▾\";}#sk-container-id-5 div.sk-estimator input.sk-toggleable__control:checked~label.sk-toggleable__label {background-color: #d4ebff;}#sk-container-id-5 div.sk-label input.sk-toggleable__control:checked~label.sk-toggleable__label {background-color: #d4ebff;}#sk-container-id-5 input.sk-hidden--visually {border: 0;clip: rect(1px 1px 1px 1px);clip: rect(1px, 1px, 1px, 1px);height: 1px;margin: -1px;overflow: hidden;padding: 0;position: absolute;width: 1px;}#sk-container-id-5 div.sk-estimator {font-family: monospace;background-color: #f0f8ff;border: 1px dotted black;border-radius: 0.25em;box-sizing: border-box;margin-bottom: 0.5em;}#sk-container-id-5 div.sk-estimator:hover {background-color: #d4ebff;}#sk-container-id-5 div.sk-parallel-item::after {content: \"\";width: 100%;border-bottom: 1px solid gray;flex-grow: 1;}#sk-container-id-5 div.sk-label:hover label.sk-toggleable__label {background-color: #d4ebff;}#sk-container-id-5 div.sk-serial::before {content: \"\";position: absolute;border-left: 1px solid gray;box-sizing: border-box;top: 0;bottom: 0;left: 50%;z-index: 0;}#sk-container-id-5 div.sk-serial {display: flex;flex-direction: column;align-items: center;background-color: white;padding-right: 0.2em;padding-left: 0.2em;position: relative;}#sk-container-id-5 div.sk-item {position: relative;z-index: 1;}#sk-container-id-5 div.sk-parallel {display: flex;align-items: stretch;justify-content: center;background-color: white;position: relative;}#sk-container-id-5 div.sk-item::before, #sk-container-id-5 div.sk-parallel-item::before {content: \"\";position: absolute;border-left: 1px solid gray;box-sizing: border-box;top: 0;bottom: 0;left: 50%;z-index: -1;}#sk-container-id-5 div.sk-parallel-item {display: flex;flex-direction: column;z-index: 1;position: relative;background-color: white;}#sk-container-id-5 div.sk-parallel-item:first-child::after {align-self: flex-end;width: 50%;}#sk-container-id-5 div.sk-parallel-item:last-child::after {align-self: flex-start;width: 50%;}#sk-container-id-5 div.sk-parallel-item:only-child::after {width: 0;}#sk-container-id-5 div.sk-dashed-wrapped {border: 1px dashed gray;margin: 0 0.4em 0.5em 0.4em;box-sizing: border-box;padding-bottom: 0.4em;background-color: white;}#sk-container-id-5 div.sk-label label {font-family: monospace;font-weight: bold;display: inline-block;line-height: 1.2em;}#sk-container-id-5 div.sk-label-container {text-align: center;}#sk-container-id-5 div.sk-container {/* jupyter's `normalize.less` sets `[hidden] { display: none; }` but bootstrap.min.css set `[hidden] { display: none !important; }` so we also need the `!important` here to be able to override the default hidden behavior on the sphinx rendered scikit-learn.org. See: https://github.com/scikit-learn/scikit-learn/issues/21755 */display: inline-block !important;position: relative;}#sk-container-id-5 div.sk-text-repr-fallback {display: none;}</style><div id=\"sk-container-id-5\" class=\"sk-top-container\"><div class=\"sk-text-repr-fallback\"><pre>DecisionTreeClassifier(criterion=&#x27;entropy&#x27;)</pre><b>In a Jupyter environment, please rerun this cell to show the HTML representation or trust the notebook. <br />On GitHub, the HTML representation is unable to render, please try loading this page with nbviewer.org.</b></div><div class=\"sk-container\" hidden><div class=\"sk-item\"><div class=\"sk-estimator sk-toggleable\"><input class=\"sk-toggleable__control sk-hidden--visually\" id=\"sk-estimator-id-5\" type=\"checkbox\" checked><label for=\"sk-estimator-id-5\" class=\"sk-toggleable__label sk-toggleable__label-arrow\">DecisionTreeClassifier</label><div class=\"sk-toggleable__content\"><pre>DecisionTreeClassifier(criterion=&#x27;entropy&#x27;)</pre></div></div></div></div></div>"
            ]
          },
          "metadata": {},
          "execution_count": 59
        }
      ],
      "source": [
        "dt.fit(X_train,y_train)"
      ]
    },
    {
      "cell_type": "code",
      "execution_count": 60,
      "metadata": {
        "id": "rzYr5aTmTL2x"
      },
      "outputs": [],
      "source": [
        "y_dt=dt.predict(X_test)"
      ]
    },
    {
      "cell_type": "code",
      "execution_count": 61,
      "metadata": {
        "id": "P3bmUZcmTPCw",
        "colab": {
          "base_uri": "https://localhost:8080/"
        },
        "outputId": "1e05beef-e5e7-4399-f2a5-8cffbc192ca7"
      },
      "outputs": [
        {
          "output_type": "stream",
          "name": "stdout",
          "text": [
            "[[0 0]\n",
            " [1 1]\n",
            " [0 0]\n",
            " ...\n",
            " [1 1]\n",
            " [1 1]\n",
            " [1 1]]\n"
          ]
        }
      ],
      "source": [
        "print(np.concatenate((y_dt.reshape(len(y_dt),1),y_test.reshape(len(y_test),1)),1))"
      ]
    },
    {
      "cell_type": "code",
      "execution_count": 62,
      "metadata": {
        "id": "Bw1qVczoTWtP",
        "colab": {
          "base_uri": "https://localhost:8080/"
        },
        "outputId": "fd84ca1c-cd90-4527-ecd5-26b84673e151"
      },
      "outputs": [
        {
          "output_type": "execute_result",
          "data": {
            "text/plain": [
              "0.8422496570644719"
            ]
          },
          "metadata": {},
          "execution_count": 62
        }
      ],
      "source": [
        "from sklearn.metrics import accuracy_score\n",
        "accuracy_score(y_test, y_dt)"
      ]
    },
    {
      "cell_type": "code",
      "execution_count": 63,
      "metadata": {
        "id": "gQQFxTj4TaHu",
        "colab": {
          "base_uri": "https://localhost:8080/"
        },
        "outputId": "312a0cca-49e9-485d-d1e2-39377829ae4a"
      },
      "outputs": [
        {
          "output_type": "stream",
          "name": "stdout",
          "text": [
            "[[307  63]\n",
            " [ 52 307]]\n"
          ]
        }
      ],
      "source": [
        "from sklearn.metrics import confusion_matrix\n",
        "print(confusion_matrix(y_test,y_dt))"
      ]
    },
    {
      "cell_type": "code",
      "execution_count": 64,
      "metadata": {
        "id": "L-sC_nkZTkLh",
        "colab": {
          "base_uri": "https://localhost:8080/"
        },
        "outputId": "a175da69-7fab-41a4-d083-9d45efa84120"
      },
      "outputs": [
        {
          "output_type": "stream",
          "name": "stdout",
          "text": [
            "              precision    recall  f1-score   support\n",
            "\n",
            "           0       0.82      0.91      0.87       370\n",
            "           1       0.90      0.80      0.84       359\n",
            "\n",
            "    accuracy                           0.86       729\n",
            "   macro avg       0.86      0.86      0.86       729\n",
            "weighted avg       0.86      0.86      0.86       729\n",
            "\n"
          ]
        }
      ],
      "source": [
        "from sklearn.metrics import classification_report #Precision, recall, f1-score and support\n",
        "print(classification_report(y_test, y_knn))"
      ]
    },
    {
      "cell_type": "code",
      "execution_count": 65,
      "metadata": {
        "id": "A2Kza3cQTlJw"
      },
      "outputs": [],
      "source": [
        "from sklearn.ensemble import  RandomForestClassifier"
      ]
    },
    {
      "cell_type": "code",
      "execution_count": 66,
      "metadata": {
        "id": "SpXMUncFlp66"
      },
      "outputs": [],
      "source": [
        "rf= RandomForestClassifier(n_estimators=300,criterion='entropy')"
      ]
    },
    {
      "cell_type": "code",
      "execution_count": 67,
      "metadata": {
        "id": "SzwL_8dPl9Ho",
        "colab": {
          "base_uri": "https://localhost:8080/",
          "height": 74
        },
        "outputId": "0911db3a-8013-446b-d57f-467fc909fbb3"
      },
      "outputs": [
        {
          "output_type": "execute_result",
          "data": {
            "text/plain": [
              "RandomForestClassifier(criterion='entropy', n_estimators=300)"
            ],
            "text/html": [
              "<style>#sk-container-id-6 {color: black;background-color: white;}#sk-container-id-6 pre{padding: 0;}#sk-container-id-6 div.sk-toggleable {background-color: white;}#sk-container-id-6 label.sk-toggleable__label {cursor: pointer;display: block;width: 100%;margin-bottom: 0;padding: 0.3em;box-sizing: border-box;text-align: center;}#sk-container-id-6 label.sk-toggleable__label-arrow:before {content: \"▸\";float: left;margin-right: 0.25em;color: #696969;}#sk-container-id-6 label.sk-toggleable__label-arrow:hover:before {color: black;}#sk-container-id-6 div.sk-estimator:hover label.sk-toggleable__label-arrow:before {color: black;}#sk-container-id-6 div.sk-toggleable__content {max-height: 0;max-width: 0;overflow: hidden;text-align: left;background-color: #f0f8ff;}#sk-container-id-6 div.sk-toggleable__content pre {margin: 0.2em;color: black;border-radius: 0.25em;background-color: #f0f8ff;}#sk-container-id-6 input.sk-toggleable__control:checked~div.sk-toggleable__content {max-height: 200px;max-width: 100%;overflow: auto;}#sk-container-id-6 input.sk-toggleable__control:checked~label.sk-toggleable__label-arrow:before {content: \"▾\";}#sk-container-id-6 div.sk-estimator input.sk-toggleable__control:checked~label.sk-toggleable__label {background-color: #d4ebff;}#sk-container-id-6 div.sk-label input.sk-toggleable__control:checked~label.sk-toggleable__label {background-color: #d4ebff;}#sk-container-id-6 input.sk-hidden--visually {border: 0;clip: rect(1px 1px 1px 1px);clip: rect(1px, 1px, 1px, 1px);height: 1px;margin: -1px;overflow: hidden;padding: 0;position: absolute;width: 1px;}#sk-container-id-6 div.sk-estimator {font-family: monospace;background-color: #f0f8ff;border: 1px dotted black;border-radius: 0.25em;box-sizing: border-box;margin-bottom: 0.5em;}#sk-container-id-6 div.sk-estimator:hover {background-color: #d4ebff;}#sk-container-id-6 div.sk-parallel-item::after {content: \"\";width: 100%;border-bottom: 1px solid gray;flex-grow: 1;}#sk-container-id-6 div.sk-label:hover label.sk-toggleable__label {background-color: #d4ebff;}#sk-container-id-6 div.sk-serial::before {content: \"\";position: absolute;border-left: 1px solid gray;box-sizing: border-box;top: 0;bottom: 0;left: 50%;z-index: 0;}#sk-container-id-6 div.sk-serial {display: flex;flex-direction: column;align-items: center;background-color: white;padding-right: 0.2em;padding-left: 0.2em;position: relative;}#sk-container-id-6 div.sk-item {position: relative;z-index: 1;}#sk-container-id-6 div.sk-parallel {display: flex;align-items: stretch;justify-content: center;background-color: white;position: relative;}#sk-container-id-6 div.sk-item::before, #sk-container-id-6 div.sk-parallel-item::before {content: \"\";position: absolute;border-left: 1px solid gray;box-sizing: border-box;top: 0;bottom: 0;left: 50%;z-index: -1;}#sk-container-id-6 div.sk-parallel-item {display: flex;flex-direction: column;z-index: 1;position: relative;background-color: white;}#sk-container-id-6 div.sk-parallel-item:first-child::after {align-self: flex-end;width: 50%;}#sk-container-id-6 div.sk-parallel-item:last-child::after {align-self: flex-start;width: 50%;}#sk-container-id-6 div.sk-parallel-item:only-child::after {width: 0;}#sk-container-id-6 div.sk-dashed-wrapped {border: 1px dashed gray;margin: 0 0.4em 0.5em 0.4em;box-sizing: border-box;padding-bottom: 0.4em;background-color: white;}#sk-container-id-6 div.sk-label label {font-family: monospace;font-weight: bold;display: inline-block;line-height: 1.2em;}#sk-container-id-6 div.sk-label-container {text-align: center;}#sk-container-id-6 div.sk-container {/* jupyter's `normalize.less` sets `[hidden] { display: none; }` but bootstrap.min.css set `[hidden] { display: none !important; }` so we also need the `!important` here to be able to override the default hidden behavior on the sphinx rendered scikit-learn.org. See: https://github.com/scikit-learn/scikit-learn/issues/21755 */display: inline-block !important;position: relative;}#sk-container-id-6 div.sk-text-repr-fallback {display: none;}</style><div id=\"sk-container-id-6\" class=\"sk-top-container\"><div class=\"sk-text-repr-fallback\"><pre>RandomForestClassifier(criterion=&#x27;entropy&#x27;, n_estimators=300)</pre><b>In a Jupyter environment, please rerun this cell to show the HTML representation or trust the notebook. <br />On GitHub, the HTML representation is unable to render, please try loading this page with nbviewer.org.</b></div><div class=\"sk-container\" hidden><div class=\"sk-item\"><div class=\"sk-estimator sk-toggleable\"><input class=\"sk-toggleable__control sk-hidden--visually\" id=\"sk-estimator-id-6\" type=\"checkbox\" checked><label for=\"sk-estimator-id-6\" class=\"sk-toggleable__label sk-toggleable__label-arrow\">RandomForestClassifier</label><div class=\"sk-toggleable__content\"><pre>RandomForestClassifier(criterion=&#x27;entropy&#x27;, n_estimators=300)</pre></div></div></div></div></div>"
            ]
          },
          "metadata": {},
          "execution_count": 67
        }
      ],
      "source": [
        "rf.fit(X_train,y_train)"
      ]
    },
    {
      "cell_type": "code",
      "execution_count": 68,
      "metadata": {
        "id": "FTBqsSjamD7C"
      },
      "outputs": [],
      "source": [
        "y_rf=rf.predict(X_test)"
      ]
    },
    {
      "cell_type": "code",
      "execution_count": 69,
      "metadata": {
        "id": "D1HNy21Qmbmg",
        "colab": {
          "base_uri": "https://localhost:8080/"
        },
        "outputId": "9be4c3b2-a328-4e8d-8d60-b6bf1e6f30c4"
      },
      "outputs": [
        {
          "output_type": "stream",
          "name": "stdout",
          "text": [
            "[[0 0]\n",
            " [1 1]\n",
            " [0 0]\n",
            " ...\n",
            " [1 1]\n",
            " [1 1]\n",
            " [1 1]]\n"
          ]
        }
      ],
      "source": [
        "print(np.concatenate((y_rf.reshape(len(y_rf),1),y_test.reshape(len(y_test),1)),1))"
      ]
    },
    {
      "cell_type": "code",
      "execution_count": 70,
      "metadata": {
        "id": "1UOH-QnWmhR0",
        "colab": {
          "base_uri": "https://localhost:8080/"
        },
        "outputId": "458a4218-de7f-428f-b6c3-24fcf652c075"
      },
      "outputs": [
        {
          "output_type": "execute_result",
          "data": {
            "text/plain": [
              "0.8861454046639232"
            ]
          },
          "metadata": {},
          "execution_count": 70
        }
      ],
      "source": [
        "from sklearn.metrics import accuracy_score\n",
        "accuracy_score(y_test, y_rf)"
      ]
    },
    {
      "cell_type": "code",
      "execution_count": 71,
      "metadata": {
        "id": "GVr-ueJWmlew",
        "colab": {
          "base_uri": "https://localhost:8080/"
        },
        "outputId": "80376cf1-4a46-4af4-8f9d-4b54422eabef"
      },
      "outputs": [
        {
          "output_type": "stream",
          "name": "stdout",
          "text": [
            "[[328  42]\n",
            " [ 41 318]]\n"
          ]
        }
      ],
      "source": [
        "from sklearn.metrics import confusion_matrix\n",
        "print(confusion_matrix(y_test,y_rf))"
      ]
    },
    {
      "cell_type": "code",
      "execution_count": 72,
      "metadata": {
        "id": "8c-i2BTsmzdr",
        "colab": {
          "base_uri": "https://localhost:8080/"
        },
        "outputId": "3dc71309-7d60-4b1b-8506-ac01d8534362"
      },
      "outputs": [
        {
          "output_type": "stream",
          "name": "stdout",
          "text": [
            "              precision    recall  f1-score   support\n",
            "\n",
            "           0       0.89      0.89      0.89       370\n",
            "           1       0.88      0.89      0.88       359\n",
            "\n",
            "    accuracy                           0.89       729\n",
            "   macro avg       0.89      0.89      0.89       729\n",
            "weighted avg       0.89      0.89      0.89       729\n",
            "\n"
          ]
        }
      ],
      "source": [
        "from sklearn.metrics import classification_report #Precision, recall, f1-score and support\n",
        "print(classification_report(y_test, y_rf))"
      ]
    },
    {
      "cell_type": "code",
      "execution_count": 73,
      "metadata": {
        "id": "wprQz4bYnAVT"
      },
      "outputs": [],
      "source": [
        "from sklearn.ensemble import GradientBoostingClassifier"
      ]
    },
    {
      "cell_type": "code",
      "execution_count": 74,
      "metadata": {
        "id": "TQkq72qxoVj2"
      },
      "outputs": [],
      "source": [
        "gb=GradientBoostingClassifier(loss='log_loss', learning_rate=0.1, n_estimators=300)"
      ]
    },
    {
      "cell_type": "code",
      "execution_count": 75,
      "metadata": {
        "id": "wJE5R9L1odlx",
        "colab": {
          "base_uri": "https://localhost:8080/",
          "height": 74
        },
        "outputId": "9dbb4fef-0e9f-4767-8c93-048e9e6537eb"
      },
      "outputs": [
        {
          "output_type": "execute_result",
          "data": {
            "text/plain": [
              "GradientBoostingClassifier(n_estimators=300)"
            ],
            "text/html": [
              "<style>#sk-container-id-7 {color: black;background-color: white;}#sk-container-id-7 pre{padding: 0;}#sk-container-id-7 div.sk-toggleable {background-color: white;}#sk-container-id-7 label.sk-toggleable__label {cursor: pointer;display: block;width: 100%;margin-bottom: 0;padding: 0.3em;box-sizing: border-box;text-align: center;}#sk-container-id-7 label.sk-toggleable__label-arrow:before {content: \"▸\";float: left;margin-right: 0.25em;color: #696969;}#sk-container-id-7 label.sk-toggleable__label-arrow:hover:before {color: black;}#sk-container-id-7 div.sk-estimator:hover label.sk-toggleable__label-arrow:before {color: black;}#sk-container-id-7 div.sk-toggleable__content {max-height: 0;max-width: 0;overflow: hidden;text-align: left;background-color: #f0f8ff;}#sk-container-id-7 div.sk-toggleable__content pre {margin: 0.2em;color: black;border-radius: 0.25em;background-color: #f0f8ff;}#sk-container-id-7 input.sk-toggleable__control:checked~div.sk-toggleable__content {max-height: 200px;max-width: 100%;overflow: auto;}#sk-container-id-7 input.sk-toggleable__control:checked~label.sk-toggleable__label-arrow:before {content: \"▾\";}#sk-container-id-7 div.sk-estimator input.sk-toggleable__control:checked~label.sk-toggleable__label {background-color: #d4ebff;}#sk-container-id-7 div.sk-label input.sk-toggleable__control:checked~label.sk-toggleable__label {background-color: #d4ebff;}#sk-container-id-7 input.sk-hidden--visually {border: 0;clip: rect(1px 1px 1px 1px);clip: rect(1px, 1px, 1px, 1px);height: 1px;margin: -1px;overflow: hidden;padding: 0;position: absolute;width: 1px;}#sk-container-id-7 div.sk-estimator {font-family: monospace;background-color: #f0f8ff;border: 1px dotted black;border-radius: 0.25em;box-sizing: border-box;margin-bottom: 0.5em;}#sk-container-id-7 div.sk-estimator:hover {background-color: #d4ebff;}#sk-container-id-7 div.sk-parallel-item::after {content: \"\";width: 100%;border-bottom: 1px solid gray;flex-grow: 1;}#sk-container-id-7 div.sk-label:hover label.sk-toggleable__label {background-color: #d4ebff;}#sk-container-id-7 div.sk-serial::before {content: \"\";position: absolute;border-left: 1px solid gray;box-sizing: border-box;top: 0;bottom: 0;left: 50%;z-index: 0;}#sk-container-id-7 div.sk-serial {display: flex;flex-direction: column;align-items: center;background-color: white;padding-right: 0.2em;padding-left: 0.2em;position: relative;}#sk-container-id-7 div.sk-item {position: relative;z-index: 1;}#sk-container-id-7 div.sk-parallel {display: flex;align-items: stretch;justify-content: center;background-color: white;position: relative;}#sk-container-id-7 div.sk-item::before, #sk-container-id-7 div.sk-parallel-item::before {content: \"\";position: absolute;border-left: 1px solid gray;box-sizing: border-box;top: 0;bottom: 0;left: 50%;z-index: -1;}#sk-container-id-7 div.sk-parallel-item {display: flex;flex-direction: column;z-index: 1;position: relative;background-color: white;}#sk-container-id-7 div.sk-parallel-item:first-child::after {align-self: flex-end;width: 50%;}#sk-container-id-7 div.sk-parallel-item:last-child::after {align-self: flex-start;width: 50%;}#sk-container-id-7 div.sk-parallel-item:only-child::after {width: 0;}#sk-container-id-7 div.sk-dashed-wrapped {border: 1px dashed gray;margin: 0 0.4em 0.5em 0.4em;box-sizing: border-box;padding-bottom: 0.4em;background-color: white;}#sk-container-id-7 div.sk-label label {font-family: monospace;font-weight: bold;display: inline-block;line-height: 1.2em;}#sk-container-id-7 div.sk-label-container {text-align: center;}#sk-container-id-7 div.sk-container {/* jupyter's `normalize.less` sets `[hidden] { display: none; }` but bootstrap.min.css set `[hidden] { display: none !important; }` so we also need the `!important` here to be able to override the default hidden behavior on the sphinx rendered scikit-learn.org. See: https://github.com/scikit-learn/scikit-learn/issues/21755 */display: inline-block !important;position: relative;}#sk-container-id-7 div.sk-text-repr-fallback {display: none;}</style><div id=\"sk-container-id-7\" class=\"sk-top-container\"><div class=\"sk-text-repr-fallback\"><pre>GradientBoostingClassifier(n_estimators=300)</pre><b>In a Jupyter environment, please rerun this cell to show the HTML representation or trust the notebook. <br />On GitHub, the HTML representation is unable to render, please try loading this page with nbviewer.org.</b></div><div class=\"sk-container\" hidden><div class=\"sk-item\"><div class=\"sk-estimator sk-toggleable\"><input class=\"sk-toggleable__control sk-hidden--visually\" id=\"sk-estimator-id-7\" type=\"checkbox\" checked><label for=\"sk-estimator-id-7\" class=\"sk-toggleable__label sk-toggleable__label-arrow\">GradientBoostingClassifier</label><div class=\"sk-toggleable__content\"><pre>GradientBoostingClassifier(n_estimators=300)</pre></div></div></div></div></div>"
            ]
          },
          "metadata": {},
          "execution_count": 75
        }
      ],
      "source": [
        "gb.fit(X_train,y_train)"
      ]
    },
    {
      "cell_type": "code",
      "execution_count": 76,
      "metadata": {
        "id": "E-GkAZ7foj2t"
      },
      "outputs": [],
      "source": [
        "y_gb=gb.predict(X_test)"
      ]
    },
    {
      "cell_type": "code",
      "execution_count": 77,
      "metadata": {
        "id": "LnGX5BNqospv",
        "colab": {
          "base_uri": "https://localhost:8080/"
        },
        "outputId": "bc3b253d-30fe-46bb-d780-afd07453082d"
      },
      "outputs": [
        {
          "output_type": "stream",
          "name": "stdout",
          "text": [
            "[[0 0]\n",
            " [1 1]\n",
            " [0 0]\n",
            " ...\n",
            " [1 1]\n",
            " [1 1]\n",
            " [1 1]]\n"
          ]
        }
      ],
      "source": [
        "print(np.concatenate((y_gb.reshape(len(y_gb),1),y_test.reshape(len(y_test),1)),1))"
      ]
    },
    {
      "cell_type": "code",
      "execution_count": 78,
      "metadata": {
        "id": "lEHua1OJox2M",
        "colab": {
          "base_uri": "https://localhost:8080/"
        },
        "outputId": "c3913f00-902d-44c6-abd6-3768c40b2817"
      },
      "outputs": [
        {
          "output_type": "execute_result",
          "data": {
            "text/plain": [
              "0.8916323731138546"
            ]
          },
          "metadata": {},
          "execution_count": 78
        }
      ],
      "source": [
        "from sklearn.metrics import accuracy_score\n",
        "accuracy_score(y_test, y_gb)"
      ]
    },
    {
      "cell_type": "code",
      "execution_count": 79,
      "metadata": {
        "id": "QYkOsGC8o1pg",
        "colab": {
          "base_uri": "https://localhost:8080/"
        },
        "outputId": "754de85d-1b0a-40b0-f631-f42416796d60"
      },
      "outputs": [
        {
          "output_type": "stream",
          "name": "stdout",
          "text": [
            "[[331  39]\n",
            " [ 40 319]]\n"
          ]
        }
      ],
      "source": [
        "from sklearn.metrics import confusion_matrix\n",
        "print(confusion_matrix(y_test,y_gb))"
      ]
    },
    {
      "cell_type": "code",
      "execution_count": 80,
      "metadata": {
        "id": "bcj0_VYtpFlB",
        "colab": {
          "base_uri": "https://localhost:8080/"
        },
        "outputId": "394fdd49-4db1-4add-cbf0-ce1534627688"
      },
      "outputs": [
        {
          "output_type": "stream",
          "name": "stdout",
          "text": [
            "              precision    recall  f1-score   support\n",
            "\n",
            "           0       0.89      0.89      0.89       370\n",
            "           1       0.89      0.89      0.89       359\n",
            "\n",
            "    accuracy                           0.89       729\n",
            "   macro avg       0.89      0.89      0.89       729\n",
            "weighted avg       0.89      0.89      0.89       729\n",
            "\n"
          ]
        }
      ],
      "source": [
        "from sklearn.metrics import classification_report #Precision, recall, f1-score and support\n",
        "print(classification_report(y_test, y_gb))"
      ]
    },
    {
      "cell_type": "code",
      "execution_count": 81,
      "metadata": {
        "id": "FrA9fwjVpHAt"
      },
      "outputs": [],
      "source": [
        "from xgboost import XGBClassifier\n",
        "xg = XGBClassifier()"
      ]
    },
    {
      "cell_type": "code",
      "execution_count": 82,
      "metadata": {
        "id": "eVjY9zgfp-l5",
        "colab": {
          "base_uri": "https://localhost:8080/",
          "height": 244
        },
        "outputId": "31222cd1-f3bf-411d-87f1-95cec3a1280b"
      },
      "outputs": [
        {
          "output_type": "execute_result",
          "data": {
            "text/plain": [
              "XGBClassifier(base_score=None, booster=None, callbacks=None,\n",
              "              colsample_bylevel=None, colsample_bynode=None,\n",
              "              colsample_bytree=None, device=None, early_stopping_rounds=None,\n",
              "              enable_categorical=False, eval_metric=None, feature_types=None,\n",
              "              gamma=None, grow_policy=None, importance_type=None,\n",
              "              interaction_constraints=None, learning_rate=None, max_bin=None,\n",
              "              max_cat_threshold=None, max_cat_to_onehot=None,\n",
              "              max_delta_step=None, max_depth=None, max_leaves=None,\n",
              "              min_child_weight=None, missing=nan, monotone_constraints=None,\n",
              "              multi_strategy=None, n_estimators=None, n_jobs=None,\n",
              "              num_parallel_tree=None, random_state=None, ...)"
            ],
            "text/html": [
              "<style>#sk-container-id-8 {color: black;background-color: white;}#sk-container-id-8 pre{padding: 0;}#sk-container-id-8 div.sk-toggleable {background-color: white;}#sk-container-id-8 label.sk-toggleable__label {cursor: pointer;display: block;width: 100%;margin-bottom: 0;padding: 0.3em;box-sizing: border-box;text-align: center;}#sk-container-id-8 label.sk-toggleable__label-arrow:before {content: \"▸\";float: left;margin-right: 0.25em;color: #696969;}#sk-container-id-8 label.sk-toggleable__label-arrow:hover:before {color: black;}#sk-container-id-8 div.sk-estimator:hover label.sk-toggleable__label-arrow:before {color: black;}#sk-container-id-8 div.sk-toggleable__content {max-height: 0;max-width: 0;overflow: hidden;text-align: left;background-color: #f0f8ff;}#sk-container-id-8 div.sk-toggleable__content pre {margin: 0.2em;color: black;border-radius: 0.25em;background-color: #f0f8ff;}#sk-container-id-8 input.sk-toggleable__control:checked~div.sk-toggleable__content {max-height: 200px;max-width: 100%;overflow: auto;}#sk-container-id-8 input.sk-toggleable__control:checked~label.sk-toggleable__label-arrow:before {content: \"▾\";}#sk-container-id-8 div.sk-estimator input.sk-toggleable__control:checked~label.sk-toggleable__label {background-color: #d4ebff;}#sk-container-id-8 div.sk-label input.sk-toggleable__control:checked~label.sk-toggleable__label {background-color: #d4ebff;}#sk-container-id-8 input.sk-hidden--visually {border: 0;clip: rect(1px 1px 1px 1px);clip: rect(1px, 1px, 1px, 1px);height: 1px;margin: -1px;overflow: hidden;padding: 0;position: absolute;width: 1px;}#sk-container-id-8 div.sk-estimator {font-family: monospace;background-color: #f0f8ff;border: 1px dotted black;border-radius: 0.25em;box-sizing: border-box;margin-bottom: 0.5em;}#sk-container-id-8 div.sk-estimator:hover {background-color: #d4ebff;}#sk-container-id-8 div.sk-parallel-item::after {content: \"\";width: 100%;border-bottom: 1px solid gray;flex-grow: 1;}#sk-container-id-8 div.sk-label:hover label.sk-toggleable__label {background-color: #d4ebff;}#sk-container-id-8 div.sk-serial::before {content: \"\";position: absolute;border-left: 1px solid gray;box-sizing: border-box;top: 0;bottom: 0;left: 50%;z-index: 0;}#sk-container-id-8 div.sk-serial {display: flex;flex-direction: column;align-items: center;background-color: white;padding-right: 0.2em;padding-left: 0.2em;position: relative;}#sk-container-id-8 div.sk-item {position: relative;z-index: 1;}#sk-container-id-8 div.sk-parallel {display: flex;align-items: stretch;justify-content: center;background-color: white;position: relative;}#sk-container-id-8 div.sk-item::before, #sk-container-id-8 div.sk-parallel-item::before {content: \"\";position: absolute;border-left: 1px solid gray;box-sizing: border-box;top: 0;bottom: 0;left: 50%;z-index: -1;}#sk-container-id-8 div.sk-parallel-item {display: flex;flex-direction: column;z-index: 1;position: relative;background-color: white;}#sk-container-id-8 div.sk-parallel-item:first-child::after {align-self: flex-end;width: 50%;}#sk-container-id-8 div.sk-parallel-item:last-child::after {align-self: flex-start;width: 50%;}#sk-container-id-8 div.sk-parallel-item:only-child::after {width: 0;}#sk-container-id-8 div.sk-dashed-wrapped {border: 1px dashed gray;margin: 0 0.4em 0.5em 0.4em;box-sizing: border-box;padding-bottom: 0.4em;background-color: white;}#sk-container-id-8 div.sk-label label {font-family: monospace;font-weight: bold;display: inline-block;line-height: 1.2em;}#sk-container-id-8 div.sk-label-container {text-align: center;}#sk-container-id-8 div.sk-container {/* jupyter's `normalize.less` sets `[hidden] { display: none; }` but bootstrap.min.css set `[hidden] { display: none !important; }` so we also need the `!important` here to be able to override the default hidden behavior on the sphinx rendered scikit-learn.org. See: https://github.com/scikit-learn/scikit-learn/issues/21755 */display: inline-block !important;position: relative;}#sk-container-id-8 div.sk-text-repr-fallback {display: none;}</style><div id=\"sk-container-id-8\" class=\"sk-top-container\"><div class=\"sk-text-repr-fallback\"><pre>XGBClassifier(base_score=None, booster=None, callbacks=None,\n",
              "              colsample_bylevel=None, colsample_bynode=None,\n",
              "              colsample_bytree=None, device=None, early_stopping_rounds=None,\n",
              "              enable_categorical=False, eval_metric=None, feature_types=None,\n",
              "              gamma=None, grow_policy=None, importance_type=None,\n",
              "              interaction_constraints=None, learning_rate=None, max_bin=None,\n",
              "              max_cat_threshold=None, max_cat_to_onehot=None,\n",
              "              max_delta_step=None, max_depth=None, max_leaves=None,\n",
              "              min_child_weight=None, missing=nan, monotone_constraints=None,\n",
              "              multi_strategy=None, n_estimators=None, n_jobs=None,\n",
              "              num_parallel_tree=None, random_state=None, ...)</pre><b>In a Jupyter environment, please rerun this cell to show the HTML representation or trust the notebook. <br />On GitHub, the HTML representation is unable to render, please try loading this page with nbviewer.org.</b></div><div class=\"sk-container\" hidden><div class=\"sk-item\"><div class=\"sk-estimator sk-toggleable\"><input class=\"sk-toggleable__control sk-hidden--visually\" id=\"sk-estimator-id-8\" type=\"checkbox\" checked><label for=\"sk-estimator-id-8\" class=\"sk-toggleable__label sk-toggleable__label-arrow\">XGBClassifier</label><div class=\"sk-toggleable__content\"><pre>XGBClassifier(base_score=None, booster=None, callbacks=None,\n",
              "              colsample_bylevel=None, colsample_bynode=None,\n",
              "              colsample_bytree=None, device=None, early_stopping_rounds=None,\n",
              "              enable_categorical=False, eval_metric=None, feature_types=None,\n",
              "              gamma=None, grow_policy=None, importance_type=None,\n",
              "              interaction_constraints=None, learning_rate=None, max_bin=None,\n",
              "              max_cat_threshold=None, max_cat_to_onehot=None,\n",
              "              max_delta_step=None, max_depth=None, max_leaves=None,\n",
              "              min_child_weight=None, missing=nan, monotone_constraints=None,\n",
              "              multi_strategy=None, n_estimators=None, n_jobs=None,\n",
              "              num_parallel_tree=None, random_state=None, ...)</pre></div></div></div></div></div>"
            ]
          },
          "metadata": {},
          "execution_count": 82
        }
      ],
      "source": [
        "xg.fit(X_train,y_train)"
      ]
    },
    {
      "cell_type": "code",
      "execution_count": 83,
      "metadata": {
        "id": "553tmuZcqBV4"
      },
      "outputs": [],
      "source": [
        "y_xg=xg.predict(X_test)"
      ]
    },
    {
      "cell_type": "code",
      "execution_count": 84,
      "metadata": {
        "id": "tSS7kvyeqEsd",
        "colab": {
          "base_uri": "https://localhost:8080/"
        },
        "outputId": "69051507-8310-4a80-a176-22165830ec60"
      },
      "outputs": [
        {
          "output_type": "stream",
          "name": "stdout",
          "text": [
            "[[0 0]\n",
            " [1 1]\n",
            " [0 0]\n",
            " ...\n",
            " [1 1]\n",
            " [1 1]\n",
            " [1 1]]\n"
          ]
        }
      ],
      "source": [
        "print(np.concatenate((y_xg.reshape(len(y_xg),1),y_test.reshape(len(y_test),1)),1))"
      ]
    },
    {
      "cell_type": "code",
      "execution_count": 85,
      "metadata": {
        "id": "BIHeCpqZqJp4",
        "colab": {
          "base_uri": "https://localhost:8080/"
        },
        "outputId": "29b41f21-3f74-49df-bac9-515cd331eb6c"
      },
      "outputs": [
        {
          "output_type": "execute_result",
          "data": {
            "text/plain": [
              "0.877914951989026"
            ]
          },
          "metadata": {},
          "execution_count": 85
        }
      ],
      "source": [
        "from sklearn.metrics import accuracy_score #Metric scoring functions\n",
        "accuracy_score(y_test, y_xg)"
      ]
    },
    {
      "cell_type": "code",
      "execution_count": 86,
      "metadata": {
        "id": "_WYpXie1qMN7",
        "colab": {
          "base_uri": "https://localhost:8080/"
        },
        "outputId": "7818528f-59c9-4240-dd49-a00b582ee70d"
      },
      "outputs": [
        {
          "output_type": "stream",
          "name": "stdout",
          "text": [
            "              precision    recall  f1-score   support\n",
            "\n",
            "           0       0.87      0.89      0.88       370\n",
            "           1       0.88      0.87      0.88       359\n",
            "\n",
            "    accuracy                           0.88       729\n",
            "   macro avg       0.88      0.88      0.88       729\n",
            "weighted avg       0.88      0.88      0.88       729\n",
            "\n"
          ]
        }
      ],
      "source": [
        "from sklearn.metrics import classification_report #Precision, recall, f1-score and support\n",
        "print(classification_report(y_test, y_xg))"
      ]
    },
    {
      "cell_type": "code",
      "execution_count": 87,
      "metadata": {
        "id": "B1KoWq9pqQ2H"
      },
      "outputs": [],
      "source": [
        "ann=tf.keras.models.Sequential()"
      ]
    },
    {
      "cell_type": "code",
      "execution_count": 88,
      "metadata": {
        "id": "IwySqICAqvLB"
      },
      "outputs": [],
      "source": [
        "ann.add(tf.keras.layers.Dense(activation='relu',units=6))"
      ]
    },
    {
      "cell_type": "code",
      "execution_count": 89,
      "metadata": {
        "id": "Y0XMjaj3rYXv"
      },
      "outputs": [],
      "source": [
        "ann.add(tf.keras.layers.Dense(activation='relu',units=6))"
      ]
    },
    {
      "cell_type": "code",
      "execution_count": 90,
      "metadata": {
        "id": "JG7QUW_uraVk"
      },
      "outputs": [],
      "source": [
        "ann.add(tf.keras.layers.Dense(activation='sigmoid',units=1))"
      ]
    },
    {
      "cell_type": "code",
      "execution_count": 91,
      "metadata": {
        "id": "e51umEM7rdKG"
      },
      "outputs": [],
      "source": [
        "ann.compile(optimizer='adam',loss='binary_crossentropy',metrics=['accuracy'])"
      ]
    },
    {
      "cell_type": "code",
      "execution_count": 92,
      "metadata": {
        "id": "3r0MOb7LryEU",
        "colab": {
          "base_uri": "https://localhost:8080/"
        },
        "outputId": "bdbb0f31-d46b-4ea9-800a-aa6563e21dd5"
      },
      "outputs": [
        {
          "output_type": "stream",
          "name": "stdout",
          "text": [
            "Epoch 1/100\n",
            "92/92 [==============================] - 2s 3ms/step - loss: 0.6623 - accuracy: 0.6042\n",
            "Epoch 2/100\n",
            "92/92 [==============================] - 0s 3ms/step - loss: 0.5358 - accuracy: 0.8232\n",
            "Epoch 3/100\n",
            "92/92 [==============================] - 0s 3ms/step - loss: 0.4533 - accuracy: 0.8867\n",
            "Epoch 4/100\n",
            "92/92 [==============================] - 0s 3ms/step - loss: 0.3875 - accuracy: 0.8929\n",
            "Epoch 5/100\n",
            "92/92 [==============================] - 0s 3ms/step - loss: 0.3405 - accuracy: 0.8936\n",
            "Epoch 6/100\n",
            "92/92 [==============================] - 0s 2ms/step - loss: 0.3144 - accuracy: 0.8970\n",
            "Epoch 7/100\n",
            "92/92 [==============================] - 14s 150ms/step - loss: 0.3002 - accuracy: 0.8967\n",
            "Epoch 8/100\n",
            "92/92 [==============================] - 0s 4ms/step - loss: 0.2937 - accuracy: 0.8987\n",
            "Epoch 9/100\n",
            "92/92 [==============================] - 2s 20ms/step - loss: 0.2901 - accuracy: 0.8998\n",
            "Epoch 10/100\n",
            "92/92 [==============================] - 2s 22ms/step - loss: 0.2878 - accuracy: 0.8984\n",
            "Epoch 11/100\n",
            "92/92 [==============================] - 3s 33ms/step - loss: 0.2859 - accuracy: 0.8984\n",
            "Epoch 12/100\n",
            "92/92 [==============================] - 2s 22ms/step - loss: 0.2845 - accuracy: 0.8987\n",
            "Epoch 13/100\n",
            "92/92 [==============================] - 3s 34ms/step - loss: 0.2835 - accuracy: 0.8987\n",
            "Epoch 14/100\n",
            "92/92 [==============================] - 2s 23ms/step - loss: 0.2823 - accuracy: 0.8991\n",
            "Epoch 15/100\n",
            "92/92 [==============================] - 2s 22ms/step - loss: 0.2814 - accuracy: 0.8987\n",
            "Epoch 16/100\n",
            "92/92 [==============================] - 2s 22ms/step - loss: 0.2809 - accuracy: 0.9001\n",
            "Epoch 17/100\n",
            "92/92 [==============================] - 3s 35ms/step - loss: 0.2802 - accuracy: 0.8980\n",
            "Epoch 18/100\n",
            "92/92 [==============================] - 0s 4ms/step - loss: 0.2794 - accuracy: 0.8977\n",
            "Epoch 19/100\n",
            "92/92 [==============================] - 0s 4ms/step - loss: 0.2789 - accuracy: 0.8984\n",
            "Epoch 20/100\n",
            "92/92 [==============================] - 2s 23ms/step - loss: 0.2783 - accuracy: 0.8980\n",
            "Epoch 21/100\n",
            "92/92 [==============================] - 2s 22ms/step - loss: 0.2778 - accuracy: 0.8980\n",
            "Epoch 22/100\n",
            "92/92 [==============================] - 2s 22ms/step - loss: 0.2774 - accuracy: 0.8984\n",
            "Epoch 23/100\n",
            "92/92 [==============================] - 2s 22ms/step - loss: 0.2772 - accuracy: 0.8991\n",
            "Epoch 24/100\n",
            "92/92 [==============================] - 2s 24ms/step - loss: 0.2770 - accuracy: 0.8987\n",
            "Epoch 25/100\n",
            "92/92 [==============================] - 0s 3ms/step - loss: 0.2767 - accuracy: 0.8998\n",
            "Epoch 26/100\n",
            "92/92 [==============================] - 0s 2ms/step - loss: 0.2765 - accuracy: 0.8987\n",
            "Epoch 27/100\n",
            "92/92 [==============================] - 0s 3ms/step - loss: 0.2761 - accuracy: 0.8998\n",
            "Epoch 28/100\n",
            "92/92 [==============================] - 2s 22ms/step - loss: 0.2761 - accuracy: 0.8994\n",
            "Epoch 29/100\n",
            "92/92 [==============================] - 2s 23ms/step - loss: 0.2760 - accuracy: 0.8991\n",
            "Epoch 30/100\n",
            "92/92 [==============================] - 2s 22ms/step - loss: 0.2756 - accuracy: 0.8991\n",
            "Epoch 31/100\n",
            "92/92 [==============================] - 3s 34ms/step - loss: 0.2754 - accuracy: 0.8984\n",
            "Epoch 32/100\n",
            "92/92 [==============================] - 0s 4ms/step - loss: 0.2772 - accuracy: 0.8994\n",
            "Epoch 33/100\n",
            "92/92 [==============================] - 0s 3ms/step - loss: 0.2754 - accuracy: 0.8977\n",
            "Epoch 34/100\n",
            "92/92 [==============================] - 2s 24ms/step - loss: 0.2750 - accuracy: 0.8987\n",
            "Epoch 35/100\n",
            "92/92 [==============================] - 3s 23ms/step - loss: 0.2746 - accuracy: 0.8984\n",
            "Epoch 36/100\n",
            "92/92 [==============================] - 2s 22ms/step - loss: 0.2742 - accuracy: 0.9008\n",
            "Epoch 37/100\n",
            "92/92 [==============================] - 2s 24ms/step - loss: 0.2743 - accuracy: 0.8980\n",
            "Epoch 38/100\n",
            "92/92 [==============================] - 1s 4ms/step - loss: 0.2745 - accuracy: 0.8987\n",
            "Epoch 39/100\n",
            "92/92 [==============================] - 0s 4ms/step - loss: 0.2743 - accuracy: 0.8994\n",
            "Epoch 40/100\n",
            "92/92 [==============================] - 1s 14ms/step - loss: 0.2738 - accuracy: 0.8998\n",
            "Epoch 41/100\n",
            "92/92 [==============================] - 2s 22ms/step - loss: 0.2735 - accuracy: 0.9004\n",
            "Epoch 42/100\n",
            "92/92 [==============================] - 4s 44ms/step - loss: 0.2734 - accuracy: 0.8998\n",
            "Epoch 43/100\n",
            "92/92 [==============================] - 2s 22ms/step - loss: 0.2733 - accuracy: 0.8994\n",
            "Epoch 44/100\n",
            "92/92 [==============================] - 2s 26ms/step - loss: 0.2730 - accuracy: 0.9001\n",
            "Epoch 45/100\n",
            "92/92 [==============================] - 0s 4ms/step - loss: 0.2728 - accuracy: 0.9001\n",
            "Epoch 46/100\n",
            "92/92 [==============================] - 0s 3ms/step - loss: 0.2727 - accuracy: 0.8991\n",
            "Epoch 47/100\n",
            "92/92 [==============================] - 2s 23ms/step - loss: 0.2726 - accuracy: 0.8998\n",
            "Epoch 48/100\n",
            "92/92 [==============================] - 2s 22ms/step - loss: 0.2724 - accuracy: 0.8998\n",
            "Epoch 49/100\n",
            "92/92 [==============================] - 3s 32ms/step - loss: 0.2721 - accuracy: 0.9001\n",
            "Epoch 50/100\n",
            "92/92 [==============================] - 3s 35ms/step - loss: 0.2720 - accuracy: 0.9015\n",
            "Epoch 51/100\n",
            "92/92 [==============================] - 2s 21ms/step - loss: 0.2720 - accuracy: 0.9001\n",
            "Epoch 52/100\n",
            "92/92 [==============================] - 2s 22ms/step - loss: 0.2720 - accuracy: 0.9008\n",
            "Epoch 53/100\n",
            "92/92 [==============================] - 2s 22ms/step - loss: 0.2722 - accuracy: 0.9001\n",
            "Epoch 54/100\n",
            "92/92 [==============================] - 2s 22ms/step - loss: 0.2718 - accuracy: 0.9004\n",
            "Epoch 55/100\n",
            "92/92 [==============================] - 2s 25ms/step - loss: 0.2716 - accuracy: 0.9001\n",
            "Epoch 56/100\n",
            "92/92 [==============================] - 0s 5ms/step - loss: 0.2715 - accuracy: 0.9001\n",
            "Epoch 57/100\n",
            "92/92 [==============================] - 1s 8ms/step - loss: 0.2714 - accuracy: 0.8998\n",
            "Epoch 58/100\n",
            "92/92 [==============================] - 0s 3ms/step - loss: 0.2711 - accuracy: 0.9015\n",
            "Epoch 59/100\n",
            "92/92 [==============================] - 1s 16ms/step - loss: 0.2715 - accuracy: 0.9004\n",
            "Epoch 60/100\n",
            "92/92 [==============================] - 0s 4ms/step - loss: 0.2711 - accuracy: 0.9032\n",
            "Epoch 61/100\n",
            "92/92 [==============================] - 1s 8ms/step - loss: 0.2708 - accuracy: 0.9011\n",
            "Epoch 62/100\n",
            "92/92 [==============================] - 0s 2ms/step - loss: 0.2710 - accuracy: 0.9011\n",
            "Epoch 63/100\n",
            "92/92 [==============================] - 0s 2ms/step - loss: 0.2707 - accuracy: 0.9015\n",
            "Epoch 64/100\n",
            "92/92 [==============================] - 1s 12ms/step - loss: 0.2705 - accuracy: 0.9011\n",
            "Epoch 65/100\n",
            "92/92 [==============================] - 2s 23ms/step - loss: 0.2704 - accuracy: 0.9015\n",
            "Epoch 66/100\n",
            "92/92 [==============================] - 4s 45ms/step - loss: 0.2702 - accuracy: 0.9011\n",
            "Epoch 67/100\n",
            "92/92 [==============================] - 2s 22ms/step - loss: 0.2701 - accuracy: 0.9015\n",
            "Epoch 68/100\n",
            "92/92 [==============================] - 2s 23ms/step - loss: 0.2706 - accuracy: 0.8991\n",
            "Epoch 69/100\n",
            "92/92 [==============================] - 3s 22ms/step - loss: 0.2698 - accuracy: 0.9001\n",
            "Epoch 70/100\n",
            "92/92 [==============================] - 3s 34ms/step - loss: 0.2698 - accuracy: 0.9018\n",
            "Epoch 71/100\n",
            "92/92 [==============================] - 1s 15ms/step - loss: 0.2700 - accuracy: 0.9001\n",
            "Epoch 72/100\n",
            "92/92 [==============================] - 0s 4ms/step - loss: 0.2697 - accuracy: 0.9011\n",
            "Epoch 73/100\n",
            "92/92 [==============================] - 0s 3ms/step - loss: 0.2692 - accuracy: 0.9015\n",
            "Epoch 74/100\n",
            "92/92 [==============================] - 0s 3ms/step - loss: 0.2694 - accuracy: 0.9001\n",
            "Epoch 75/100\n",
            "92/92 [==============================] - 0s 3ms/step - loss: 0.2689 - accuracy: 0.9015\n",
            "Epoch 76/100\n",
            "92/92 [==============================] - 2s 23ms/step - loss: 0.2689 - accuracy: 0.9001\n",
            "Epoch 77/100\n",
            "92/92 [==============================] - 2s 22ms/step - loss: 0.2690 - accuracy: 0.9011\n",
            "Epoch 78/100\n",
            "92/92 [==============================] - 2s 22ms/step - loss: 0.2684 - accuracy: 0.9008\n",
            "Epoch 79/100\n",
            "92/92 [==============================] - 3s 34ms/step - loss: 0.2683 - accuracy: 0.9001\n",
            "Epoch 80/100\n",
            "92/92 [==============================] - 1s 13ms/step - loss: 0.2688 - accuracy: 0.8980\n",
            "Epoch 81/100\n",
            "92/92 [==============================] - 0s 3ms/step - loss: 0.2681 - accuracy: 0.8994\n",
            "Epoch 82/100\n",
            "92/92 [==============================] - 0s 3ms/step - loss: 0.2677 - accuracy: 0.9001\n",
            "Epoch 83/100\n",
            "92/92 [==============================] - 0s 3ms/step - loss: 0.2674 - accuracy: 0.9004\n",
            "Epoch 84/100\n",
            "92/92 [==============================] - 2s 23ms/step - loss: 0.2672 - accuracy: 0.8994\n",
            "Epoch 85/100\n",
            "92/92 [==============================] - 3s 33ms/step - loss: 0.2668 - accuracy: 0.9001\n",
            "Epoch 86/100\n",
            "92/92 [==============================] - 2s 23ms/step - loss: 0.2666 - accuracy: 0.9001\n",
            "Epoch 87/100\n",
            "92/92 [==============================] - 2s 25ms/step - loss: 0.2673 - accuracy: 0.9011\n",
            "Epoch 88/100\n",
            "92/92 [==============================] - 0s 3ms/step - loss: 0.2665 - accuracy: 0.8987\n",
            "Epoch 89/100\n",
            "92/92 [==============================] - 0s 3ms/step - loss: 0.2661 - accuracy: 0.9018\n",
            "Epoch 90/100\n",
            "92/92 [==============================] - 0s 3ms/step - loss: 0.2658 - accuracy: 0.9004\n",
            "Epoch 91/100\n",
            "92/92 [==============================] - 2s 22ms/step - loss: 0.2654 - accuracy: 0.9004\n",
            "Epoch 92/100\n",
            "92/92 [==============================] - 3s 32ms/step - loss: 0.2661 - accuracy: 0.8994\n",
            "Epoch 93/100\n",
            "92/92 [==============================] - 3s 33ms/step - loss: 0.2655 - accuracy: 0.8998\n",
            "Epoch 94/100\n",
            "92/92 [==============================] - 3s 36ms/step - loss: 0.2671 - accuracy: 0.8991\n",
            "Epoch 95/100\n",
            "92/92 [==============================] - 0s 4ms/step - loss: 0.2649 - accuracy: 0.8998\n",
            "Epoch 96/100\n",
            "92/92 [==============================] - 1s 6ms/step - loss: 0.2650 - accuracy: 0.8998\n",
            "Epoch 97/100\n",
            "92/92 [==============================] - 0s 3ms/step - loss: 0.2647 - accuracy: 0.9004\n",
            "Epoch 98/100\n",
            "92/92 [==============================] - 0s 3ms/step - loss: 0.2650 - accuracy: 0.9008\n",
            "Epoch 99/100\n",
            "92/92 [==============================] - 0s 3ms/step - loss: 0.2648 - accuracy: 0.9001\n",
            "Epoch 100/100\n",
            "92/92 [==============================] - 2s 22ms/step - loss: 0.2643 - accuracy: 0.8998\n"
          ]
        },
        {
          "output_type": "execute_result",
          "data": {
            "text/plain": [
              "<keras.src.callbacks.History at 0x7c38d01f0910>"
            ]
          },
          "metadata": {},
          "execution_count": 92
        }
      ],
      "source": [
        "ann.fit(X_train,y_train,batch_size=32,epochs=100)"
      ]
    },
    {
      "cell_type": "code",
      "execution_count": 93,
      "metadata": {
        "id": "xbOJQxZVsTzG",
        "colab": {
          "base_uri": "https://localhost:8080/"
        },
        "outputId": "9adf503e-13d3-4fbf-fa7b-3aff7ed63312"
      },
      "outputs": [
        {
          "output_type": "stream",
          "name": "stdout",
          "text": [
            "23/23 [==============================] - 1s 41ms/step\n"
          ]
        }
      ],
      "source": [
        "y_ann=ann.predict(X_test)"
      ]
    },
    {
      "cell_type": "code",
      "execution_count": 94,
      "metadata": {
        "id": "P1yk-URFs9oz",
        "colab": {
          "base_uri": "https://localhost:8080/"
        },
        "outputId": "5fd1895f-a84f-4f29-8e25-9dcbb68fc824"
      },
      "outputs": [
        {
          "output_type": "execute_result",
          "data": {
            "text/plain": [
              "array([[2.34791562e-01],\n",
              "       [9.92578745e-01],\n",
              "       [2.73600370e-02],\n",
              "       [9.79930162e-01],\n",
              "       [9.80756164e-01],\n",
              "       [3.62363793e-02],\n",
              "       [9.54082906e-01],\n",
              "       [2.84642369e-01],\n",
              "       [1.54182702e-01],\n",
              "       [2.25476012e-01],\n",
              "       [9.70281363e-01],\n",
              "       [3.81237239e-01],\n",
              "       [1.02234855e-02],\n",
              "       [9.45711792e-01],\n",
              "       [4.52683382e-02],\n",
              "       [9.93631065e-01],\n",
              "       [1.00814909e-01],\n",
              "       [1.19257607e-02],\n",
              "       [9.81591880e-01],\n",
              "       [1.03284307e-01],\n",
              "       [6.19515814e-02],\n",
              "       [1.12775043e-02],\n",
              "       [8.47480953e-01],\n",
              "       [7.71787286e-01],\n",
              "       [9.94222224e-01],\n",
              "       [7.97491193e-01],\n",
              "       [1.12349302e-01],\n",
              "       [9.84041631e-01],\n",
              "       [2.84208357e-01],\n",
              "       [5.39507307e-02],\n",
              "       [8.85403752e-02],\n",
              "       [2.28950158e-02],\n",
              "       [9.76261497e-01],\n",
              "       [2.69390754e-02],\n",
              "       [8.36236238e-01],\n",
              "       [2.96777010e-01],\n",
              "       [9.85679686e-01],\n",
              "       [8.99335206e-01],\n",
              "       [3.93863581e-02],\n",
              "       [8.57157540e-03],\n",
              "       [9.60786462e-01],\n",
              "       [1.05303582e-02],\n",
              "       [9.24180627e-01],\n",
              "       [9.79793012e-01],\n",
              "       [2.17978522e-01],\n",
              "       [1.03402346e-01],\n",
              "       [1.28832236e-02],\n",
              "       [1.89277530e-01],\n",
              "       [2.29980387e-02],\n",
              "       [5.35262674e-02],\n",
              "       [9.75667894e-01],\n",
              "       [1.54913053e-01],\n",
              "       [1.14338040e-01],\n",
              "       [1.57551933e-02],\n",
              "       [9.21342492e-01],\n",
              "       [8.15341353e-01],\n",
              "       [2.89404355e-02],\n",
              "       [9.74255502e-01],\n",
              "       [7.82942235e-01],\n",
              "       [9.74381089e-01],\n",
              "       [3.46521437e-02],\n",
              "       [1.86188832e-01],\n",
              "       [3.36607806e-02],\n",
              "       [9.68623459e-01],\n",
              "       [9.84988332e-01],\n",
              "       [4.45474908e-02],\n",
              "       [9.54423547e-01],\n",
              "       [6.76176026e-02],\n",
              "       [8.61968875e-01],\n",
              "       [9.24738884e-01],\n",
              "       [9.94028687e-01],\n",
              "       [1.10611238e-01],\n",
              "       [9.86807942e-01],\n",
              "       [3.87964025e-02],\n",
              "       [4.59931139e-03],\n",
              "       [7.80188665e-02],\n",
              "       [8.49913895e-01],\n",
              "       [2.28236705e-01],\n",
              "       [7.19419658e-01],\n",
              "       [4.36643921e-02],\n",
              "       [5.86263500e-02],\n",
              "       [9.89297569e-01],\n",
              "       [9.95487869e-01],\n",
              "       [7.72520840e-01],\n",
              "       [1.47793084e-01],\n",
              "       [9.77371991e-01],\n",
              "       [9.74220157e-01],\n",
              "       [6.80905730e-02],\n",
              "       [5.74690998e-01],\n",
              "       [9.76437390e-01],\n",
              "       [9.89164591e-01],\n",
              "       [3.61036509e-02],\n",
              "       [9.72156584e-01],\n",
              "       [9.93530035e-01],\n",
              "       [7.12875903e-01],\n",
              "       [9.70658779e-01],\n",
              "       [1.16098739e-01],\n",
              "       [2.09662691e-01],\n",
              "       [8.19966346e-02],\n",
              "       [9.85276282e-01],\n",
              "       [9.04274225e-01],\n",
              "       [8.39290023e-01],\n",
              "       [9.77828801e-01],\n",
              "       [9.95691895e-01],\n",
              "       [8.79658163e-01],\n",
              "       [3.27934593e-01],\n",
              "       [8.76994208e-02],\n",
              "       [9.38106179e-01],\n",
              "       [1.70771442e-02],\n",
              "       [1.17619252e-02],\n",
              "       [9.09991801e-01],\n",
              "       [2.86730565e-02],\n",
              "       [8.38276744e-01],\n",
              "       [4.83321995e-02],\n",
              "       [1.04067452e-01],\n",
              "       [1.40845135e-01],\n",
              "       [8.34151171e-03],\n",
              "       [8.92007172e-01],\n",
              "       [9.96985137e-01],\n",
              "       [3.37432995e-02],\n",
              "       [9.94638443e-01],\n",
              "       [8.58452857e-01],\n",
              "       [1.22088149e-01],\n",
              "       [6.75393164e-01],\n",
              "       [9.91405785e-01],\n",
              "       [1.37434704e-02],\n",
              "       [1.80407912e-01],\n",
              "       [8.66221309e-01],\n",
              "       [1.69260725e-01],\n",
              "       [1.21863931e-02],\n",
              "       [1.26334038e-02],\n",
              "       [9.90578711e-01],\n",
              "       [2.50390559e-01],\n",
              "       [9.92453277e-01],\n",
              "       [5.93344122e-02],\n",
              "       [6.79746091e-01],\n",
              "       [1.94999259e-02],\n",
              "       [5.39787173e-01],\n",
              "       [7.97056019e-01],\n",
              "       [9.51150060e-02],\n",
              "       [9.67102587e-01],\n",
              "       [6.06213212e-02],\n",
              "       [8.46894562e-01],\n",
              "       [3.92514607e-03],\n",
              "       [9.55712914e-01],\n",
              "       [2.47048602e-01],\n",
              "       [9.72220957e-01],\n",
              "       [5.08744456e-02],\n",
              "       [3.19367200e-01],\n",
              "       [9.74678755e-01],\n",
              "       [9.73378658e-01],\n",
              "       [3.59307937e-02],\n",
              "       [7.01302350e-01],\n",
              "       [4.34255507e-03],\n",
              "       [6.02060072e-02],\n",
              "       [7.65098274e-01],\n",
              "       [6.32269144e-01],\n",
              "       [9.87676263e-01],\n",
              "       [3.86056677e-02],\n",
              "       [9.40601707e-01],\n",
              "       [2.48053625e-01],\n",
              "       [9.98197049e-02],\n",
              "       [7.96232581e-01],\n",
              "       [6.68196142e-01],\n",
              "       [9.54249263e-01],\n",
              "       [6.36572465e-02],\n",
              "       [8.50214809e-02],\n",
              "       [1.39002711e-01],\n",
              "       [8.88951242e-01],\n",
              "       [7.65706778e-01],\n",
              "       [4.24962372e-01],\n",
              "       [1.48508549e-01],\n",
              "       [8.78856480e-01],\n",
              "       [1.28487632e-01],\n",
              "       [9.87967074e-01],\n",
              "       [9.80895579e-01],\n",
              "       [7.03632772e-01],\n",
              "       [7.66632020e-01],\n",
              "       [9.73345220e-01],\n",
              "       [6.82419479e-01],\n",
              "       [1.88563168e-02],\n",
              "       [9.61023986e-01],\n",
              "       [1.21414270e-02],\n",
              "       [1.03678135e-02],\n",
              "       [9.81645286e-01],\n",
              "       [8.46055567e-01],\n",
              "       [9.17228535e-02],\n",
              "       [9.66855288e-01],\n",
              "       [3.49573344e-01],\n",
              "       [3.37876603e-02],\n",
              "       [1.35275787e-02],\n",
              "       [9.72376883e-01],\n",
              "       [2.71465868e-01],\n",
              "       [6.19082265e-02],\n",
              "       [7.40541458e-01],\n",
              "       [2.61659808e-02],\n",
              "       [9.89097357e-01],\n",
              "       [9.94244456e-01],\n",
              "       [6.65027946e-02],\n",
              "       [4.49698232e-02],\n",
              "       [9.86201882e-01],\n",
              "       [7.96779513e-01],\n",
              "       [1.63805529e-01],\n",
              "       [9.33455408e-01],\n",
              "       [7.04443976e-02],\n",
              "       [2.32409745e-01],\n",
              "       [1.15658166e-02],\n",
              "       [7.72034228e-02],\n",
              "       [1.42166121e-02],\n",
              "       [6.55441284e-01],\n",
              "       [3.03861313e-02],\n",
              "       [8.55787158e-01],\n",
              "       [9.83192325e-01],\n",
              "       [1.11242339e-01],\n",
              "       [5.28958030e-02],\n",
              "       [1.56497229e-02],\n",
              "       [1.32183403e-01],\n",
              "       [7.68515617e-02],\n",
              "       [9.81320202e-01],\n",
              "       [9.85177219e-01],\n",
              "       [9.61021245e-01],\n",
              "       [8.29374135e-01],\n",
              "       [6.80557489e-02],\n",
              "       [9.84627664e-01],\n",
              "       [4.72127646e-03],\n",
              "       [8.22959065e-01],\n",
              "       [6.09069839e-02],\n",
              "       [5.19638248e-02],\n",
              "       [5.90743601e-01],\n",
              "       [1.66700646e-01],\n",
              "       [8.45686615e-01],\n",
              "       [1.02399094e-02],\n",
              "       [9.81411040e-01],\n",
              "       [8.99144232e-01],\n",
              "       [9.83694732e-01],\n",
              "       [3.14224735e-02],\n",
              "       [8.12323466e-02],\n",
              "       [1.57595351e-02],\n",
              "       [9.77948457e-02],\n",
              "       [1.21264912e-01],\n",
              "       [9.93010998e-01],\n",
              "       [9.85723853e-01],\n",
              "       [9.89980102e-01],\n",
              "       [1.30872801e-02],\n",
              "       [9.94949043e-01],\n",
              "       [1.08026505e-01],\n",
              "       [9.99589503e-01],\n",
              "       [9.20550764e-01],\n",
              "       [7.09423423e-01],\n",
              "       [9.42757368e-01],\n",
              "       [5.06628215e-01],\n",
              "       [8.53879333e-01],\n",
              "       [9.89916265e-01],\n",
              "       [9.60894287e-01],\n",
              "       [9.95112479e-01],\n",
              "       [1.14788011e-01],\n",
              "       [7.45587349e-01],\n",
              "       [1.43554166e-01],\n",
              "       [3.34958911e-01],\n",
              "       [9.97135043e-01],\n",
              "       [9.42262053e-01],\n",
              "       [1.47760853e-01],\n",
              "       [9.88651097e-01],\n",
              "       [9.98689830e-01],\n",
              "       [8.81943181e-02],\n",
              "       [1.53089203e-02],\n",
              "       [8.93324316e-02],\n",
              "       [3.19671094e-01],\n",
              "       [7.45921552e-01],\n",
              "       [1.29185036e-01],\n",
              "       [1.01395827e-02],\n",
              "       [9.94252488e-02],\n",
              "       [2.63802379e-01],\n",
              "       [8.31137836e-01],\n",
              "       [2.78589744e-02],\n",
              "       [7.98845112e-01],\n",
              "       [1.20709809e-02],\n",
              "       [2.55702406e-01],\n",
              "       [8.39309394e-01],\n",
              "       [9.82275188e-01],\n",
              "       [2.43050680e-02],\n",
              "       [7.35570550e-01],\n",
              "       [1.74390540e-01],\n",
              "       [9.42799628e-01],\n",
              "       [7.30081275e-02],\n",
              "       [1.09313183e-01],\n",
              "       [1.46666437e-01],\n",
              "       [4.72319983e-02],\n",
              "       [1.91468805e-01],\n",
              "       [2.63586342e-01],\n",
              "       [7.41024688e-02],\n",
              "       [9.92719293e-01],\n",
              "       [7.40798175e-01],\n",
              "       [3.16020966e-01],\n",
              "       [9.20109034e-01],\n",
              "       [9.72850859e-01],\n",
              "       [9.83344734e-01],\n",
              "       [1.03508778e-01],\n",
              "       [5.86145997e-01],\n",
              "       [1.53033867e-01],\n",
              "       [8.15156043e-01],\n",
              "       [9.94895220e-01],\n",
              "       [9.50941682e-01],\n",
              "       [9.85635579e-01],\n",
              "       [1.32344607e-02],\n",
              "       [9.45880532e-01],\n",
              "       [5.59650809e-02],\n",
              "       [9.79400814e-01],\n",
              "       [5.68666644e-02],\n",
              "       [6.53641671e-02],\n",
              "       [1.11258049e-02],\n",
              "       [1.70642473e-02],\n",
              "       [3.59420367e-02],\n",
              "       [9.99343514e-01],\n",
              "       [9.57569540e-01],\n",
              "       [2.68584937e-01],\n",
              "       [9.63681638e-01],\n",
              "       [9.96852219e-02],\n",
              "       [8.22041929e-01],\n",
              "       [9.90791619e-01],\n",
              "       [9.09541667e-01],\n",
              "       [9.81169164e-01],\n",
              "       [5.96871309e-04],\n",
              "       [3.72761004e-02],\n",
              "       [5.86024411e-02],\n",
              "       [7.31067080e-03],\n",
              "       [8.66163611e-01],\n",
              "       [2.90551130e-02],\n",
              "       [1.24396406e-01],\n",
              "       [8.62357393e-02],\n",
              "       [8.62698555e-01],\n",
              "       [7.37872198e-02],\n",
              "       [9.86317098e-01],\n",
              "       [9.00666296e-01],\n",
              "       [1.24217547e-01],\n",
              "       [9.44257200e-01],\n",
              "       [9.88345683e-01],\n",
              "       [9.93663430e-01],\n",
              "       [6.64961934e-02],\n",
              "       [2.39530709e-02],\n",
              "       [4.92109299e-01],\n",
              "       [3.57525088e-02],\n",
              "       [9.46764886e-01],\n",
              "       [7.95980573e-01],\n",
              "       [8.68663788e-02],\n",
              "       [7.43998170e-01],\n",
              "       [9.67061400e-01],\n",
              "       [7.46523619e-01],\n",
              "       [7.49466062e-01],\n",
              "       [9.27413881e-01],\n",
              "       [9.67468441e-01],\n",
              "       [1.01651676e-01],\n",
              "       [9.85760152e-01],\n",
              "       [9.88729239e-01],\n",
              "       [8.66330117e-02],\n",
              "       [5.95382117e-02],\n",
              "       [1.34019658e-01],\n",
              "       [1.16851658e-01],\n",
              "       [4.85468328e-01],\n",
              "       [9.77185667e-01],\n",
              "       [9.88407075e-01],\n",
              "       [8.11444998e-01],\n",
              "       [2.22762767e-02],\n",
              "       [1.12442337e-01],\n",
              "       [9.04987380e-02],\n",
              "       [9.91949439e-01],\n",
              "       [9.94584918e-01],\n",
              "       [9.62651014e-01],\n",
              "       [9.45269942e-01],\n",
              "       [4.02996056e-02],\n",
              "       [1.57918222e-02],\n",
              "       [6.61454052e-02],\n",
              "       [1.49226729e-02],\n",
              "       [5.77818118e-02],\n",
              "       [9.90380764e-01],\n",
              "       [9.20452118e-01],\n",
              "       [1.48904361e-02],\n",
              "       [1.27699554e-01],\n",
              "       [1.28601447e-01],\n",
              "       [9.49442267e-01],\n",
              "       [1.19470572e-02],\n",
              "       [7.82154277e-02],\n",
              "       [9.94309723e-01],\n",
              "       [9.77602541e-01],\n",
              "       [3.77428308e-02],\n",
              "       [1.80711851e-01],\n",
              "       [9.89933729e-01],\n",
              "       [9.59992707e-01],\n",
              "       [1.06386859e-02],\n",
              "       [1.03550732e-01],\n",
              "       [9.33571439e-03],\n",
              "       [2.10827757e-02],\n",
              "       [7.47266948e-01],\n",
              "       [1.98686466e-01],\n",
              "       [9.19963658e-01],\n",
              "       [9.91615355e-01],\n",
              "       [9.87807512e-01],\n",
              "       [1.19413927e-01],\n",
              "       [2.81197190e-01],\n",
              "       [2.62265354e-02],\n",
              "       [2.46304721e-02],\n",
              "       [7.66765177e-01],\n",
              "       [1.69179395e-01],\n",
              "       [8.34716737e-01],\n",
              "       [1.21726148e-01],\n",
              "       [1.92000717e-02],\n",
              "       [8.47826302e-02],\n",
              "       [2.19136104e-02],\n",
              "       [9.65617597e-01],\n",
              "       [2.66456187e-01],\n",
              "       [9.14647222e-01],\n",
              "       [9.86594796e-01],\n",
              "       [6.89316913e-02],\n",
              "       [6.45546317e-02],\n",
              "       [9.59861934e-01],\n",
              "       [6.25963032e-01],\n",
              "       [2.53676444e-01],\n",
              "       [2.27001477e-02],\n",
              "       [9.16705012e-01],\n",
              "       [6.89133108e-01],\n",
              "       [1.27281711e-01],\n",
              "       [9.84470665e-01],\n",
              "       [2.58836448e-01],\n",
              "       [1.27047837e-01],\n",
              "       [6.89460710e-02],\n",
              "       [8.52386296e-01],\n",
              "       [9.94515896e-01],\n",
              "       [3.19994122e-01],\n",
              "       [9.90700483e-01],\n",
              "       [9.80396688e-01],\n",
              "       [9.83283401e-01],\n",
              "       [1.58083543e-01],\n",
              "       [6.99963942e-02],\n",
              "       [8.42042506e-01],\n",
              "       [4.95366678e-02],\n",
              "       [9.91947174e-01],\n",
              "       [1.74450278e-01],\n",
              "       [9.32676554e-01],\n",
              "       [1.23863012e-01],\n",
              "       [1.01900920e-02],\n",
              "       [1.55891711e-02],\n",
              "       [5.59579022e-02],\n",
              "       [1.40713334e-01],\n",
              "       [9.91845071e-01],\n",
              "       [9.67080176e-01],\n",
              "       [7.82311186e-02],\n",
              "       [3.35661955e-02],\n",
              "       [9.83192980e-01],\n",
              "       [6.95504621e-02],\n",
              "       [9.93069828e-01],\n",
              "       [8.78661405e-03],\n",
              "       [1.33944927e-02],\n",
              "       [9.10385311e-01],\n",
              "       [6.96718514e-01],\n",
              "       [6.36958539e-01],\n",
              "       [1.39425531e-01],\n",
              "       [1.90221310e-01],\n",
              "       [3.84104364e-02],\n",
              "       [4.45631221e-02],\n",
              "       [1.24820909e-02],\n",
              "       [9.67451930e-01],\n",
              "       [1.45961717e-01],\n",
              "       [9.37679410e-02],\n",
              "       [3.50654610e-02],\n",
              "       [8.43036696e-02],\n",
              "       [1.22631170e-01],\n",
              "       [9.95318115e-01],\n",
              "       [3.03319935e-02],\n",
              "       [6.56240061e-02],\n",
              "       [6.86603189e-02],\n",
              "       [5.20963818e-02],\n",
              "       [3.13897282e-02],\n",
              "       [9.79050517e-01],\n",
              "       [9.63085890e-01],\n",
              "       [1.16989575e-01],\n",
              "       [5.99045260e-03],\n",
              "       [2.75705643e-02],\n",
              "       [9.82376754e-01],\n",
              "       [9.60448802e-01],\n",
              "       [2.35493109e-01],\n",
              "       [8.97608791e-03],\n",
              "       [9.91695940e-01],\n",
              "       [8.01029086e-01],\n",
              "       [9.76844847e-01],\n",
              "       [9.72799063e-02],\n",
              "       [1.26059160e-01],\n",
              "       [9.95066106e-01],\n",
              "       [1.78690448e-01],\n",
              "       [9.99453664e-01],\n",
              "       [9.25763488e-01],\n",
              "       [2.38577947e-01],\n",
              "       [9.63621736e-02],\n",
              "       [6.94098463e-03],\n",
              "       [9.90315199e-01],\n",
              "       [5.22732176e-02],\n",
              "       [9.81176317e-01],\n",
              "       [6.58769131e-01],\n",
              "       [5.71835376e-02],\n",
              "       [5.75700821e-03],\n",
              "       [7.87346125e-01],\n",
              "       [9.81550574e-01],\n",
              "       [9.89411950e-01],\n",
              "       [1.95917010e-01],\n",
              "       [9.84577894e-01],\n",
              "       [7.08180785e-01],\n",
              "       [9.54165962e-03],\n",
              "       [6.96861088e-01],\n",
              "       [9.45778936e-02],\n",
              "       [9.94310021e-01],\n",
              "       [6.59379542e-01],\n",
              "       [1.81220755e-01],\n",
              "       [9.83805656e-01],\n",
              "       [2.47925982e-01],\n",
              "       [5.41688055e-02],\n",
              "       [8.83493572e-02],\n",
              "       [9.73844171e-01],\n",
              "       [9.90688622e-01],\n",
              "       [2.04916745e-02],\n",
              "       [8.40253294e-01],\n",
              "       [9.79360223e-01],\n",
              "       [9.81480896e-01],\n",
              "       [3.08887102e-02],\n",
              "       [6.69236556e-02],\n",
              "       [2.09542010e-02],\n",
              "       [9.93580103e-01],\n",
              "       [9.86434162e-01],\n",
              "       [9.89926755e-01],\n",
              "       [7.55261004e-01],\n",
              "       [9.85775352e-01],\n",
              "       [9.92379785e-01],\n",
              "       [9.77616489e-01],\n",
              "       [9.59421024e-02],\n",
              "       [9.82528031e-01],\n",
              "       [1.65092826e-01],\n",
              "       [6.07341947e-03],\n",
              "       [9.36328292e-01],\n",
              "       [1.14888817e-01],\n",
              "       [9.68936682e-01],\n",
              "       [9.59435582e-01],\n",
              "       [1.14352494e-01],\n",
              "       [2.16588855e-01],\n",
              "       [1.45732611e-01],\n",
              "       [4.93027121e-02],\n",
              "       [9.84916210e-01],\n",
              "       [9.82506573e-01],\n",
              "       [9.30074006e-02],\n",
              "       [4.69756685e-02],\n",
              "       [9.89915073e-01],\n",
              "       [6.27416790e-01],\n",
              "       [5.97358830e-02],\n",
              "       [6.81804121e-01],\n",
              "       [9.85735059e-01],\n",
              "       [8.48107517e-01],\n",
              "       [4.65445444e-02],\n",
              "       [3.94514017e-02],\n",
              "       [9.73745584e-01],\n",
              "       [7.18078017e-02],\n",
              "       [1.50385901e-01],\n",
              "       [2.36194566e-01],\n",
              "       [3.69538397e-01],\n",
              "       [9.65726137e-01],\n",
              "       [5.88475108e-01],\n",
              "       [2.13102132e-01],\n",
              "       [9.74764645e-01],\n",
              "       [6.97480381e-01],\n",
              "       [8.91570091e-01],\n",
              "       [1.76137276e-02],\n",
              "       [1.87926423e-02],\n",
              "       [6.68168291e-02],\n",
              "       [9.70357299e-01],\n",
              "       [9.68798459e-01],\n",
              "       [7.05443621e-01],\n",
              "       [2.39815935e-02],\n",
              "       [1.08988725e-01],\n",
              "       [8.64241183e-01],\n",
              "       [8.61074805e-01],\n",
              "       [9.86570716e-01],\n",
              "       [1.01444483e-01],\n",
              "       [7.56547868e-01],\n",
              "       [9.92780745e-01],\n",
              "       [9.79937732e-01],\n",
              "       [9.98093009e-01],\n",
              "       [6.95048571e-01],\n",
              "       [9.84310567e-01],\n",
              "       [7.51969874e-01],\n",
              "       [1.37652978e-01],\n",
              "       [5.70927572e-04],\n",
              "       [3.38787645e-01],\n",
              "       [1.87617332e-01],\n",
              "       [9.93721485e-01],\n",
              "       [8.98821354e-01],\n",
              "       [6.32142201e-02],\n",
              "       [9.43895161e-01],\n",
              "       [6.82659686e-01],\n",
              "       [4.29656096e-02],\n",
              "       [9.76320505e-01],\n",
              "       [6.19313776e-01],\n",
              "       [1.53190242e-02],\n",
              "       [9.96185064e-01],\n",
              "       [7.97507405e-01],\n",
              "       [2.02305168e-01],\n",
              "       [6.12936541e-02],\n",
              "       [9.99897897e-01],\n",
              "       [4.98364978e-02],\n",
              "       [1.37573525e-01],\n",
              "       [8.28458965e-01],\n",
              "       [5.70918560e-01],\n",
              "       [2.08672471e-02],\n",
              "       [8.66441488e-01],\n",
              "       [1.33576661e-01],\n",
              "       [9.88628268e-01],\n",
              "       [4.43611741e-02],\n",
              "       [1.40988663e-01],\n",
              "       [9.72175896e-01],\n",
              "       [2.41002645e-02],\n",
              "       [1.46837249e-01],\n",
              "       [9.80018731e-03],\n",
              "       [9.87686813e-01],\n",
              "       [1.23565957e-01],\n",
              "       [1.12528987e-01],\n",
              "       [7.55170524e-01],\n",
              "       [9.16431606e-01],\n",
              "       [9.93502200e-01],\n",
              "       [9.52406943e-01],\n",
              "       [9.40214872e-01],\n",
              "       [9.75017786e-01],\n",
              "       [2.17389196e-01],\n",
              "       [9.75960135e-01],\n",
              "       [4.31406051e-01],\n",
              "       [8.75360727e-01],\n",
              "       [9.07554403e-02],\n",
              "       [1.10308029e-01],\n",
              "       [4.92785126e-02],\n",
              "       [3.30988437e-01],\n",
              "       [9.90515351e-01],\n",
              "       [9.84127522e-01],\n",
              "       [9.22372714e-02],\n",
              "       [3.07331473e-01],\n",
              "       [8.52217197e-01],\n",
              "       [1.18713863e-02],\n",
              "       [8.78824174e-01],\n",
              "       [9.71589804e-01],\n",
              "       [1.34348541e-01],\n",
              "       [9.95080888e-01],\n",
              "       [1.84326321e-02],\n",
              "       [9.89251792e-01],\n",
              "       [9.10891056e-01],\n",
              "       [7.94597149e-01],\n",
              "       [9.87354219e-01],\n",
              "       [6.97527230e-02],\n",
              "       [1.66697744e-02],\n",
              "       [9.73484159e-01],\n",
              "       [4.78875712e-02],\n",
              "       [9.88928974e-01],\n",
              "       [1.11525111e-01],\n",
              "       [8.51593912e-01],\n",
              "       [1.26027867e-01],\n",
              "       [9.93804514e-01],\n",
              "       [9.52506721e-01],\n",
              "       [9.75855827e-01],\n",
              "       [9.21899199e-01],\n",
              "       [7.64005363e-01],\n",
              "       [7.73265243e-01],\n",
              "       [2.53031194e-01],\n",
              "       [9.69574332e-01],\n",
              "       [9.94781435e-01],\n",
              "       [8.91327620e-01],\n",
              "       [7.46072352e-01],\n",
              "       [9.89521503e-01],\n",
              "       [9.13958669e-01],\n",
              "       [9.14822444e-02],\n",
              "       [9.98170912e-01],\n",
              "       [1.59271196e-01],\n",
              "       [8.78178298e-01],\n",
              "       [5.93201935e-01],\n",
              "       [9.43051100e-01],\n",
              "       [6.34135678e-02],\n",
              "       [5.16999006e-01],\n",
              "       [7.09602311e-02],\n",
              "       [9.68276441e-01],\n",
              "       [5.58614075e-01],\n",
              "       [3.72760482e-02],\n",
              "       [9.01318789e-01],\n",
              "       [9.82956469e-01],\n",
              "       [1.85159564e-01],\n",
              "       [9.56678331e-01],\n",
              "       [7.01302350e-01],\n",
              "       [6.53371289e-02],\n",
              "       [9.17728245e-01],\n",
              "       [9.74517584e-01],\n",
              "       [2.64174920e-02],\n",
              "       [7.84597173e-02],\n",
              "       [9.89963651e-01],\n",
              "       [2.71979153e-01],\n",
              "       [2.16724008e-01],\n",
              "       [5.48517585e-01],\n",
              "       [2.32879501e-02],\n",
              "       [3.06597985e-02],\n",
              "       [9.75734770e-01],\n",
              "       [7.63163745e-01],\n",
              "       [2.56678194e-01],\n",
              "       [1.92707762e-01],\n",
              "       [9.00442839e-01],\n",
              "       [9.79802847e-01],\n",
              "       [1.60869565e-02],\n",
              "       [9.84926879e-01],\n",
              "       [9.97090697e-01],\n",
              "       [9.81099308e-01],\n",
              "       [9.47654665e-01],\n",
              "       [8.06939751e-02],\n",
              "       [9.98169839e-01],\n",
              "       [9.66840148e-01],\n",
              "       [7.33419135e-02],\n",
              "       [7.83724114e-02],\n",
              "       [7.33290538e-02],\n",
              "       [1.24838591e-01],\n",
              "       [9.21280205e-01],\n",
              "       [5.86423993e-01],\n",
              "       [6.82960153e-01],\n",
              "       [9.86684263e-01],\n",
              "       [6.41890317e-02],\n",
              "       [7.10160077e-01],\n",
              "       [7.27438368e-03],\n",
              "       [5.76581433e-02],\n",
              "       [9.75246251e-01],\n",
              "       [8.56809877e-03],\n",
              "       [8.73276472e-01],\n",
              "       [9.64763641e-01],\n",
              "       [9.38277543e-01]], dtype=float32)"
            ]
          },
          "metadata": {},
          "execution_count": 94
        }
      ],
      "source": [
        "y_ann"
      ]
    },
    {
      "cell_type": "code",
      "execution_count": 95,
      "metadata": {
        "id": "4lF-nnXiswj_"
      },
      "outputs": [],
      "source": [
        "y_ann=(y_ann>0.5)"
      ]
    },
    {
      "cell_type": "code",
      "execution_count": 96,
      "metadata": {
        "id": "IDDQI2g7s_H_",
        "colab": {
          "base_uri": "https://localhost:8080/"
        },
        "outputId": "7a918200-91a5-472c-8214-1754a8074373"
      },
      "outputs": [
        {
          "output_type": "execute_result",
          "data": {
            "text/plain": [
              "0.8943758573388203"
            ]
          },
          "metadata": {},
          "execution_count": 96
        }
      ],
      "source": [
        "from sklearn.metrics import accuracy_score\n",
        "accuracy_score(y_test, y_ann)"
      ]
    },
    {
      "cell_type": "markdown",
      "metadata": {
        "id": "wMaZd7IJGaDe"
      },
      "source": [
        "##Star39552"
      ]
    },
    {
      "cell_type": "code",
      "execution_count": 97,
      "metadata": {
        "id": "75OzTxd8tGG3"
      },
      "outputs": [],
      "source": [
        "dataset1=pd.read_csv('Star39552_balanced.csv')"
      ]
    },
    {
      "cell_type": "code",
      "execution_count": 98,
      "metadata": {
        "id": "Ewlij70_Fm2V",
        "colab": {
          "base_uri": "https://localhost:8080/",
          "height": 419
        },
        "outputId": "ad622a26-ab37-46a9-bc58-011cdf4cf07d"
      },
      "outputs": [
        {
          "output_type": "execute_result",
          "data": {
            "text/plain": [
              "        Vmag    Plx  e_Plx    B-V SpType       Amag  TargetClass\n",
              "0      10.00  31.66   6.19  1.213    K7V  22.502556            1\n",
              "1       8.26   3.21   1.00  1.130  K0III  15.792525            0\n",
              "2       8.27  12.75   1.06  0.596    F9V  18.797552            1\n",
              "3       6.54   5.23   0.76  1.189  K1III  15.132508            0\n",
              "4       8.52   0.96   0.72  0.173    B8V  13.431356            1\n",
              "...      ...    ...    ...    ...    ...        ...          ...\n",
              "39547   5.83   0.17   0.52  0.474  B7Iab   6.982245            0\n",
              "39548   7.05  18.12   0.92  0.424    F5V  18.340790            1\n",
              "39549   9.21   3.89   1.46  0.227   A1IV  17.159748            1\n",
              "39550   9.01   2.13   1.46  1.467  M5III  15.651898            0\n",
              "39551   9.12   3.82   0.79  0.480    F5V  17.030317            1\n",
              "\n",
              "[39552 rows x 7 columns]"
            ],
            "text/html": [
              "\n",
              "  <div id=\"df-137ae1b2-a771-4412-a526-aa36dc090de2\" class=\"colab-df-container\">\n",
              "    <div>\n",
              "<style scoped>\n",
              "    .dataframe tbody tr th:only-of-type {\n",
              "        vertical-align: middle;\n",
              "    }\n",
              "\n",
              "    .dataframe tbody tr th {\n",
              "        vertical-align: top;\n",
              "    }\n",
              "\n",
              "    .dataframe thead th {\n",
              "        text-align: right;\n",
              "    }\n",
              "</style>\n",
              "<table border=\"1\" class=\"dataframe\">\n",
              "  <thead>\n",
              "    <tr style=\"text-align: right;\">\n",
              "      <th></th>\n",
              "      <th>Vmag</th>\n",
              "      <th>Plx</th>\n",
              "      <th>e_Plx</th>\n",
              "      <th>B-V</th>\n",
              "      <th>SpType</th>\n",
              "      <th>Amag</th>\n",
              "      <th>TargetClass</th>\n",
              "    </tr>\n",
              "  </thead>\n",
              "  <tbody>\n",
              "    <tr>\n",
              "      <th>0</th>\n",
              "      <td>10.00</td>\n",
              "      <td>31.66</td>\n",
              "      <td>6.19</td>\n",
              "      <td>1.213</td>\n",
              "      <td>K7V</td>\n",
              "      <td>22.502556</td>\n",
              "      <td>1</td>\n",
              "    </tr>\n",
              "    <tr>\n",
              "      <th>1</th>\n",
              "      <td>8.26</td>\n",
              "      <td>3.21</td>\n",
              "      <td>1.00</td>\n",
              "      <td>1.130</td>\n",
              "      <td>K0III</td>\n",
              "      <td>15.792525</td>\n",
              "      <td>0</td>\n",
              "    </tr>\n",
              "    <tr>\n",
              "      <th>2</th>\n",
              "      <td>8.27</td>\n",
              "      <td>12.75</td>\n",
              "      <td>1.06</td>\n",
              "      <td>0.596</td>\n",
              "      <td>F9V</td>\n",
              "      <td>18.797552</td>\n",
              "      <td>1</td>\n",
              "    </tr>\n",
              "    <tr>\n",
              "      <th>3</th>\n",
              "      <td>6.54</td>\n",
              "      <td>5.23</td>\n",
              "      <td>0.76</td>\n",
              "      <td>1.189</td>\n",
              "      <td>K1III</td>\n",
              "      <td>15.132508</td>\n",
              "      <td>0</td>\n",
              "    </tr>\n",
              "    <tr>\n",
              "      <th>4</th>\n",
              "      <td>8.52</td>\n",
              "      <td>0.96</td>\n",
              "      <td>0.72</td>\n",
              "      <td>0.173</td>\n",
              "      <td>B8V</td>\n",
              "      <td>13.431356</td>\n",
              "      <td>1</td>\n",
              "    </tr>\n",
              "    <tr>\n",
              "      <th>...</th>\n",
              "      <td>...</td>\n",
              "      <td>...</td>\n",
              "      <td>...</td>\n",
              "      <td>...</td>\n",
              "      <td>...</td>\n",
              "      <td>...</td>\n",
              "      <td>...</td>\n",
              "    </tr>\n",
              "    <tr>\n",
              "      <th>39547</th>\n",
              "      <td>5.83</td>\n",
              "      <td>0.17</td>\n",
              "      <td>0.52</td>\n",
              "      <td>0.474</td>\n",
              "      <td>B7Iab</td>\n",
              "      <td>6.982245</td>\n",
              "      <td>0</td>\n",
              "    </tr>\n",
              "    <tr>\n",
              "      <th>39548</th>\n",
              "      <td>7.05</td>\n",
              "      <td>18.12</td>\n",
              "      <td>0.92</td>\n",
              "      <td>0.424</td>\n",
              "      <td>F5V</td>\n",
              "      <td>18.340790</td>\n",
              "      <td>1</td>\n",
              "    </tr>\n",
              "    <tr>\n",
              "      <th>39549</th>\n",
              "      <td>9.21</td>\n",
              "      <td>3.89</td>\n",
              "      <td>1.46</td>\n",
              "      <td>0.227</td>\n",
              "      <td>A1IV</td>\n",
              "      <td>17.159748</td>\n",
              "      <td>1</td>\n",
              "    </tr>\n",
              "    <tr>\n",
              "      <th>39550</th>\n",
              "      <td>9.01</td>\n",
              "      <td>2.13</td>\n",
              "      <td>1.46</td>\n",
              "      <td>1.467</td>\n",
              "      <td>M5III</td>\n",
              "      <td>15.651898</td>\n",
              "      <td>0</td>\n",
              "    </tr>\n",
              "    <tr>\n",
              "      <th>39551</th>\n",
              "      <td>9.12</td>\n",
              "      <td>3.82</td>\n",
              "      <td>0.79</td>\n",
              "      <td>0.480</td>\n",
              "      <td>F5V</td>\n",
              "      <td>17.030317</td>\n",
              "      <td>1</td>\n",
              "    </tr>\n",
              "  </tbody>\n",
              "</table>\n",
              "<p>39552 rows × 7 columns</p>\n",
              "</div>\n",
              "    <div class=\"colab-df-buttons\">\n",
              "\n",
              "  <div class=\"colab-df-container\">\n",
              "    <button class=\"colab-df-convert\" onclick=\"convertToInteractive('df-137ae1b2-a771-4412-a526-aa36dc090de2')\"\n",
              "            title=\"Convert this dataframe to an interactive table.\"\n",
              "            style=\"display:none;\">\n",
              "\n",
              "  <svg xmlns=\"http://www.w3.org/2000/svg\" height=\"24px\" viewBox=\"0 -960 960 960\">\n",
              "    <path d=\"M120-120v-720h720v720H120Zm60-500h600v-160H180v160Zm220 220h160v-160H400v160Zm0 220h160v-160H400v160ZM180-400h160v-160H180v160Zm440 0h160v-160H620v160ZM180-180h160v-160H180v160Zm440 0h160v-160H620v160Z\"/>\n",
              "  </svg>\n",
              "    </button>\n",
              "\n",
              "  <style>\n",
              "    .colab-df-container {\n",
              "      display:flex;\n",
              "      gap: 12px;\n",
              "    }\n",
              "\n",
              "    .colab-df-convert {\n",
              "      background-color: #E8F0FE;\n",
              "      border: none;\n",
              "      border-radius: 50%;\n",
              "      cursor: pointer;\n",
              "      display: none;\n",
              "      fill: #1967D2;\n",
              "      height: 32px;\n",
              "      padding: 0 0 0 0;\n",
              "      width: 32px;\n",
              "    }\n",
              "\n",
              "    .colab-df-convert:hover {\n",
              "      background-color: #E2EBFA;\n",
              "      box-shadow: 0px 1px 2px rgba(60, 64, 67, 0.3), 0px 1px 3px 1px rgba(60, 64, 67, 0.15);\n",
              "      fill: #174EA6;\n",
              "    }\n",
              "\n",
              "    .colab-df-buttons div {\n",
              "      margin-bottom: 4px;\n",
              "    }\n",
              "\n",
              "    [theme=dark] .colab-df-convert {\n",
              "      background-color: #3B4455;\n",
              "      fill: #D2E3FC;\n",
              "    }\n",
              "\n",
              "    [theme=dark] .colab-df-convert:hover {\n",
              "      background-color: #434B5C;\n",
              "      box-shadow: 0px 1px 3px 1px rgba(0, 0, 0, 0.15);\n",
              "      filter: drop-shadow(0px 1px 2px rgba(0, 0, 0, 0.3));\n",
              "      fill: #FFFFFF;\n",
              "    }\n",
              "  </style>\n",
              "\n",
              "    <script>\n",
              "      const buttonEl =\n",
              "        document.querySelector('#df-137ae1b2-a771-4412-a526-aa36dc090de2 button.colab-df-convert');\n",
              "      buttonEl.style.display =\n",
              "        google.colab.kernel.accessAllowed ? 'block' : 'none';\n",
              "\n",
              "      async function convertToInteractive(key) {\n",
              "        const element = document.querySelector('#df-137ae1b2-a771-4412-a526-aa36dc090de2');\n",
              "        const dataTable =\n",
              "          await google.colab.kernel.invokeFunction('convertToInteractive',\n",
              "                                                    [key], {});\n",
              "        if (!dataTable) return;\n",
              "\n",
              "        const docLinkHtml = 'Like what you see? Visit the ' +\n",
              "          '<a target=\"_blank\" href=https://colab.research.google.com/notebooks/data_table.ipynb>data table notebook</a>'\n",
              "          + ' to learn more about interactive tables.';\n",
              "        element.innerHTML = '';\n",
              "        dataTable['output_type'] = 'display_data';\n",
              "        await google.colab.output.renderOutput(dataTable, element);\n",
              "        const docLink = document.createElement('div');\n",
              "        docLink.innerHTML = docLinkHtml;\n",
              "        element.appendChild(docLink);\n",
              "      }\n",
              "    </script>\n",
              "  </div>\n",
              "\n",
              "\n",
              "<div id=\"df-7d4c4ac2-252e-4b9a-b6ea-419f497f897b\">\n",
              "  <button class=\"colab-df-quickchart\" onclick=\"quickchart('df-7d4c4ac2-252e-4b9a-b6ea-419f497f897b')\"\n",
              "            title=\"Suggest charts.\"\n",
              "            style=\"display:none;\">\n",
              "\n",
              "<svg xmlns=\"http://www.w3.org/2000/svg\" height=\"24px\"viewBox=\"0 0 24 24\"\n",
              "     width=\"24px\">\n",
              "    <g>\n",
              "        <path d=\"M19 3H5c-1.1 0-2 .9-2 2v14c0 1.1.9 2 2 2h14c1.1 0 2-.9 2-2V5c0-1.1-.9-2-2-2zM9 17H7v-7h2v7zm4 0h-2V7h2v10zm4 0h-2v-4h2v4z\"/>\n",
              "    </g>\n",
              "</svg>\n",
              "  </button>\n",
              "\n",
              "<style>\n",
              "  .colab-df-quickchart {\n",
              "      --bg-color: #E8F0FE;\n",
              "      --fill-color: #1967D2;\n",
              "      --hover-bg-color: #E2EBFA;\n",
              "      --hover-fill-color: #174EA6;\n",
              "      --disabled-fill-color: #AAA;\n",
              "      --disabled-bg-color: #DDD;\n",
              "  }\n",
              "\n",
              "  [theme=dark] .colab-df-quickchart {\n",
              "      --bg-color: #3B4455;\n",
              "      --fill-color: #D2E3FC;\n",
              "      --hover-bg-color: #434B5C;\n",
              "      --hover-fill-color: #FFFFFF;\n",
              "      --disabled-bg-color: #3B4455;\n",
              "      --disabled-fill-color: #666;\n",
              "  }\n",
              "\n",
              "  .colab-df-quickchart {\n",
              "    background-color: var(--bg-color);\n",
              "    border: none;\n",
              "    border-radius: 50%;\n",
              "    cursor: pointer;\n",
              "    display: none;\n",
              "    fill: var(--fill-color);\n",
              "    height: 32px;\n",
              "    padding: 0;\n",
              "    width: 32px;\n",
              "  }\n",
              "\n",
              "  .colab-df-quickchart:hover {\n",
              "    background-color: var(--hover-bg-color);\n",
              "    box-shadow: 0 1px 2px rgba(60, 64, 67, 0.3), 0 1px 3px 1px rgba(60, 64, 67, 0.15);\n",
              "    fill: var(--button-hover-fill-color);\n",
              "  }\n",
              "\n",
              "  .colab-df-quickchart-complete:disabled,\n",
              "  .colab-df-quickchart-complete:disabled:hover {\n",
              "    background-color: var(--disabled-bg-color);\n",
              "    fill: var(--disabled-fill-color);\n",
              "    box-shadow: none;\n",
              "  }\n",
              "\n",
              "  .colab-df-spinner {\n",
              "    border: 2px solid var(--fill-color);\n",
              "    border-color: transparent;\n",
              "    border-bottom-color: var(--fill-color);\n",
              "    animation:\n",
              "      spin 1s steps(1) infinite;\n",
              "  }\n",
              "\n",
              "  @keyframes spin {\n",
              "    0% {\n",
              "      border-color: transparent;\n",
              "      border-bottom-color: var(--fill-color);\n",
              "      border-left-color: var(--fill-color);\n",
              "    }\n",
              "    20% {\n",
              "      border-color: transparent;\n",
              "      border-left-color: var(--fill-color);\n",
              "      border-top-color: var(--fill-color);\n",
              "    }\n",
              "    30% {\n",
              "      border-color: transparent;\n",
              "      border-left-color: var(--fill-color);\n",
              "      border-top-color: var(--fill-color);\n",
              "      border-right-color: var(--fill-color);\n",
              "    }\n",
              "    40% {\n",
              "      border-color: transparent;\n",
              "      border-right-color: var(--fill-color);\n",
              "      border-top-color: var(--fill-color);\n",
              "    }\n",
              "    60% {\n",
              "      border-color: transparent;\n",
              "      border-right-color: var(--fill-color);\n",
              "    }\n",
              "    80% {\n",
              "      border-color: transparent;\n",
              "      border-right-color: var(--fill-color);\n",
              "      border-bottom-color: var(--fill-color);\n",
              "    }\n",
              "    90% {\n",
              "      border-color: transparent;\n",
              "      border-bottom-color: var(--fill-color);\n",
              "    }\n",
              "  }\n",
              "</style>\n",
              "\n",
              "  <script>\n",
              "    async function quickchart(key) {\n",
              "      const quickchartButtonEl =\n",
              "        document.querySelector('#' + key + ' button');\n",
              "      quickchartButtonEl.disabled = true;  // To prevent multiple clicks.\n",
              "      quickchartButtonEl.classList.add('colab-df-spinner');\n",
              "      try {\n",
              "        const charts = await google.colab.kernel.invokeFunction(\n",
              "            'suggestCharts', [key], {});\n",
              "      } catch (error) {\n",
              "        console.error('Error during call to suggestCharts:', error);\n",
              "      }\n",
              "      quickchartButtonEl.classList.remove('colab-df-spinner');\n",
              "      quickchartButtonEl.classList.add('colab-df-quickchart-complete');\n",
              "    }\n",
              "    (() => {\n",
              "      let quickchartButtonEl =\n",
              "        document.querySelector('#df-7d4c4ac2-252e-4b9a-b6ea-419f497f897b button');\n",
              "      quickchartButtonEl.style.display =\n",
              "        google.colab.kernel.accessAllowed ? 'block' : 'none';\n",
              "    })();\n",
              "  </script>\n",
              "</div>\n",
              "    </div>\n",
              "  </div>\n"
            ]
          },
          "metadata": {},
          "execution_count": 98
        }
      ],
      "source": [
        "dataset1"
      ]
    },
    {
      "cell_type": "code",
      "execution_count": 99,
      "metadata": {
        "id": "OwfBcvkJGMfD",
        "colab": {
          "base_uri": "https://localhost:8080/"
        },
        "outputId": "aacb8d69-6cca-4cde-f9df-8800a834e2c6"
      },
      "outputs": [
        {
          "output_type": "stream",
          "name": "stdout",
          "text": [
            "<class 'pandas.core.frame.DataFrame'>\n",
            "RangeIndex: 39552 entries, 0 to 39551\n",
            "Data columns (total 7 columns):\n",
            " #   Column       Non-Null Count  Dtype  \n",
            "---  ------       --------------  -----  \n",
            " 0   Vmag         39552 non-null  float64\n",
            " 1   Plx          39552 non-null  float64\n",
            " 2   e_Plx        39552 non-null  float64\n",
            " 3   B-V          39552 non-null  float64\n",
            " 4   SpType       39552 non-null  object \n",
            " 5   Amag         39552 non-null  float64\n",
            " 6   TargetClass  39552 non-null  int64  \n",
            "dtypes: float64(5), int64(1), object(1)\n",
            "memory usage: 2.1+ MB\n"
          ]
        }
      ],
      "source": [
        "dataset1.info()"
      ]
    },
    {
      "cell_type": "code",
      "execution_count": 100,
      "metadata": {
        "id": "nPUPig9AGgu4"
      },
      "outputs": [],
      "source": [
        "dataset1=dataset1.drop(['SpType'],axis=1)"
      ]
    },
    {
      "cell_type": "code",
      "execution_count": 101,
      "metadata": {
        "id": "l6ai_RJuGqvX",
        "colab": {
          "base_uri": "https://localhost:8080/",
          "height": 419
        },
        "outputId": "6fcb2686-f2e0-46a0-b058-d0e22e577c06"
      },
      "outputs": [
        {
          "output_type": "execute_result",
          "data": {
            "text/plain": [
              "        Vmag    Plx  e_Plx    B-V       Amag  TargetClass\n",
              "0      10.00  31.66   6.19  1.213  22.502556            1\n",
              "1       8.26   3.21   1.00  1.130  15.792525            0\n",
              "2       8.27  12.75   1.06  0.596  18.797552            1\n",
              "3       6.54   5.23   0.76  1.189  15.132508            0\n",
              "4       8.52   0.96   0.72  0.173  13.431356            1\n",
              "...      ...    ...    ...    ...        ...          ...\n",
              "39547   5.83   0.17   0.52  0.474   6.982245            0\n",
              "39548   7.05  18.12   0.92  0.424  18.340790            1\n",
              "39549   9.21   3.89   1.46  0.227  17.159748            1\n",
              "39550   9.01   2.13   1.46  1.467  15.651898            0\n",
              "39551   9.12   3.82   0.79  0.480  17.030317            1\n",
              "\n",
              "[39552 rows x 6 columns]"
            ],
            "text/html": [
              "\n",
              "  <div id=\"df-4f4801b4-d04a-4771-a8d7-b47e8d4ffe2a\" class=\"colab-df-container\">\n",
              "    <div>\n",
              "<style scoped>\n",
              "    .dataframe tbody tr th:only-of-type {\n",
              "        vertical-align: middle;\n",
              "    }\n",
              "\n",
              "    .dataframe tbody tr th {\n",
              "        vertical-align: top;\n",
              "    }\n",
              "\n",
              "    .dataframe thead th {\n",
              "        text-align: right;\n",
              "    }\n",
              "</style>\n",
              "<table border=\"1\" class=\"dataframe\">\n",
              "  <thead>\n",
              "    <tr style=\"text-align: right;\">\n",
              "      <th></th>\n",
              "      <th>Vmag</th>\n",
              "      <th>Plx</th>\n",
              "      <th>e_Plx</th>\n",
              "      <th>B-V</th>\n",
              "      <th>Amag</th>\n",
              "      <th>TargetClass</th>\n",
              "    </tr>\n",
              "  </thead>\n",
              "  <tbody>\n",
              "    <tr>\n",
              "      <th>0</th>\n",
              "      <td>10.00</td>\n",
              "      <td>31.66</td>\n",
              "      <td>6.19</td>\n",
              "      <td>1.213</td>\n",
              "      <td>22.502556</td>\n",
              "      <td>1</td>\n",
              "    </tr>\n",
              "    <tr>\n",
              "      <th>1</th>\n",
              "      <td>8.26</td>\n",
              "      <td>3.21</td>\n",
              "      <td>1.00</td>\n",
              "      <td>1.130</td>\n",
              "      <td>15.792525</td>\n",
              "      <td>0</td>\n",
              "    </tr>\n",
              "    <tr>\n",
              "      <th>2</th>\n",
              "      <td>8.27</td>\n",
              "      <td>12.75</td>\n",
              "      <td>1.06</td>\n",
              "      <td>0.596</td>\n",
              "      <td>18.797552</td>\n",
              "      <td>1</td>\n",
              "    </tr>\n",
              "    <tr>\n",
              "      <th>3</th>\n",
              "      <td>6.54</td>\n",
              "      <td>5.23</td>\n",
              "      <td>0.76</td>\n",
              "      <td>1.189</td>\n",
              "      <td>15.132508</td>\n",
              "      <td>0</td>\n",
              "    </tr>\n",
              "    <tr>\n",
              "      <th>4</th>\n",
              "      <td>8.52</td>\n",
              "      <td>0.96</td>\n",
              "      <td>0.72</td>\n",
              "      <td>0.173</td>\n",
              "      <td>13.431356</td>\n",
              "      <td>1</td>\n",
              "    </tr>\n",
              "    <tr>\n",
              "      <th>...</th>\n",
              "      <td>...</td>\n",
              "      <td>...</td>\n",
              "      <td>...</td>\n",
              "      <td>...</td>\n",
              "      <td>...</td>\n",
              "      <td>...</td>\n",
              "    </tr>\n",
              "    <tr>\n",
              "      <th>39547</th>\n",
              "      <td>5.83</td>\n",
              "      <td>0.17</td>\n",
              "      <td>0.52</td>\n",
              "      <td>0.474</td>\n",
              "      <td>6.982245</td>\n",
              "      <td>0</td>\n",
              "    </tr>\n",
              "    <tr>\n",
              "      <th>39548</th>\n",
              "      <td>7.05</td>\n",
              "      <td>18.12</td>\n",
              "      <td>0.92</td>\n",
              "      <td>0.424</td>\n",
              "      <td>18.340790</td>\n",
              "      <td>1</td>\n",
              "    </tr>\n",
              "    <tr>\n",
              "      <th>39549</th>\n",
              "      <td>9.21</td>\n",
              "      <td>3.89</td>\n",
              "      <td>1.46</td>\n",
              "      <td>0.227</td>\n",
              "      <td>17.159748</td>\n",
              "      <td>1</td>\n",
              "    </tr>\n",
              "    <tr>\n",
              "      <th>39550</th>\n",
              "      <td>9.01</td>\n",
              "      <td>2.13</td>\n",
              "      <td>1.46</td>\n",
              "      <td>1.467</td>\n",
              "      <td>15.651898</td>\n",
              "      <td>0</td>\n",
              "    </tr>\n",
              "    <tr>\n",
              "      <th>39551</th>\n",
              "      <td>9.12</td>\n",
              "      <td>3.82</td>\n",
              "      <td>0.79</td>\n",
              "      <td>0.480</td>\n",
              "      <td>17.030317</td>\n",
              "      <td>1</td>\n",
              "    </tr>\n",
              "  </tbody>\n",
              "</table>\n",
              "<p>39552 rows × 6 columns</p>\n",
              "</div>\n",
              "    <div class=\"colab-df-buttons\">\n",
              "\n",
              "  <div class=\"colab-df-container\">\n",
              "    <button class=\"colab-df-convert\" onclick=\"convertToInteractive('df-4f4801b4-d04a-4771-a8d7-b47e8d4ffe2a')\"\n",
              "            title=\"Convert this dataframe to an interactive table.\"\n",
              "            style=\"display:none;\">\n",
              "\n",
              "  <svg xmlns=\"http://www.w3.org/2000/svg\" height=\"24px\" viewBox=\"0 -960 960 960\">\n",
              "    <path d=\"M120-120v-720h720v720H120Zm60-500h600v-160H180v160Zm220 220h160v-160H400v160Zm0 220h160v-160H400v160ZM180-400h160v-160H180v160Zm440 0h160v-160H620v160ZM180-180h160v-160H180v160Zm440 0h160v-160H620v160Z\"/>\n",
              "  </svg>\n",
              "    </button>\n",
              "\n",
              "  <style>\n",
              "    .colab-df-container {\n",
              "      display:flex;\n",
              "      gap: 12px;\n",
              "    }\n",
              "\n",
              "    .colab-df-convert {\n",
              "      background-color: #E8F0FE;\n",
              "      border: none;\n",
              "      border-radius: 50%;\n",
              "      cursor: pointer;\n",
              "      display: none;\n",
              "      fill: #1967D2;\n",
              "      height: 32px;\n",
              "      padding: 0 0 0 0;\n",
              "      width: 32px;\n",
              "    }\n",
              "\n",
              "    .colab-df-convert:hover {\n",
              "      background-color: #E2EBFA;\n",
              "      box-shadow: 0px 1px 2px rgba(60, 64, 67, 0.3), 0px 1px 3px 1px rgba(60, 64, 67, 0.15);\n",
              "      fill: #174EA6;\n",
              "    }\n",
              "\n",
              "    .colab-df-buttons div {\n",
              "      margin-bottom: 4px;\n",
              "    }\n",
              "\n",
              "    [theme=dark] .colab-df-convert {\n",
              "      background-color: #3B4455;\n",
              "      fill: #D2E3FC;\n",
              "    }\n",
              "\n",
              "    [theme=dark] .colab-df-convert:hover {\n",
              "      background-color: #434B5C;\n",
              "      box-shadow: 0px 1px 3px 1px rgba(0, 0, 0, 0.15);\n",
              "      filter: drop-shadow(0px 1px 2px rgba(0, 0, 0, 0.3));\n",
              "      fill: #FFFFFF;\n",
              "    }\n",
              "  </style>\n",
              "\n",
              "    <script>\n",
              "      const buttonEl =\n",
              "        document.querySelector('#df-4f4801b4-d04a-4771-a8d7-b47e8d4ffe2a button.colab-df-convert');\n",
              "      buttonEl.style.display =\n",
              "        google.colab.kernel.accessAllowed ? 'block' : 'none';\n",
              "\n",
              "      async function convertToInteractive(key) {\n",
              "        const element = document.querySelector('#df-4f4801b4-d04a-4771-a8d7-b47e8d4ffe2a');\n",
              "        const dataTable =\n",
              "          await google.colab.kernel.invokeFunction('convertToInteractive',\n",
              "                                                    [key], {});\n",
              "        if (!dataTable) return;\n",
              "\n",
              "        const docLinkHtml = 'Like what you see? Visit the ' +\n",
              "          '<a target=\"_blank\" href=https://colab.research.google.com/notebooks/data_table.ipynb>data table notebook</a>'\n",
              "          + ' to learn more about interactive tables.';\n",
              "        element.innerHTML = '';\n",
              "        dataTable['output_type'] = 'display_data';\n",
              "        await google.colab.output.renderOutput(dataTable, element);\n",
              "        const docLink = document.createElement('div');\n",
              "        docLink.innerHTML = docLinkHtml;\n",
              "        element.appendChild(docLink);\n",
              "      }\n",
              "    </script>\n",
              "  </div>\n",
              "\n",
              "\n",
              "<div id=\"df-0c63ff6c-3db6-4b1f-8693-b855426a99cc\">\n",
              "  <button class=\"colab-df-quickchart\" onclick=\"quickchart('df-0c63ff6c-3db6-4b1f-8693-b855426a99cc')\"\n",
              "            title=\"Suggest charts.\"\n",
              "            style=\"display:none;\">\n",
              "\n",
              "<svg xmlns=\"http://www.w3.org/2000/svg\" height=\"24px\"viewBox=\"0 0 24 24\"\n",
              "     width=\"24px\">\n",
              "    <g>\n",
              "        <path d=\"M19 3H5c-1.1 0-2 .9-2 2v14c0 1.1.9 2 2 2h14c1.1 0 2-.9 2-2V5c0-1.1-.9-2-2-2zM9 17H7v-7h2v7zm4 0h-2V7h2v10zm4 0h-2v-4h2v4z\"/>\n",
              "    </g>\n",
              "</svg>\n",
              "  </button>\n",
              "\n",
              "<style>\n",
              "  .colab-df-quickchart {\n",
              "      --bg-color: #E8F0FE;\n",
              "      --fill-color: #1967D2;\n",
              "      --hover-bg-color: #E2EBFA;\n",
              "      --hover-fill-color: #174EA6;\n",
              "      --disabled-fill-color: #AAA;\n",
              "      --disabled-bg-color: #DDD;\n",
              "  }\n",
              "\n",
              "  [theme=dark] .colab-df-quickchart {\n",
              "      --bg-color: #3B4455;\n",
              "      --fill-color: #D2E3FC;\n",
              "      --hover-bg-color: #434B5C;\n",
              "      --hover-fill-color: #FFFFFF;\n",
              "      --disabled-bg-color: #3B4455;\n",
              "      --disabled-fill-color: #666;\n",
              "  }\n",
              "\n",
              "  .colab-df-quickchart {\n",
              "    background-color: var(--bg-color);\n",
              "    border: none;\n",
              "    border-radius: 50%;\n",
              "    cursor: pointer;\n",
              "    display: none;\n",
              "    fill: var(--fill-color);\n",
              "    height: 32px;\n",
              "    padding: 0;\n",
              "    width: 32px;\n",
              "  }\n",
              "\n",
              "  .colab-df-quickchart:hover {\n",
              "    background-color: var(--hover-bg-color);\n",
              "    box-shadow: 0 1px 2px rgba(60, 64, 67, 0.3), 0 1px 3px 1px rgba(60, 64, 67, 0.15);\n",
              "    fill: var(--button-hover-fill-color);\n",
              "  }\n",
              "\n",
              "  .colab-df-quickchart-complete:disabled,\n",
              "  .colab-df-quickchart-complete:disabled:hover {\n",
              "    background-color: var(--disabled-bg-color);\n",
              "    fill: var(--disabled-fill-color);\n",
              "    box-shadow: none;\n",
              "  }\n",
              "\n",
              "  .colab-df-spinner {\n",
              "    border: 2px solid var(--fill-color);\n",
              "    border-color: transparent;\n",
              "    border-bottom-color: var(--fill-color);\n",
              "    animation:\n",
              "      spin 1s steps(1) infinite;\n",
              "  }\n",
              "\n",
              "  @keyframes spin {\n",
              "    0% {\n",
              "      border-color: transparent;\n",
              "      border-bottom-color: var(--fill-color);\n",
              "      border-left-color: var(--fill-color);\n",
              "    }\n",
              "    20% {\n",
              "      border-color: transparent;\n",
              "      border-left-color: var(--fill-color);\n",
              "      border-top-color: var(--fill-color);\n",
              "    }\n",
              "    30% {\n",
              "      border-color: transparent;\n",
              "      border-left-color: var(--fill-color);\n",
              "      border-top-color: var(--fill-color);\n",
              "      border-right-color: var(--fill-color);\n",
              "    }\n",
              "    40% {\n",
              "      border-color: transparent;\n",
              "      border-right-color: var(--fill-color);\n",
              "      border-top-color: var(--fill-color);\n",
              "    }\n",
              "    60% {\n",
              "      border-color: transparent;\n",
              "      border-right-color: var(--fill-color);\n",
              "    }\n",
              "    80% {\n",
              "      border-color: transparent;\n",
              "      border-right-color: var(--fill-color);\n",
              "      border-bottom-color: var(--fill-color);\n",
              "    }\n",
              "    90% {\n",
              "      border-color: transparent;\n",
              "      border-bottom-color: var(--fill-color);\n",
              "    }\n",
              "  }\n",
              "</style>\n",
              "\n",
              "  <script>\n",
              "    async function quickchart(key) {\n",
              "      const quickchartButtonEl =\n",
              "        document.querySelector('#' + key + ' button');\n",
              "      quickchartButtonEl.disabled = true;  // To prevent multiple clicks.\n",
              "      quickchartButtonEl.classList.add('colab-df-spinner');\n",
              "      try {\n",
              "        const charts = await google.colab.kernel.invokeFunction(\n",
              "            'suggestCharts', [key], {});\n",
              "      } catch (error) {\n",
              "        console.error('Error during call to suggestCharts:', error);\n",
              "      }\n",
              "      quickchartButtonEl.classList.remove('colab-df-spinner');\n",
              "      quickchartButtonEl.classList.add('colab-df-quickchart-complete');\n",
              "    }\n",
              "    (() => {\n",
              "      let quickchartButtonEl =\n",
              "        document.querySelector('#df-0c63ff6c-3db6-4b1f-8693-b855426a99cc button');\n",
              "      quickchartButtonEl.style.display =\n",
              "        google.colab.kernel.accessAllowed ? 'block' : 'none';\n",
              "    })();\n",
              "  </script>\n",
              "</div>\n",
              "    </div>\n",
              "  </div>\n"
            ]
          },
          "metadata": {},
          "execution_count": 101
        }
      ],
      "source": [
        "dataset1"
      ]
    },
    {
      "cell_type": "code",
      "execution_count": 102,
      "metadata": {
        "id": "KmsJlYkaGucA",
        "colab": {
          "base_uri": "https://localhost:8080/"
        },
        "outputId": "88224ec7-7647-443c-86ac-8aa0826cf7de"
      },
      "outputs": [
        {
          "output_type": "stream",
          "name": "stdout",
          "text": [
            "<class 'pandas.core.frame.DataFrame'>\n",
            "RangeIndex: 39552 entries, 0 to 39551\n",
            "Data columns (total 6 columns):\n",
            " #   Column       Non-Null Count  Dtype  \n",
            "---  ------       --------------  -----  \n",
            " 0   Vmag         39552 non-null  float64\n",
            " 1   Plx          39552 non-null  float64\n",
            " 2   e_Plx        39552 non-null  float64\n",
            " 3   B-V          39552 non-null  float64\n",
            " 4   Amag         39552 non-null  float64\n",
            " 5   TargetClass  39552 non-null  int64  \n",
            "dtypes: float64(5), int64(1)\n",
            "memory usage: 1.8 MB\n"
          ]
        }
      ],
      "source": [
        "dataset1.info()"
      ]
    },
    {
      "cell_type": "code",
      "execution_count": 103,
      "metadata": {
        "id": "7a1axOLIG_Kb",
        "colab": {
          "base_uri": "https://localhost:8080/"
        },
        "outputId": "5c91f546-072a-497a-e7c5-322813372748"
      },
      "outputs": [
        {
          "output_type": "execute_result",
          "data": {
            "text/plain": [
              "Vmag           0\n",
              "Plx            0\n",
              "e_Plx          0\n",
              "B-V            0\n",
              "Amag           0\n",
              "TargetClass    0\n",
              "dtype: int64"
            ]
          },
          "metadata": {},
          "execution_count": 103
        }
      ],
      "source": [
        "dataset.isnull().sum()"
      ]
    },
    {
      "cell_type": "code",
      "execution_count": 104,
      "metadata": {
        "id": "NuqST2SUHEKE",
        "colab": {
          "base_uri": "https://localhost:8080/",
          "height": 466
        },
        "outputId": "c10fd7e1-d302-4979-b992-ce32a42b4cb6"
      },
      "outputs": [
        {
          "output_type": "execute_result",
          "data": {
            "text/plain": [
              "<Axes: xlabel='TargetClass', ylabel='count'>"
            ]
          },
          "metadata": {},
          "execution_count": 104
        },
        {
          "output_type": "display_data",
          "data": {
            "text/plain": [
              "<Figure size 640x480 with 1 Axes>"
            ],
            "image/png": "[encoded data removed]"
          },
          "metadata": {}
        }
      ],
      "source": [
        "sns.countplot(data=dataset,x='TargetClass')"
      ]
    },
    {
      "cell_type": "code",
      "execution_count": 105,
      "metadata": {
        "id": "XzUG9IK0HPuN",
        "colab": {
          "base_uri": "https://localhost:8080/",
          "height": 452
        },
        "outputId": "f7615ac9-0519-475e-dd05-352554a6cc30"
      },
      "outputs": [
        {
          "output_type": "execute_result",
          "data": {
            "text/plain": [
              "<Axes: >"
            ]
          },
          "metadata": {},
          "execution_count": 105
        },
        {
          "output_type": "display_data",
          "data": {
            "text/plain": [
              "<Figure size 640x480 with 2 Axes>"
            ],
            "image/png": "[encoded data removed]"
          },
          "metadata": {}
        }
      ],
      "source": [
        "sns.heatmap(dataset1.corr(),annot=True)"
      ]
    },
    {
      "cell_type": "code",
      "execution_count": 106,
      "metadata": {
        "id": "q4U7kfKXHa4Z",
        "colab": {
          "base_uri": "https://localhost:8080/",
          "height": 523
        },
        "outputId": "cfb5b928-ebb0-4a27-8929-b84375e05336"
      },
      "outputs": [
        {
          "output_type": "execute_result",
          "data": {
            "text/plain": [
              "<seaborn.axisgrid.FacetGrid at 0x7c38d02b6e30>"
            ]
          },
          "metadata": {},
          "execution_count": 106
        },
        {
          "output_type": "display_data",
          "data": {
            "text/plain": [
              "<Figure size 500x500 with 1 Axes>"
            ],
            "image/png": "[encoded data removed]"
          },
          "metadata": {}
        }
      ],
      "source": [
        "sns.displot(dataset1['Amag'],kind='kde')"
      ]
    },
    {
      "cell_type": "code",
      "execution_count": 107,
      "metadata": {
        "id": "POAvRtMLHwqJ",
        "colab": {
          "base_uri": "https://localhost:8080/",
          "height": 419
        },
        "outputId": "6eef77bd-5280-4348-f65c-ee85b5c002e3"
      },
      "outputs": [
        {
          "output_type": "execute_result",
          "data": {
            "text/plain": [
              "        Vmag    Plx  e_Plx    B-V       Amag  TargetClass\n",
              "0      10.00  31.66   6.19  1.213  22.502556            1\n",
              "1       8.26   3.21   1.00  1.130  15.792525            0\n",
              "2       8.27  12.75   1.06  0.596  18.797552            1\n",
              "3       6.54   5.23   0.76  1.189  15.132508            0\n",
              "4       8.52   0.96   0.72  0.173  13.431356            1\n",
              "...      ...    ...    ...    ...        ...          ...\n",
              "39547   5.83   0.17   0.52  0.474   6.982245            0\n",
              "39548   7.05  18.12   0.92  0.424  18.340790            1\n",
              "39549   9.21   3.89   1.46  0.227  17.159748            1\n",
              "39550   9.01   2.13   1.46  1.467  15.651898            0\n",
              "39551   9.12   3.82   0.79  0.480  17.030317            1\n",
              "\n",
              "[39552 rows x 6 columns]"
            ],
            "text/html": [
              "\n",
              "  <div id=\"df-f6003b93-6af3-4fce-9ed4-15ed03acdb44\" class=\"colab-df-container\">\n",
              "    <div>\n",
              "<style scoped>\n",
              "    .dataframe tbody tr th:only-of-type {\n",
              "        vertical-align: middle;\n",
              "    }\n",
              "\n",
              "    .dataframe tbody tr th {\n",
              "        vertical-align: top;\n",
              "    }\n",
              "\n",
              "    .dataframe thead th {\n",
              "        text-align: right;\n",
              "    }\n",
              "</style>\n",
              "<table border=\"1\" class=\"dataframe\">\n",
              "  <thead>\n",
              "    <tr style=\"text-align: right;\">\n",
              "      <th></th>\n",
              "      <th>Vmag</th>\n",
              "      <th>Plx</th>\n",
              "      <th>e_Plx</th>\n",
              "      <th>B-V</th>\n",
              "      <th>Amag</th>\n",
              "      <th>TargetClass</th>\n",
              "    </tr>\n",
              "  </thead>\n",
              "  <tbody>\n",
              "    <tr>\n",
              "      <th>0</th>\n",
              "      <td>10.00</td>\n",
              "      <td>31.66</td>\n",
              "      <td>6.19</td>\n",
              "      <td>1.213</td>\n",
              "      <td>22.502556</td>\n",
              "      <td>1</td>\n",
              "    </tr>\n",
              "    <tr>\n",
              "      <th>1</th>\n",
              "      <td>8.26</td>\n",
              "      <td>3.21</td>\n",
              "      <td>1.00</td>\n",
              "      <td>1.130</td>\n",
              "      <td>15.792525</td>\n",
              "      <td>0</td>\n",
              "    </tr>\n",
              "    <tr>\n",
              "      <th>2</th>\n",
              "      <td>8.27</td>\n",
              "      <td>12.75</td>\n",
              "      <td>1.06</td>\n",
              "      <td>0.596</td>\n",
              "      <td>18.797552</td>\n",
              "      <td>1</td>\n",
              "    </tr>\n",
              "    <tr>\n",
              "      <th>3</th>\n",
              "      <td>6.54</td>\n",
              "      <td>5.23</td>\n",
              "      <td>0.76</td>\n",
              "      <td>1.189</td>\n",
              "      <td>15.132508</td>\n",
              "      <td>0</td>\n",
              "    </tr>\n",
              "    <tr>\n",
              "      <th>4</th>\n",
              "      <td>8.52</td>\n",
              "      <td>0.96</td>\n",
              "      <td>0.72</td>\n",
              "      <td>0.173</td>\n",
              "      <td>13.431356</td>\n",
              "      <td>1</td>\n",
              "    </tr>\n",
              "    <tr>\n",
              "      <th>...</th>\n",
              "      <td>...</td>\n",
              "      <td>...</td>\n",
              "      <td>...</td>\n",
              "      <td>...</td>\n",
              "      <td>...</td>\n",
              "      <td>...</td>\n",
              "    </tr>\n",
              "    <tr>\n",
              "      <th>39547</th>\n",
              "      <td>5.83</td>\n",
              "      <td>0.17</td>\n",
              "      <td>0.52</td>\n",
              "      <td>0.474</td>\n",
              "      <td>6.982245</td>\n",
              "      <td>0</td>\n",
              "    </tr>\n",
              "    <tr>\n",
              "      <th>39548</th>\n",
              "      <td>7.05</td>\n",
              "      <td>18.12</td>\n",
              "      <td>0.92</td>\n",
              "      <td>0.424</td>\n",
              "      <td>18.340790</td>\n",
              "      <td>1</td>\n",
              "    </tr>\n",
              "    <tr>\n",
              "      <th>39549</th>\n",
              "      <td>9.21</td>\n",
              "      <td>3.89</td>\n",
              "      <td>1.46</td>\n",
              "      <td>0.227</td>\n",
              "      <td>17.159748</td>\n",
              "      <td>1</td>\n",
              "    </tr>\n",
              "    <tr>\n",
              "      <th>39550</th>\n",
              "      <td>9.01</td>\n",
              "      <td>2.13</td>\n",
              "      <td>1.46</td>\n",
              "      <td>1.467</td>\n",
              "      <td>15.651898</td>\n",
              "      <td>0</td>\n",
              "    </tr>\n",
              "    <tr>\n",
              "      <th>39551</th>\n",
              "      <td>9.12</td>\n",
              "      <td>3.82</td>\n",
              "      <td>0.79</td>\n",
              "      <td>0.480</td>\n",
              "      <td>17.030317</td>\n",
              "      <td>1</td>\n",
              "    </tr>\n",
              "  </tbody>\n",
              "</table>\n",
              "<p>39552 rows × 6 columns</p>\n",
              "</div>\n",
              "    <div class=\"colab-df-buttons\">\n",
              "\n",
              "  <div class=\"colab-df-container\">\n",
              "    <button class=\"colab-df-convert\" onclick=\"convertToInteractive('df-f6003b93-6af3-4fce-9ed4-15ed03acdb44')\"\n",
              "            title=\"Convert this dataframe to an interactive table.\"\n",
              "            style=\"display:none;\">\n",
              "\n",
              "  <svg xmlns=\"http://www.w3.org/2000/svg\" height=\"24px\" viewBox=\"0 -960 960 960\">\n",
              "    <path d=\"M120-120v-720h720v720H120Zm60-500h600v-160H180v160Zm220 220h160v-160H400v160Zm0 220h160v-160H400v160ZM180-400h160v-160H180v160Zm440 0h160v-160H620v160ZM180-180h160v-160H180v160Zm440 0h160v-160H620v160Z\"/>\n",
              "  </svg>\n",
              "    </button>\n",
              "\n",
              "  <style>\n",
              "    .colab-df-container {\n",
              "      display:flex;\n",
              "      gap: 12px;\n",
              "    }\n",
              "\n",
              "    .colab-df-convert {\n",
              "      background-color: #E8F0FE;\n",
              "      border: none;\n",
              "      border-radius: 50%;\n",
              "      cursor: pointer;\n",
              "      display: none;\n",
              "      fill: #1967D2;\n",
              "      height: 32px;\n",
              "      padding: 0 0 0 0;\n",
              "      width: 32px;\n",
              "    }\n",
              "\n",
              "    .colab-df-convert:hover {\n",
              "      background-color: #E2EBFA;\n",
              "      box-shadow: 0px 1px 2px rgba(60, 64, 67, 0.3), 0px 1px 3px 1px rgba(60, 64, 67, 0.15);\n",
              "      fill: #174EA6;\n",
              "    }\n",
              "\n",
              "    .colab-df-buttons div {\n",
              "      margin-bottom: 4px;\n",
              "    }\n",
              "\n",
              "    [theme=dark] .colab-df-convert {\n",
              "      background-color: #3B4455;\n",
              "      fill: #D2E3FC;\n",
              "    }\n",
              "\n",
              "    [theme=dark] .colab-df-convert:hover {\n",
              "      background-color: #434B5C;\n",
              "      box-shadow: 0px 1px 3px 1px rgba(0, 0, 0, 0.15);\n",
              "      filter: drop-shadow(0px 1px 2px rgba(0, 0, 0, 0.3));\n",
              "      fill: #FFFFFF;\n",
              "    }\n",
              "  </style>\n",
              "\n",
              "    <script>\n",
              "      const buttonEl =\n",
              "        document.querySelector('#df-f6003b93-6af3-4fce-9ed4-15ed03acdb44 button.colab-df-convert');\n",
              "      buttonEl.style.display =\n",
              "        google.colab.kernel.accessAllowed ? 'block' : 'none';\n",
              "\n",
              "      async function convertToInteractive(key) {\n",
              "        const element = document.querySelector('#df-f6003b93-6af3-4fce-9ed4-15ed03acdb44');\n",
              "        const dataTable =\n",
              "          await google.colab.kernel.invokeFunction('convertToInteractive',\n",
              "                                                    [key], {});\n",
              "        if (!dataTable) return;\n",
              "\n",
              "        const docLinkHtml = 'Like what you see? Visit the ' +\n",
              "          '<a target=\"_blank\" href=https://colab.research.google.com/notebooks/data_table.ipynb>data table notebook</a>'\n",
              "          + ' to learn more about interactive tables.';\n",
              "        element.innerHTML = '';\n",
              "        dataTable['output_type'] = 'display_data';\n",
              "        await google.colab.output.renderOutput(dataTable, element);\n",
              "        const docLink = document.createElement('div');\n",
              "        docLink.innerHTML = docLinkHtml;\n",
              "        element.appendChild(docLink);\n",
              "      }\n",
              "    </script>\n",
              "  </div>\n",
              "\n",
              "\n",
              "<div id=\"df-65c11743-9e76-4741-9cc9-bbac13277f85\">\n",
              "  <button class=\"colab-df-quickchart\" onclick=\"quickchart('df-65c11743-9e76-4741-9cc9-bbac13277f85')\"\n",
              "            title=\"Suggest charts.\"\n",
              "            style=\"display:none;\">\n",
              "\n",
              "<svg xmlns=\"http://www.w3.org/2000/svg\" height=\"24px\"viewBox=\"0 0 24 24\"\n",
              "     width=\"24px\">\n",
              "    <g>\n",
              "        <path d=\"M19 3H5c-1.1 0-2 .9-2 2v14c0 1.1.9 2 2 2h14c1.1 0 2-.9 2-2V5c0-1.1-.9-2-2-2zM9 17H7v-7h2v7zm4 0h-2V7h2v10zm4 0h-2v-4h2v4z\"/>\n",
              "    </g>\n",
              "</svg>\n",
              "  </button>\n",
              "\n",
              "<style>\n",
              "  .colab-df-quickchart {\n",
              "      --bg-color: #E8F0FE;\n",
              "      --fill-color: #1967D2;\n",
              "      --hover-bg-color: #E2EBFA;\n",
              "      --hover-fill-color: #174EA6;\n",
              "      --disabled-fill-color: #AAA;\n",
              "      --disabled-bg-color: #DDD;\n",
              "  }\n",
              "\n",
              "  [theme=dark] .colab-df-quickchart {\n",
              "      --bg-color: #3B4455;\n",
              "      --fill-color: #D2E3FC;\n",
              "      --hover-bg-color: #434B5C;\n",
              "      --hover-fill-color: #FFFFFF;\n",
              "      --disabled-bg-color: #3B4455;\n",
              "      --disabled-fill-color: #666;\n",
              "  }\n",
              "\n",
              "  .colab-df-quickchart {\n",
              "    background-color: var(--bg-color);\n",
              "    border: none;\n",
              "    border-radius: 50%;\n",
              "    cursor: pointer;\n",
              "    display: none;\n",
              "    fill: var(--fill-color);\n",
              "    height: 32px;\n",
              "    padding: 0;\n",
              "    width: 32px;\n",
              "  }\n",
              "\n",
              "  .colab-df-quickchart:hover {\n",
              "    background-color: var(--hover-bg-color);\n",
              "    box-shadow: 0 1px 2px rgba(60, 64, 67, 0.3), 0 1px 3px 1px rgba(60, 64, 67, 0.15);\n",
              "    fill: var(--button-hover-fill-color);\n",
              "  }\n",
              "\n",
              "  .colab-df-quickchart-complete:disabled,\n",
              "  .colab-df-quickchart-complete:disabled:hover {\n",
              "    background-color: var(--disabled-bg-color);\n",
              "    fill: var(--disabled-fill-color);\n",
              "    box-shadow: none;\n",
              "  }\n",
              "\n",
              "  .colab-df-spinner {\n",
              "    border: 2px solid var(--fill-color);\n",
              "    border-color: transparent;\n",
              "    border-bottom-color: var(--fill-color);\n",
              "    animation:\n",
              "      spin 1s steps(1) infinite;\n",
              "  }\n",
              "\n",
              "  @keyframes spin {\n",
              "    0% {\n",
              "      border-color: transparent;\n",
              "      border-bottom-color: var(--fill-color);\n",
              "      border-left-color: var(--fill-color);\n",
              "    }\n",
              "    20% {\n",
              "      border-color: transparent;\n",
              "      border-left-color: var(--fill-color);\n",
              "      border-top-color: var(--fill-color);\n",
              "    }\n",
              "    30% {\n",
              "      border-color: transparent;\n",
              "      border-left-color: var(--fill-color);\n",
              "      border-top-color: var(--fill-color);\n",
              "      border-right-color: var(--fill-color);\n",
              "    }\n",
              "    40% {\n",
              "      border-color: transparent;\n",
              "      border-right-color: var(--fill-color);\n",
              "      border-top-color: var(--fill-color);\n",
              "    }\n",
              "    60% {\n",
              "      border-color: transparent;\n",
              "      border-right-color: var(--fill-color);\n",
              "    }\n",
              "    80% {\n",
              "      border-color: transparent;\n",
              "      border-right-color: var(--fill-color);\n",
              "      border-bottom-color: var(--fill-color);\n",
              "    }\n",
              "    90% {\n",
              "      border-color: transparent;\n",
              "      border-bottom-color: var(--fill-color);\n",
              "    }\n",
              "  }\n",
              "</style>\n",
              "\n",
              "  <script>\n",
              "    async function quickchart(key) {\n",
              "      const quickchartButtonEl =\n",
              "        document.querySelector('#' + key + ' button');\n",
              "      quickchartButtonEl.disabled = true;  // To prevent multiple clicks.\n",
              "      quickchartButtonEl.classList.add('colab-df-spinner');\n",
              "      try {\n",
              "        const charts = await google.colab.kernel.invokeFunction(\n",
              "            'suggestCharts', [key], {});\n",
              "      } catch (error) {\n",
              "        console.error('Error during call to suggestCharts:', error);\n",
              "      }\n",
              "      quickchartButtonEl.classList.remove('colab-df-spinner');\n",
              "      quickchartButtonEl.classList.add('colab-df-quickchart-complete');\n",
              "    }\n",
              "    (() => {\n",
              "      let quickchartButtonEl =\n",
              "        document.querySelector('#df-65c11743-9e76-4741-9cc9-bbac13277f85 button');\n",
              "      quickchartButtonEl.style.display =\n",
              "        google.colab.kernel.accessAllowed ? 'block' : 'none';\n",
              "    })();\n",
              "  </script>\n",
              "</div>\n",
              "    </div>\n",
              "  </div>\n"
            ]
          },
          "metadata": {},
          "execution_count": 107
        }
      ],
      "source": [
        "dataset1"
      ]
    },
    {
      "cell_type": "code",
      "source": [
        "X1=dataset1.iloc[:,0:5].values\n",
        "y1=dataset1.iloc[:,-1].values\n"
      ],
      "metadata": {
        "id": "zHqfUy-YL899"
      },
      "execution_count": 108,
      "outputs": []
    },
    {
      "cell_type": "code",
      "source": [
        "X1"
      ],
      "metadata": {
        "id": "1aVvpvVgMU_1",
        "colab": {
          "base_uri": "https://localhost:8080/"
        },
        "outputId": "46459960-d2ce-41fa-8db3-4c5d9f3a09ca"
      },
      "execution_count": 109,
      "outputs": [
        {
          "output_type": "execute_result",
          "data": {
            "text/plain": [
              "array([[10.      , 31.66    ,  6.19    ,  1.213   , 22.502556],\n",
              "       [ 8.26    ,  3.21    ,  1.      ,  1.13    , 15.792525],\n",
              "       [ 8.27    , 12.75    ,  1.06    ,  0.596   , 18.797552],\n",
              "       ...,\n",
              "       [ 9.21    ,  3.89    ,  1.46    ,  0.227   , 17.159748],\n",
              "       [ 9.01    ,  2.13    ,  1.46    ,  1.467   , 15.651898],\n",
              "       [ 9.12    ,  3.82    ,  0.79    ,  0.48    , 17.030317]])"
            ]
          },
          "metadata": {},
          "execution_count": 109
        }
      ]
    },
    {
      "cell_type": "code",
      "source": [
        "y1"
      ],
      "metadata": {
        "id": "3VjZBYBgMVyG",
        "colab": {
          "base_uri": "https://localhost:8080/"
        },
        "outputId": "83b60bce-0a2c-4bea-8551-5307be8a1421"
      },
      "execution_count": 110,
      "outputs": [
        {
          "output_type": "execute_result",
          "data": {
            "text/plain": [
              "array([1, 0, 1, ..., 1, 0, 1])"
            ]
          },
          "metadata": {},
          "execution_count": 110
        }
      ]
    },
    {
      "cell_type": "code",
      "source": [
        "from sklearn.model_selection import train_test_split\n",
        "X_train, X_test, y_train, y_test = train_test_split(X1, y1, test_size = 0.2, random_state = 1)"
      ],
      "metadata": {
        "id": "ruvC6eBtMWdI"
      },
      "execution_count": 111,
      "outputs": []
    },
    {
      "cell_type": "code",
      "source": [
        "from sklearn.preprocessing import StandardScaler\n",
        "sc = StandardScaler()\n",
        "X_train = sc.fit_transform(X_train)\n",
        "X_test = sc.transform(X_test)"
      ],
      "metadata": {
        "id": "aGHfbB33M7ev"
      },
      "execution_count": 112,
      "outputs": []
    },
    {
      "cell_type": "code",
      "source": [
        "from sklearn.linear_model import LogisticRegression"
      ],
      "metadata": {
        "id": "Ru6ogjBJNFLp"
      },
      "execution_count": 113,
      "outputs": []
    },
    {
      "cell_type": "code",
      "source": [
        "logi=LogisticRegression()"
      ],
      "metadata": {
        "id": "UqZ0TduWNd5Q"
      },
      "execution_count": 114,
      "outputs": []
    },
    {
      "cell_type": "code",
      "source": [
        "logi.fit(X_train,y_train)"
      ],
      "metadata": {
        "id": "XcJNtNIMNlfM",
        "colab": {
          "base_uri": "https://localhost:8080/",
          "height": 74
        },
        "outputId": "59912700-8537-443c-f996-179adb0dbbb8"
      },
      "execution_count": 115,
      "outputs": [
        {
          "output_type": "execute_result",
          "data": {
            "text/plain": [
              "LogisticRegression()"
            ],
            "text/html": [
              "<style>#sk-container-id-9 {color: black;background-color: white;}#sk-container-id-9 pre{padding: 0;}#sk-container-id-9 div.sk-toggleable {background-color: white;}#sk-container-id-9 label.sk-toggleable__label {cursor: pointer;display: block;width: 100%;margin-bottom: 0;padding: 0.3em;box-sizing: border-box;text-align: center;}#sk-container-id-9 label.sk-toggleable__label-arrow:before {content: \"▸\";float: left;margin-right: 0.25em;color: #696969;}#sk-container-id-9 label.sk-toggleable__label-arrow:hover:before {color: black;}#sk-container-id-9 div.sk-estimator:hover label.sk-toggleable__label-arrow:before {color: black;}#sk-container-id-9 div.sk-toggleable__content {max-height: 0;max-width: 0;overflow: hidden;text-align: left;background-color: #f0f8ff;}#sk-container-id-9 div.sk-toggleable__content pre {margin: 0.2em;color: black;border-radius: 0.25em;background-color: #f0f8ff;}#sk-container-id-9 input.sk-toggleable__control:checked~div.sk-toggleable__content {max-height: 200px;max-width: 100%;overflow: auto;}#sk-container-id-9 input.sk-toggleable__control:checked~label.sk-toggleable__label-arrow:before {content: \"▾\";}#sk-container-id-9 div.sk-estimator input.sk-toggleable__control:checked~label.sk-toggleable__label {background-color: #d4ebff;}#sk-container-id-9 div.sk-label input.sk-toggleable__control:checked~label.sk-toggleable__label {background-color: #d4ebff;}#sk-container-id-9 input.sk-hidden--visually {border: 0;clip: rect(1px 1px 1px 1px);clip: rect(1px, 1px, 1px, 1px);height: 1px;margin: -1px;overflow: hidden;padding: 0;position: absolute;width: 1px;}#sk-container-id-9 div.sk-estimator {font-family: monospace;background-color: #f0f8ff;border: 1px dotted black;border-radius: 0.25em;box-sizing: border-box;margin-bottom: 0.5em;}#sk-container-id-9 div.sk-estimator:hover {background-color: #d4ebff;}#sk-container-id-9 div.sk-parallel-item::after {content: \"\";width: 100%;border-bottom: 1px solid gray;flex-grow: 1;}#sk-container-id-9 div.sk-label:hover label.sk-toggleable__label {background-color: #d4ebff;}#sk-container-id-9 div.sk-serial::before {content: \"\";position: absolute;border-left: 1px solid gray;box-sizing: border-box;top: 0;bottom: 0;left: 50%;z-index: 0;}#sk-container-id-9 div.sk-serial {display: flex;flex-direction: column;align-items: center;background-color: white;padding-right: 0.2em;padding-left: 0.2em;position: relative;}#sk-container-id-9 div.sk-item {position: relative;z-index: 1;}#sk-container-id-9 div.sk-parallel {display: flex;align-items: stretch;justify-content: center;background-color: white;position: relative;}#sk-container-id-9 div.sk-item::before, #sk-container-id-9 div.sk-parallel-item::before {content: \"\";position: absolute;border-left: 1px solid gray;box-sizing: border-box;top: 0;bottom: 0;left: 50%;z-index: -1;}#sk-container-id-9 div.sk-parallel-item {display: flex;flex-direction: column;z-index: 1;position: relative;background-color: white;}#sk-container-id-9 div.sk-parallel-item:first-child::after {align-self: flex-end;width: 50%;}#sk-container-id-9 div.sk-parallel-item:last-child::after {align-self: flex-start;width: 50%;}#sk-container-id-9 div.sk-parallel-item:only-child::after {width: 0;}#sk-container-id-9 div.sk-dashed-wrapped {border: 1px dashed gray;margin: 0 0.4em 0.5em 0.4em;box-sizing: border-box;padding-bottom: 0.4em;background-color: white;}#sk-container-id-9 div.sk-label label {font-family: monospace;font-weight: bold;display: inline-block;line-height: 1.2em;}#sk-container-id-9 div.sk-label-container {text-align: center;}#sk-container-id-9 div.sk-container {/* jupyter's `normalize.less` sets `[hidden] { display: none; }` but bootstrap.min.css set `[hidden] { display: none !important; }` so we also need the `!important` here to be able to override the default hidden behavior on the sphinx rendered scikit-learn.org. See: https://github.com/scikit-learn/scikit-learn/issues/21755 */display: inline-block !important;position: relative;}#sk-container-id-9 div.sk-text-repr-fallback {display: none;}</style><div id=\"sk-container-id-9\" class=\"sk-top-container\"><div class=\"sk-text-repr-fallback\"><pre>LogisticRegression()</pre><b>In a Jupyter environment, please rerun this cell to show the HTML representation or trust the notebook. <br />On GitHub, the HTML representation is unable to render, please try loading this page with nbviewer.org.</b></div><div class=\"sk-container\" hidden><div class=\"sk-item\"><div class=\"sk-estimator sk-toggleable\"><input class=\"sk-toggleable__control sk-hidden--visually\" id=\"sk-estimator-id-9\" type=\"checkbox\" checked><label for=\"sk-estimator-id-9\" class=\"sk-toggleable__label sk-toggleable__label-arrow\">LogisticRegression</label><div class=\"sk-toggleable__content\"><pre>LogisticRegression()</pre></div></div></div></div></div>"
            ]
          },
          "metadata": {},
          "execution_count": 115
        }
      ]
    },
    {
      "cell_type": "code",
      "source": [
        "y_logi=logi.predict(X_test)"
      ],
      "metadata": {
        "id": "8fY8o5epNoiz"
      },
      "execution_count": 116,
      "outputs": []
    },
    {
      "cell_type": "code",
      "source": [
        "print(np.concatenate((y_logi.reshape(len(y_logi),1),y_test.reshape(len(y_test),1)),1))"
      ],
      "metadata": {
        "id": "DVygNIHHNss1",
        "colab": {
          "base_uri": "https://localhost:8080/"
        },
        "outputId": "c4fee7aa-eb23-41d0-8246-9752e56a9fa9"
      },
      "execution_count": 117,
      "outputs": [
        {
          "output_type": "stream",
          "name": "stdout",
          "text": [
            "[[1 1]\n",
            " [1 1]\n",
            " [0 0]\n",
            " ...\n",
            " [1 1]\n",
            " [0 0]\n",
            " [1 0]]\n"
          ]
        }
      ]
    },
    {
      "cell_type": "code",
      "source": [
        "from sklearn.metrics import accuracy_score\n",
        "accuracy_score(y_test, y_logi)"
      ],
      "metadata": {
        "id": "PFumxwu5NwEg",
        "colab": {
          "base_uri": "https://localhost:8080/"
        },
        "outputId": "6573f7c3-9ce8-47d1-ff6e-616c64ebc5a1"
      },
      "execution_count": 118,
      "outputs": [
        {
          "output_type": "execute_result",
          "data": {
            "text/plain": [
              "0.8809252938945772"
            ]
          },
          "metadata": {},
          "execution_count": 118
        }
      ]
    },
    {
      "cell_type": "code",
      "source": [
        "from sklearn.metrics import confusion_matrix\n",
        "print(confusion_matrix(y_test,y_logi))"
      ],
      "metadata": {
        "id": "2qvp7jWiN7Vs",
        "colab": {
          "base_uri": "https://localhost:8080/"
        },
        "outputId": "bbbd8687-fb66-406c-8bfc-bc15e3b633d7"
      },
      "execution_count": 119,
      "outputs": [
        {
          "output_type": "stream",
          "name": "stdout",
          "text": [
            "[[3357  556]\n",
            " [ 386 3612]]\n"
          ]
        }
      ]
    },
    {
      "cell_type": "code",
      "source": [
        "from sklearn.metrics import classification_report\n",
        "print(classification_report(y_test, y_logi))"
      ],
      "metadata": {
        "id": "t5HK48SdN-3o",
        "colab": {
          "base_uri": "https://localhost:8080/"
        },
        "outputId": "3be2fd30-487c-4dd8-caa6-7dbb367c9212"
      },
      "execution_count": 120,
      "outputs": [
        {
          "output_type": "stream",
          "name": "stdout",
          "text": [
            "              precision    recall  f1-score   support\n",
            "\n",
            "           0       0.90      0.86      0.88      3913\n",
            "           1       0.87      0.90      0.88      3998\n",
            "\n",
            "    accuracy                           0.88      7911\n",
            "   macro avg       0.88      0.88      0.88      7911\n",
            "weighted avg       0.88      0.88      0.88      7911\n",
            "\n"
          ]
        }
      ]
    },
    {
      "cell_type": "code",
      "source": [
        "from sklearn.svm import SVC"
      ],
      "metadata": {
        "id": "3DvNQAW1ONCZ"
      },
      "execution_count": 121,
      "outputs": []
    },
    {
      "cell_type": "code",
      "source": [
        "sv=SVC(C=1, kernel='rbf',gamma = 0.2)"
      ],
      "metadata": {
        "id": "YCpzMr3UTzZF"
      },
      "execution_count": 122,
      "outputs": []
    },
    {
      "cell_type": "markdown",
      "source": [
        "from sklearn.model_selection import GridSearchCV\n",
        "parameters = [{'C': [0.25, 0.5, 0.75, 1], 'kernel': ['linear']},\n",
        "              {'C': [0.25, 0.5, 0.75, 1], 'kernel': ['rbf'], 'gamma': [0.1, 0.2, 0.3, 0.4, 0.5, 0.6, 0.7, 0.8, 0.9]}]\n",
        "grid_search = GridSearchCV(estimator = sv,\n",
        "                           param_grid = parameters,\n",
        "                           scoring = 'accuracy',\n",
        "                           cv = 10,\n",
        "                           n_jobs = -1)\n",
        "grid_search.fit(X_train, y_train)\n",
        "best_accuracy = grid_search.best_score_\n",
        "best_parameters = grid_search.best_params_\n",
        "print(\"Best Accuracy: {:.2f} %\".format(best_accuracy*100))\n",
        "print(\"Best Parameters:\", best_parameters)"
      ],
      "metadata": {
        "id": "ayCwYPACt3Il"
      }
    },
    {
      "cell_type": "code",
      "source": [
        "sv.fit(X_train,y_train)"
      ],
      "metadata": {
        "id": "i2NaoDV9T66A",
        "colab": {
          "base_uri": "https://localhost:8080/",
          "height": 74
        },
        "outputId": "7d4338eb-2e83-4cb2-a46a-8361049d99b5"
      },
      "execution_count": 123,
      "outputs": [
        {
          "output_type": "execute_result",
          "data": {
            "text/plain": [
              "SVC(C=1, gamma=0.2)"
            ],
            "text/html": [
              "<style>#sk-container-id-10 {color: black;background-color: white;}#sk-container-id-10 pre{padding: 0;}#sk-container-id-10 div.sk-toggleable {background-color: white;}#sk-container-id-10 label.sk-toggleable__label {cursor: pointer;display: block;width: 100%;margin-bottom: 0;padding: 0.3em;box-sizing: border-box;text-align: center;}#sk-container-id-10 label.sk-toggleable__label-arrow:before {content: \"▸\";float: left;margin-right: 0.25em;color: #696969;}#sk-container-id-10 label.sk-toggleable__label-arrow:hover:before {color: black;}#sk-container-id-10 div.sk-estimator:hover label.sk-toggleable__label-arrow:before {color: black;}#sk-container-id-10 div.sk-toggleable__content {max-height: 0;max-width: 0;overflow: hidden;text-align: left;background-color: #f0f8ff;}#sk-container-id-10 div.sk-toggleable__content pre {margin: 0.2em;color: black;border-radius: 0.25em;background-color: #f0f8ff;}#sk-container-id-10 input.sk-toggleable__control:checked~div.sk-toggleable__content {max-height: 200px;max-width: 100%;overflow: auto;}#sk-container-id-10 input.sk-toggleable__control:checked~label.sk-toggleable__label-arrow:before {content: \"▾\";}#sk-container-id-10 div.sk-estimator input.sk-toggleable__control:checked~label.sk-toggleable__label {background-color: #d4ebff;}#sk-container-id-10 div.sk-label input.sk-toggleable__control:checked~label.sk-toggleable__label {background-color: #d4ebff;}#sk-container-id-10 input.sk-hidden--visually {border: 0;clip: rect(1px 1px 1px 1px);clip: rect(1px, 1px, 1px, 1px);height: 1px;margin: -1px;overflow: hidden;padding: 0;position: absolute;width: 1px;}#sk-container-id-10 div.sk-estimator {font-family: monospace;background-color: #f0f8ff;border: 1px dotted black;border-radius: 0.25em;box-sizing: border-box;margin-bottom: 0.5em;}#sk-container-id-10 div.sk-estimator:hover {background-color: #d4ebff;}#sk-container-id-10 div.sk-parallel-item::after {content: \"\";width: 100%;border-bottom: 1px solid gray;flex-grow: 1;}#sk-container-id-10 div.sk-label:hover label.sk-toggleable__label {background-color: #d4ebff;}#sk-container-id-10 div.sk-serial::before {content: \"\";position: absolute;border-left: 1px solid gray;box-sizing: border-box;top: 0;bottom: 0;left: 50%;z-index: 0;}#sk-container-id-10 div.sk-serial {display: flex;flex-direction: column;align-items: center;background-color: white;padding-right: 0.2em;padding-left: 0.2em;position: relative;}#sk-container-id-10 div.sk-item {position: relative;z-index: 1;}#sk-container-id-10 div.sk-parallel {display: flex;align-items: stretch;justify-content: center;background-color: white;position: relative;}#sk-container-id-10 div.sk-item::before, #sk-container-id-10 div.sk-parallel-item::before {content: \"\";position: absolute;border-left: 1px solid gray;box-sizing: border-box;top: 0;bottom: 0;left: 50%;z-index: -1;}#sk-container-id-10 div.sk-parallel-item {display: flex;flex-direction: column;z-index: 1;position: relative;background-color: white;}#sk-container-id-10 div.sk-parallel-item:first-child::after {align-self: flex-end;width: 50%;}#sk-container-id-10 div.sk-parallel-item:last-child::after {align-self: flex-start;width: 50%;}#sk-container-id-10 div.sk-parallel-item:only-child::after {width: 0;}#sk-container-id-10 div.sk-dashed-wrapped {border: 1px dashed gray;margin: 0 0.4em 0.5em 0.4em;box-sizing: border-box;padding-bottom: 0.4em;background-color: white;}#sk-container-id-10 div.sk-label label {font-family: monospace;font-weight: bold;display: inline-block;line-height: 1.2em;}#sk-container-id-10 div.sk-label-container {text-align: center;}#sk-container-id-10 div.sk-container {/* jupyter's `normalize.less` sets `[hidden] { display: none; }` but bootstrap.min.css set `[hidden] { display: none !important; }` so we also need the `!important` here to be able to override the default hidden behavior on the sphinx rendered scikit-learn.org. See: https://github.com/scikit-learn/scikit-learn/issues/21755 */display: inline-block !important;position: relative;}#sk-container-id-10 div.sk-text-repr-fallback {display: none;}</style><div id=\"sk-container-id-10\" class=\"sk-top-container\"><div class=\"sk-text-repr-fallback\"><pre>SVC(C=1, gamma=0.2)</pre><b>In a Jupyter environment, please rerun this cell to show the HTML representation or trust the notebook. <br />On GitHub, the HTML representation is unable to render, please try loading this page with nbviewer.org.</b></div><div class=\"sk-container\" hidden><div class=\"sk-item\"><div class=\"sk-estimator sk-toggleable\"><input class=\"sk-toggleable__control sk-hidden--visually\" id=\"sk-estimator-id-10\" type=\"checkbox\" checked><label for=\"sk-estimator-id-10\" class=\"sk-toggleable__label sk-toggleable__label-arrow\">SVC</label><div class=\"sk-toggleable__content\"><pre>SVC(C=1, gamma=0.2)</pre></div></div></div></div></div>"
            ]
          },
          "metadata": {},
          "execution_count": 123
        }
      ]
    },
    {
      "cell_type": "code",
      "source": [
        "y_sv=svc.predict(X_test)"
      ],
      "metadata": {
        "id": "dw_QGDkKUrVS"
      },
      "execution_count": 124,
      "outputs": []
    },
    {
      "cell_type": "code",
      "source": [
        "print(np.concatenate((y_sv.reshape(len(y_sv),1),y_test.reshape(len(y_test),1)),1))"
      ],
      "metadata": {
        "id": "nkDQizwuU8IV",
        "colab": {
          "base_uri": "https://localhost:8080/"
        },
        "outputId": "6d70deaf-642c-45d6-82e3-a04316683bae"
      },
      "execution_count": 125,
      "outputs": [
        {
          "output_type": "stream",
          "name": "stdout",
          "text": [
            "[[1 1]\n",
            " [0 1]\n",
            " [0 0]\n",
            " ...\n",
            " [1 1]\n",
            " [0 0]\n",
            " [1 0]]\n"
          ]
        }
      ]
    },
    {
      "cell_type": "code",
      "source": [
        "from sklearn.metrics import accuracy_score\n",
        "accuracy_score(y_test, y_sv)"
      ],
      "metadata": {
        "id": "oDoTz-06U-Le",
        "colab": {
          "base_uri": "https://localhost:8080/"
        },
        "outputId": "08390e3e-0d30-443d-ce51-15243fe10058"
      },
      "execution_count": 126,
      "outputs": [
        {
          "output_type": "execute_result",
          "data": {
            "text/plain": [
              "0.8781443559600556"
            ]
          },
          "metadata": {},
          "execution_count": 126
        }
      ]
    },
    {
      "cell_type": "code",
      "source": [
        "from sklearn.metrics import confusion_matrix\n",
        "print(confusion_matrix(y_test,y_sv))"
      ],
      "metadata": {
        "id": "GiV9jP_0VBGf",
        "colab": {
          "base_uri": "https://localhost:8080/"
        },
        "outputId": "b272d821-69ab-47cc-8c53-ecbbc8ee137f"
      },
      "execution_count": 127,
      "outputs": [
        {
          "output_type": "stream",
          "name": "stdout",
          "text": [
            "[[3402  511]\n",
            " [ 453 3545]]\n"
          ]
        }
      ]
    },
    {
      "cell_type": "code",
      "source": [
        "from sklearn.metrics import classification_report\n",
        "print(classification_report(y_test, y_sv))"
      ],
      "metadata": {
        "id": "PleAIET3VDMW",
        "colab": {
          "base_uri": "https://localhost:8080/"
        },
        "outputId": "fde6a298-8ccf-45d8-ca5a-1557f0bfcbc5"
      },
      "execution_count": 128,
      "outputs": [
        {
          "output_type": "stream",
          "name": "stdout",
          "text": [
            "              precision    recall  f1-score   support\n",
            "\n",
            "           0       0.88      0.87      0.88      3913\n",
            "           1       0.87      0.89      0.88      3998\n",
            "\n",
            "    accuracy                           0.88      7911\n",
            "   macro avg       0.88      0.88      0.88      7911\n",
            "weighted avg       0.88      0.88      0.88      7911\n",
            "\n"
          ]
        }
      ]
    },
    {
      "cell_type": "code",
      "source": [
        "from sklearn.naive_bayes import GaussianNB"
      ],
      "metadata": {
        "id": "8_BcSqJkVLOn"
      },
      "execution_count": 129,
      "outputs": []
    },
    {
      "cell_type": "code",
      "source": [
        "gauss=GaussianNB()"
      ],
      "metadata": {
        "id": "TJHTpQF-lbty"
      },
      "execution_count": 130,
      "outputs": []
    },
    {
      "cell_type": "code",
      "source": [
        "gauss.fit(X_train,y_train)"
      ],
      "metadata": {
        "id": "CaMvcjETlvt_",
        "colab": {
          "base_uri": "https://localhost:8080/",
          "height": 74
        },
        "outputId": "476cf3d6-e556-4f6c-dc82-48e0cc52e730"
      },
      "execution_count": 131,
      "outputs": [
        {
          "output_type": "execute_result",
          "data": {
            "text/plain": [
              "GaussianNB()"
            ],
            "text/html": [
              "<style>#sk-container-id-11 {color: black;background-color: white;}#sk-container-id-11 pre{padding: 0;}#sk-container-id-11 div.sk-toggleable {background-color: white;}#sk-container-id-11 label.sk-toggleable__label {cursor: pointer;display: block;width: 100%;margin-bottom: 0;padding: 0.3em;box-sizing: border-box;text-align: center;}#sk-container-id-11 label.sk-toggleable__label-arrow:before {content: \"▸\";float: left;margin-right: 0.25em;color: #696969;}#sk-container-id-11 label.sk-toggleable__label-arrow:hover:before {color: black;}#sk-container-id-11 div.sk-estimator:hover label.sk-toggleable__label-arrow:before {color: black;}#sk-container-id-11 div.sk-toggleable__content {max-height: 0;max-width: 0;overflow: hidden;text-align: left;background-color: #f0f8ff;}#sk-container-id-11 div.sk-toggleable__content pre {margin: 0.2em;color: black;border-radius: 0.25em;background-color: #f0f8ff;}#sk-container-id-11 input.sk-toggleable__control:checked~div.sk-toggleable__content {max-height: 200px;max-width: 100%;overflow: auto;}#sk-container-id-11 input.sk-toggleable__control:checked~label.sk-toggleable__label-arrow:before {content: \"▾\";}#sk-container-id-11 div.sk-estimator input.sk-toggleable__control:checked~label.sk-toggleable__label {background-color: #d4ebff;}#sk-container-id-11 div.sk-label input.sk-toggleable__control:checked~label.sk-toggleable__label {background-color: #d4ebff;}#sk-container-id-11 input.sk-hidden--visually {border: 0;clip: rect(1px 1px 1px 1px);clip: rect(1px, 1px, 1px, 1px);height: 1px;margin: -1px;overflow: hidden;padding: 0;position: absolute;width: 1px;}#sk-container-id-11 div.sk-estimator {font-family: monospace;background-color: #f0f8ff;border: 1px dotted black;border-radius: 0.25em;box-sizing: border-box;margin-bottom: 0.5em;}#sk-container-id-11 div.sk-estimator:hover {background-color: #d4ebff;}#sk-container-id-11 div.sk-parallel-item::after {content: \"\";width: 100%;border-bottom: 1px solid gray;flex-grow: 1;}#sk-container-id-11 div.sk-label:hover label.sk-toggleable__label {background-color: #d4ebff;}#sk-container-id-11 div.sk-serial::before {content: \"\";position: absolute;border-left: 1px solid gray;box-sizing: border-box;top: 0;bottom: 0;left: 50%;z-index: 0;}#sk-container-id-11 div.sk-serial {display: flex;flex-direction: column;align-items: center;background-color: white;padding-right: 0.2em;padding-left: 0.2em;position: relative;}#sk-container-id-11 div.sk-item {position: relative;z-index: 1;}#sk-container-id-11 div.sk-parallel {display: flex;align-items: stretch;justify-content: center;background-color: white;position: relative;}#sk-container-id-11 div.sk-item::before, #sk-container-id-11 div.sk-parallel-item::before {content: \"\";position: absolute;border-left: 1px solid gray;box-sizing: border-box;top: 0;bottom: 0;left: 50%;z-index: -1;}#sk-container-id-11 div.sk-parallel-item {display: flex;flex-direction: column;z-index: 1;position: relative;background-color: white;}#sk-container-id-11 div.sk-parallel-item:first-child::after {align-self: flex-end;width: 50%;}#sk-container-id-11 div.sk-parallel-item:last-child::after {align-self: flex-start;width: 50%;}#sk-container-id-11 div.sk-parallel-item:only-child::after {width: 0;}#sk-container-id-11 div.sk-dashed-wrapped {border: 1px dashed gray;margin: 0 0.4em 0.5em 0.4em;box-sizing: border-box;padding-bottom: 0.4em;background-color: white;}#sk-container-id-11 div.sk-label label {font-family: monospace;font-weight: bold;display: inline-block;line-height: 1.2em;}#sk-container-id-11 div.sk-label-container {text-align: center;}#sk-container-id-11 div.sk-container {/* jupyter's `normalize.less` sets `[hidden] { display: none; }` but bootstrap.min.css set `[hidden] { display: none !important; }` so we also need the `!important` here to be able to override the default hidden behavior on the sphinx rendered scikit-learn.org. See: https://github.com/scikit-learn/scikit-learn/issues/21755 */display: inline-block !important;position: relative;}#sk-container-id-11 div.sk-text-repr-fallback {display: none;}</style><div id=\"sk-container-id-11\" class=\"sk-top-container\"><div class=\"sk-text-repr-fallback\"><pre>GaussianNB()</pre><b>In a Jupyter environment, please rerun this cell to show the HTML representation or trust the notebook. <br />On GitHub, the HTML representation is unable to render, please try loading this page with nbviewer.org.</b></div><div class=\"sk-container\" hidden><div class=\"sk-item\"><div class=\"sk-estimator sk-toggleable\"><input class=\"sk-toggleable__control sk-hidden--visually\" id=\"sk-estimator-id-11\" type=\"checkbox\" checked><label for=\"sk-estimator-id-11\" class=\"sk-toggleable__label sk-toggleable__label-arrow\">GaussianNB</label><div class=\"sk-toggleable__content\"><pre>GaussianNB()</pre></div></div></div></div></div>"
            ]
          },
          "metadata": {},
          "execution_count": 131
        }
      ]
    },
    {
      "cell_type": "code",
      "source": [
        "y_gauss=gauss.predict(X_test)"
      ],
      "metadata": {
        "id": "X_jE6K4blyT8"
      },
      "execution_count": 132,
      "outputs": []
    },
    {
      "cell_type": "code",
      "source": [
        "print(np.concatenate((y_gauss.reshape(len(y_gauss),1),y_test.reshape(len(y_test),1)),1))"
      ],
      "metadata": {
        "id": "MN0K1T0_l2tr",
        "colab": {
          "base_uri": "https://localhost:8080/"
        },
        "outputId": "000a7b96-d8d7-4417-d841-b1afc6d37f26"
      },
      "execution_count": 133,
      "outputs": [
        {
          "output_type": "stream",
          "name": "stdout",
          "text": [
            "[[1 1]\n",
            " [0 1]\n",
            " [0 0]\n",
            " ...\n",
            " [1 1]\n",
            " [0 0]\n",
            " [0 0]]\n"
          ]
        }
      ]
    },
    {
      "cell_type": "code",
      "source": [
        "from sklearn.metrics import accuracy_score\n",
        "accuracy_score(y_test, y_gauss)"
      ],
      "metadata": {
        "id": "jYtNQUt-l_O_",
        "colab": {
          "base_uri": "https://localhost:8080/"
        },
        "outputId": "ada7cfd8-d298-4461-e18f-9ce9f7931c11"
      },
      "execution_count": 134,
      "outputs": [
        {
          "output_type": "execute_result",
          "data": {
            "text/plain": [
              "0.8000252812539502"
            ]
          },
          "metadata": {},
          "execution_count": 134
        }
      ]
    },
    {
      "cell_type": "code",
      "source": [
        "from sklearn.metrics import confusion_matrix\n",
        "print(confusion_matrix(y_test,y_gauss))"
      ],
      "metadata": {
        "id": "ZIp1BIA9mBWn",
        "colab": {
          "base_uri": "https://localhost:8080/"
        },
        "outputId": "80efe390-bf76-4805-fc22-9367f8453d4f"
      },
      "execution_count": 135,
      "outputs": [
        {
          "output_type": "stream",
          "name": "stdout",
          "text": [
            "[[3642  271]\n",
            " [1311 2687]]\n"
          ]
        }
      ]
    },
    {
      "cell_type": "code",
      "source": [
        "from sklearn.metrics import classification_report\n",
        "print(classification_report(y_test, y_gauss))"
      ],
      "metadata": {
        "id": "rswh9EQgmMEB",
        "colab": {
          "base_uri": "https://localhost:8080/"
        },
        "outputId": "dc4e11d5-cf9c-47f8-c9d0-dc528ae72f1b"
      },
      "execution_count": 136,
      "outputs": [
        {
          "output_type": "stream",
          "name": "stdout",
          "text": [
            "              precision    recall  f1-score   support\n",
            "\n",
            "           0       0.74      0.93      0.82      3913\n",
            "           1       0.91      0.67      0.77      3998\n",
            "\n",
            "    accuracy                           0.80      7911\n",
            "   macro avg       0.82      0.80      0.80      7911\n",
            "weighted avg       0.82      0.80      0.80      7911\n",
            "\n"
          ]
        }
      ]
    },
    {
      "cell_type": "code",
      "source": [
        "from sklearn.tree import DecisionTreeClassifier"
      ],
      "metadata": {
        "id": "wR6RCeBmmPUn"
      },
      "execution_count": 137,
      "outputs": []
    },
    {
      "cell_type": "code",
      "source": [
        "dtc=DecisionTreeClassifier(criterion='entropy')"
      ],
      "metadata": {
        "id": "slN1v4skmhLQ"
      },
      "execution_count": 138,
      "outputs": []
    },
    {
      "cell_type": "code",
      "source": [
        "dtc.fit(X_train,y_train)"
      ],
      "metadata": {
        "id": "WnkLmZUXmsNt",
        "colab": {
          "base_uri": "https://localhost:8080/",
          "height": 74
        },
        "outputId": "618cb17e-8b8f-48e4-f7e2-534d8f730923"
      },
      "execution_count": 139,
      "outputs": [
        {
          "output_type": "execute_result",
          "data": {
            "text/plain": [
              "DecisionTreeClassifier(criterion='entropy')"
            ],
            "text/html": [
              "<style>#sk-container-id-12 {color: black;background-color: white;}#sk-container-id-12 pre{padding: 0;}#sk-container-id-12 div.sk-toggleable {background-color: white;}#sk-container-id-12 label.sk-toggleable__label {cursor: pointer;display: block;width: 100%;margin-bottom: 0;padding: 0.3em;box-sizing: border-box;text-align: center;}#sk-container-id-12 label.sk-toggleable__label-arrow:before {content: \"▸\";float: left;margin-right: 0.25em;color: #696969;}#sk-container-id-12 label.sk-toggleable__label-arrow:hover:before {color: black;}#sk-container-id-12 div.sk-estimator:hover label.sk-toggleable__label-arrow:before {color: black;}#sk-container-id-12 div.sk-toggleable__content {max-height: 0;max-width: 0;overflow: hidden;text-align: left;background-color: #f0f8ff;}#sk-container-id-12 div.sk-toggleable__content pre {margin: 0.2em;color: black;border-radius: 0.25em;background-color: #f0f8ff;}#sk-container-id-12 input.sk-toggleable__control:checked~div.sk-toggleable__content {max-height: 200px;max-width: 100%;overflow: auto;}#sk-container-id-12 input.sk-toggleable__control:checked~label.sk-toggleable__label-arrow:before {content: \"▾\";}#sk-container-id-12 div.sk-estimator input.sk-toggleable__control:checked~label.sk-toggleable__label {background-color: #d4ebff;}#sk-container-id-12 div.sk-label input.sk-toggleable__control:checked~label.sk-toggleable__label {background-color: #d4ebff;}#sk-container-id-12 input.sk-hidden--visually {border: 0;clip: rect(1px 1px 1px 1px);clip: rect(1px, 1px, 1px, 1px);height: 1px;margin: -1px;overflow: hidden;padding: 0;position: absolute;width: 1px;}#sk-container-id-12 div.sk-estimator {font-family: monospace;background-color: #f0f8ff;border: 1px dotted black;border-radius: 0.25em;box-sizing: border-box;margin-bottom: 0.5em;}#sk-container-id-12 div.sk-estimator:hover {background-color: #d4ebff;}#sk-container-id-12 div.sk-parallel-item::after {content: \"\";width: 100%;border-bottom: 1px solid gray;flex-grow: 1;}#sk-container-id-12 div.sk-label:hover label.sk-toggleable__label {background-color: #d4ebff;}#sk-container-id-12 div.sk-serial::before {content: \"\";position: absolute;border-left: 1px solid gray;box-sizing: border-box;top: 0;bottom: 0;left: 50%;z-index: 0;}#sk-container-id-12 div.sk-serial {display: flex;flex-direction: column;align-items: center;background-color: white;padding-right: 0.2em;padding-left: 0.2em;position: relative;}#sk-container-id-12 div.sk-item {position: relative;z-index: 1;}#sk-container-id-12 div.sk-parallel {display: flex;align-items: stretch;justify-content: center;background-color: white;position: relative;}#sk-container-id-12 div.sk-item::before, #sk-container-id-12 div.sk-parallel-item::before {content: \"\";position: absolute;border-left: 1px solid gray;box-sizing: border-box;top: 0;bottom: 0;left: 50%;z-index: -1;}#sk-container-id-12 div.sk-parallel-item {display: flex;flex-direction: column;z-index: 1;position: relative;background-color: white;}#sk-container-id-12 div.sk-parallel-item:first-child::after {align-self: flex-end;width: 50%;}#sk-container-id-12 div.sk-parallel-item:last-child::after {align-self: flex-start;width: 50%;}#sk-container-id-12 div.sk-parallel-item:only-child::after {width: 0;}#sk-container-id-12 div.sk-dashed-wrapped {border: 1px dashed gray;margin: 0 0.4em 0.5em 0.4em;box-sizing: border-box;padding-bottom: 0.4em;background-color: white;}#sk-container-id-12 div.sk-label label {font-family: monospace;font-weight: bold;display: inline-block;line-height: 1.2em;}#sk-container-id-12 div.sk-label-container {text-align: center;}#sk-container-id-12 div.sk-container {/* jupyter's `normalize.less` sets `[hidden] { display: none; }` but bootstrap.min.css set `[hidden] { display: none !important; }` so we also need the `!important` here to be able to override the default hidden behavior on the sphinx rendered scikit-learn.org. See: https://github.com/scikit-learn/scikit-learn/issues/21755 */display: inline-block !important;position: relative;}#sk-container-id-12 div.sk-text-repr-fallback {display: none;}</style><div id=\"sk-container-id-12\" class=\"sk-top-container\"><div class=\"sk-text-repr-fallback\"><pre>DecisionTreeClassifier(criterion=&#x27;entropy&#x27;)</pre><b>In a Jupyter environment, please rerun this cell to show the HTML representation or trust the notebook. <br />On GitHub, the HTML representation is unable to render, please try loading this page with nbviewer.org.</b></div><div class=\"sk-container\" hidden><div class=\"sk-item\"><div class=\"sk-estimator sk-toggleable\"><input class=\"sk-toggleable__control sk-hidden--visually\" id=\"sk-estimator-id-12\" type=\"checkbox\" checked><label for=\"sk-estimator-id-12\" class=\"sk-toggleable__label sk-toggleable__label-arrow\">DecisionTreeClassifier</label><div class=\"sk-toggleable__content\"><pre>DecisionTreeClassifier(criterion=&#x27;entropy&#x27;)</pre></div></div></div></div></div>"
            ]
          },
          "metadata": {},
          "execution_count": 139
        }
      ]
    },
    {
      "cell_type": "code",
      "source": [
        "y_dtc=dtc.predict(X_test)"
      ],
      "metadata": {
        "id": "APp_up6omu3L"
      },
      "execution_count": 140,
      "outputs": []
    },
    {
      "cell_type": "code",
      "source": [
        "print(np.concatenate((y_dtc.reshape(len(y_dtc),1),y_test.reshape(len(y_test),1)),1))"
      ],
      "metadata": {
        "id": "UzBFF1jpmyf2",
        "colab": {
          "base_uri": "https://localhost:8080/"
        },
        "outputId": "77789936-91c0-49a9-dab6-79dbb489660a"
      },
      "execution_count": 141,
      "outputs": [
        {
          "output_type": "stream",
          "name": "stdout",
          "text": [
            "[[0 1]\n",
            " [1 1]\n",
            " [1 0]\n",
            " ...\n",
            " [1 1]\n",
            " [0 0]\n",
            " [1 0]]\n"
          ]
        }
      ]
    },
    {
      "cell_type": "code",
      "source": [
        "from sklearn.metrics import accuracy_score\n",
        "accuracy_score(y_test, y_dtc)"
      ],
      "metadata": {
        "id": "9WoPBjGlm_fp",
        "colab": {
          "base_uri": "https://localhost:8080/"
        },
        "outputId": "505f7b71-b335-46a3-faf3-67805fa7e0a2"
      },
      "execution_count": 142,
      "outputs": [
        {
          "output_type": "execute_result",
          "data": {
            "text/plain": [
              "0.8141827834660599"
            ]
          },
          "metadata": {},
          "execution_count": 142
        }
      ]
    },
    {
      "cell_type": "code",
      "source": [
        "from sklearn.metrics import confusion_matrix\n",
        "print(confusion_matrix(y_test,y_dtc))"
      ],
      "metadata": {
        "id": "ez_fWZm8m5h0",
        "colab": {
          "base_uri": "https://localhost:8080/"
        },
        "outputId": "771bdd11-0b42-4239-9543-8cb658544740"
      },
      "execution_count": 143,
      "outputs": [
        {
          "output_type": "stream",
          "name": "stdout",
          "text": [
            "[[3195  718]\n",
            " [ 752 3246]]\n"
          ]
        }
      ]
    },
    {
      "cell_type": "code",
      "source": [
        "from sklearn.metrics import classification_report\n",
        "print(classification_report(y_test, y_dtc))"
      ],
      "metadata": {
        "id": "NvkOJLYYm9V_",
        "colab": {
          "base_uri": "https://localhost:8080/"
        },
        "outputId": "dc9f047d-df62-41b6-c6d9-6d104d34001a"
      },
      "execution_count": 144,
      "outputs": [
        {
          "output_type": "stream",
          "name": "stdout",
          "text": [
            "              precision    recall  f1-score   support\n",
            "\n",
            "           0       0.81      0.82      0.81      3913\n",
            "           1       0.82      0.81      0.82      3998\n",
            "\n",
            "    accuracy                           0.81      7911\n",
            "   macro avg       0.81      0.81      0.81      7911\n",
            "weighted avg       0.81      0.81      0.81      7911\n",
            "\n"
          ]
        }
      ]
    },
    {
      "cell_type": "code",
      "source": [
        "from sklearn.ensemble import RandomForestClassifier"
      ],
      "metadata": {
        "id": "oMgeNbb4nJA9"
      },
      "execution_count": 145,
      "outputs": []
    },
    {
      "cell_type": "code",
      "source": [
        "rfc=RandomForestClassifier(n_estimators=400, criterion='entropy')"
      ],
      "metadata": {
        "id": "0pI-Y4f7nhIe"
      },
      "execution_count": 146,
      "outputs": []
    },
    {
      "cell_type": "code",
      "source": [
        "rfc.fit(X_train,y_train)"
      ],
      "metadata": {
        "id": "wSvD9cbBnnGE",
        "colab": {
          "base_uri": "https://localhost:8080/",
          "height": 74
        },
        "outputId": "e438e9e2-e283-426a-d594-6008050d9167"
      },
      "execution_count": 147,
      "outputs": [
        {
          "output_type": "execute_result",
          "data": {
            "text/plain": [
              "RandomForestClassifier(criterion='entropy', n_estimators=400)"
            ],
            "text/html": [
              "<style>#sk-container-id-13 {color: black;background-color: white;}#sk-container-id-13 pre{padding: 0;}#sk-container-id-13 div.sk-toggleable {background-color: white;}#sk-container-id-13 label.sk-toggleable__label {cursor: pointer;display: block;width: 100%;margin-bottom: 0;padding: 0.3em;box-sizing: border-box;text-align: center;}#sk-container-id-13 label.sk-toggleable__label-arrow:before {content: \"▸\";float: left;margin-right: 0.25em;color: #696969;}#sk-container-id-13 label.sk-toggleable__label-arrow:hover:before {color: black;}#sk-container-id-13 div.sk-estimator:hover label.sk-toggleable__label-arrow:before {color: black;}#sk-container-id-13 div.sk-toggleable__content {max-height: 0;max-width: 0;overflow: hidden;text-align: left;background-color: #f0f8ff;}#sk-container-id-13 div.sk-toggleable__content pre {margin: 0.2em;color: black;border-radius: 0.25em;background-color: #f0f8ff;}#sk-container-id-13 input.sk-toggleable__control:checked~div.sk-toggleable__content {max-height: 200px;max-width: 100%;overflow: auto;}#sk-container-id-13 input.sk-toggleable__control:checked~label.sk-toggleable__label-arrow:before {content: \"▾\";}#sk-container-id-13 div.sk-estimator input.sk-toggleable__control:checked~label.sk-toggleable__label {background-color: #d4ebff;}#sk-container-id-13 div.sk-label input.sk-toggleable__control:checked~label.sk-toggleable__label {background-color: #d4ebff;}#sk-container-id-13 input.sk-hidden--visually {border: 0;clip: rect(1px 1px 1px 1px);clip: rect(1px, 1px, 1px, 1px);height: 1px;margin: -1px;overflow: hidden;padding: 0;position: absolute;width: 1px;}#sk-container-id-13 div.sk-estimator {font-family: monospace;background-color: #f0f8ff;border: 1px dotted black;border-radius: 0.25em;box-sizing: border-box;margin-bottom: 0.5em;}#sk-container-id-13 div.sk-estimator:hover {background-color: #d4ebff;}#sk-container-id-13 div.sk-parallel-item::after {content: \"\";width: 100%;border-bottom: 1px solid gray;flex-grow: 1;}#sk-container-id-13 div.sk-label:hover label.sk-toggleable__label {background-color: #d4ebff;}#sk-container-id-13 div.sk-serial::before {content: \"\";position: absolute;border-left: 1px solid gray;box-sizing: border-box;top: 0;bottom: 0;left: 50%;z-index: 0;}#sk-container-id-13 div.sk-serial {display: flex;flex-direction: column;align-items: center;background-color: white;padding-right: 0.2em;padding-left: 0.2em;position: relative;}#sk-container-id-13 div.sk-item {position: relative;z-index: 1;}#sk-container-id-13 div.sk-parallel {display: flex;align-items: stretch;justify-content: center;background-color: white;position: relative;}#sk-container-id-13 div.sk-item::before, #sk-container-id-13 div.sk-parallel-item::before {content: \"\";position: absolute;border-left: 1px solid gray;box-sizing: border-box;top: 0;bottom: 0;left: 50%;z-index: -1;}#sk-container-id-13 div.sk-parallel-item {display: flex;flex-direction: column;z-index: 1;position: relative;background-color: white;}#sk-container-id-13 div.sk-parallel-item:first-child::after {align-self: flex-end;width: 50%;}#sk-container-id-13 div.sk-parallel-item:last-child::after {align-self: flex-start;width: 50%;}#sk-container-id-13 div.sk-parallel-item:only-child::after {width: 0;}#sk-container-id-13 div.sk-dashed-wrapped {border: 1px dashed gray;margin: 0 0.4em 0.5em 0.4em;box-sizing: border-box;padding-bottom: 0.4em;background-color: white;}#sk-container-id-13 div.sk-label label {font-family: monospace;font-weight: bold;display: inline-block;line-height: 1.2em;}#sk-container-id-13 div.sk-label-container {text-align: center;}#sk-container-id-13 div.sk-container {/* jupyter's `normalize.less` sets `[hidden] { display: none; }` but bootstrap.min.css set `[hidden] { display: none !important; }` so we also need the `!important` here to be able to override the default hidden behavior on the sphinx rendered scikit-learn.org. See: https://github.com/scikit-learn/scikit-learn/issues/21755 */display: inline-block !important;position: relative;}#sk-container-id-13 div.sk-text-repr-fallback {display: none;}</style><div id=\"sk-container-id-13\" class=\"sk-top-container\"><div class=\"sk-text-repr-fallback\"><pre>RandomForestClassifier(criterion=&#x27;entropy&#x27;, n_estimators=400)</pre><b>In a Jupyter environment, please rerun this cell to show the HTML representation or trust the notebook. <br />On GitHub, the HTML representation is unable to render, please try loading this page with nbviewer.org.</b></div><div class=\"sk-container\" hidden><div class=\"sk-item\"><div class=\"sk-estimator sk-toggleable\"><input class=\"sk-toggleable__control sk-hidden--visually\" id=\"sk-estimator-id-13\" type=\"checkbox\" checked><label for=\"sk-estimator-id-13\" class=\"sk-toggleable__label sk-toggleable__label-arrow\">RandomForestClassifier</label><div class=\"sk-toggleable__content\"><pre>RandomForestClassifier(criterion=&#x27;entropy&#x27;, n_estimators=400)</pre></div></div></div></div></div>"
            ]
          },
          "metadata": {},
          "execution_count": 147
        }
      ]
    },
    {
      "cell_type": "code",
      "source": [
        "y_rfc=rfc.predict(X_test)"
      ],
      "metadata": {
        "id": "Gb1cbKQ0nqVx"
      },
      "execution_count": 148,
      "outputs": []
    },
    {
      "cell_type": "code",
      "source": [
        "print(np.concatenate((y_rfc.reshape(len(y_rfc),1),y_test.reshape(len(y_test),1)),1))"
      ],
      "metadata": {
        "id": "-j1nEQbBnz1X",
        "colab": {
          "base_uri": "https://localhost:8080/"
        },
        "outputId": "7f4676df-6e18-4adc-a7a3-f51cf1b85882"
      },
      "execution_count": 149,
      "outputs": [
        {
          "output_type": "stream",
          "name": "stdout",
          "text": [
            "[[1 1]\n",
            " [1 1]\n",
            " [0 0]\n",
            " ...\n",
            " [1 1]\n",
            " [0 0]\n",
            " [1 0]]\n"
          ]
        }
      ]
    },
    {
      "cell_type": "code",
      "source": [
        "from sklearn.metrics import accuracy_score\n",
        "accuracy_score(y_test, y_rfc)"
      ],
      "metadata": {
        "id": "VRTsDx39n1vP",
        "colab": {
          "base_uri": "https://localhost:8080/"
        },
        "outputId": "37945f93-5ea5-4fd7-906e-a976d94862e5"
      },
      "execution_count": 150,
      "outputs": [
        {
          "output_type": "execute_result",
          "data": {
            "text/plain": [
              "0.8816837315130831"
            ]
          },
          "metadata": {},
          "execution_count": 150
        }
      ]
    },
    {
      "cell_type": "code",
      "source": [
        "from sklearn.metrics import confusion_matrix\n",
        "print(confusion_matrix(y_test,y_rfc))"
      ],
      "metadata": {
        "id": "0s5fAf3un3cz",
        "colab": {
          "base_uri": "https://localhost:8080/"
        },
        "outputId": "84d7f612-b59c-451c-b500-24cb1c8fc644"
      },
      "execution_count": 151,
      "outputs": [
        {
          "output_type": "stream",
          "name": "stdout",
          "text": [
            "[[3375  538]\n",
            " [ 398 3600]]\n"
          ]
        }
      ]
    },
    {
      "cell_type": "code",
      "source": [
        "from sklearn.metrics import classification_report\n",
        "print(classification_report(y_test, y_rfc))"
      ],
      "metadata": {
        "id": "yj_IV6vPn5fz",
        "colab": {
          "base_uri": "https://localhost:8080/"
        },
        "outputId": "2c04c8b5-f6e8-4010-b3ce-4d3943e61176"
      },
      "execution_count": 152,
      "outputs": [
        {
          "output_type": "stream",
          "name": "stdout",
          "text": [
            "              precision    recall  f1-score   support\n",
            "\n",
            "           0       0.89      0.86      0.88      3913\n",
            "           1       0.87      0.90      0.88      3998\n",
            "\n",
            "    accuracy                           0.88      7911\n",
            "   macro avg       0.88      0.88      0.88      7911\n",
            "weighted avg       0.88      0.88      0.88      7911\n",
            "\n"
          ]
        }
      ]
    },
    {
      "cell_type": "code",
      "source": [
        "from sklearn.neighbors import KNeighborsClassifier"
      ],
      "metadata": {
        "id": "DA2agQuvoDCs"
      },
      "execution_count": 153,
      "outputs": []
    },
    {
      "cell_type": "code",
      "source": [
        "kne=KNeighborsClassifier()"
      ],
      "metadata": {
        "id": "9kO5zZiv8D4P"
      },
      "execution_count": 154,
      "outputs": []
    },
    {
      "cell_type": "code",
      "source": [
        "from sklearn.model_selection import GridSearchCV\n",
        "params = {\"n_neighbors\": np.arange(1,3),\n",
        "              \"metric\": [\"euclidean\", \"cityblock\"]}\n",
        "grid = GridSearchCV(estimator=knn,\n",
        "                        param_grid=params)\n",
        "grid.fit(X_train, y_train)\n",
        "print(grid.best_score_)\n",
        "print(grid.best_estimator_.n_neighbors)\n"
      ],
      "metadata": {
        "id": "Nw7SGq4N8HfI",
        "colab": {
          "base_uri": "https://localhost:8080/"
        },
        "outputId": "a861aa78-1c08-4d1e-94f3-7f58afcc15f7"
      },
      "execution_count": 155,
      "outputs": [
        {
          "output_type": "stream",
          "name": "stdout",
          "text": [
            "0.8283869737341745\n",
            "1\n"
          ]
        }
      ]
    },
    {
      "cell_type": "code",
      "source": [
        "kne=KNeighborsClassifier(n_neighbors=1)"
      ],
      "metadata": {
        "id": "McQbvczN8M3R"
      },
      "execution_count": 156,
      "outputs": []
    },
    {
      "cell_type": "code",
      "source": [
        "kne.fit(X_train,y_train)"
      ],
      "metadata": {
        "id": "qWZWu2th8gD1",
        "colab": {
          "base_uri": "https://localhost:8080/",
          "height": 74
        },
        "outputId": "bdf0ed63-1203-4211-a46b-fe185fec8e38"
      },
      "execution_count": 157,
      "outputs": [
        {
          "output_type": "execute_result",
          "data": {
            "text/plain": [
              "KNeighborsClassifier(n_neighbors=1)"
            ],
            "text/html": [
              "<style>#sk-container-id-14 {color: black;background-color: white;}#sk-container-id-14 pre{padding: 0;}#sk-container-id-14 div.sk-toggleable {background-color: white;}#sk-container-id-14 label.sk-toggleable__label {cursor: pointer;display: block;width: 100%;margin-bottom: 0;padding: 0.3em;box-sizing: border-box;text-align: center;}#sk-container-id-14 label.sk-toggleable__label-arrow:before {content: \"▸\";float: left;margin-right: 0.25em;color: #696969;}#sk-container-id-14 label.sk-toggleable__label-arrow:hover:before {color: black;}#sk-container-id-14 div.sk-estimator:hover label.sk-toggleable__label-arrow:before {color: black;}#sk-container-id-14 div.sk-toggleable__content {max-height: 0;max-width: 0;overflow: hidden;text-align: left;background-color: #f0f8ff;}#sk-container-id-14 div.sk-toggleable__content pre {margin: 0.2em;color: black;border-radius: 0.25em;background-color: #f0f8ff;}#sk-container-id-14 input.sk-toggleable__control:checked~div.sk-toggleable__content {max-height: 200px;max-width: 100%;overflow: auto;}#sk-container-id-14 input.sk-toggleable__control:checked~label.sk-toggleable__label-arrow:before {content: \"▾\";}#sk-container-id-14 div.sk-estimator input.sk-toggleable__control:checked~label.sk-toggleable__label {background-color: #d4ebff;}#sk-container-id-14 div.sk-label input.sk-toggleable__control:checked~label.sk-toggleable__label {background-color: #d4ebff;}#sk-container-id-14 input.sk-hidden--visually {border: 0;clip: rect(1px 1px 1px 1px);clip: rect(1px, 1px, 1px, 1px);height: 1px;margin: -1px;overflow: hidden;padding: 0;position: absolute;width: 1px;}#sk-container-id-14 div.sk-estimator {font-family: monospace;background-color: #f0f8ff;border: 1px dotted black;border-radius: 0.25em;box-sizing: border-box;margin-bottom: 0.5em;}#sk-container-id-14 div.sk-estimator:hover {background-color: #d4ebff;}#sk-container-id-14 div.sk-parallel-item::after {content: \"\";width: 100%;border-bottom: 1px solid gray;flex-grow: 1;}#sk-container-id-14 div.sk-label:hover label.sk-toggleable__label {background-color: #d4ebff;}#sk-container-id-14 div.sk-serial::before {content: \"\";position: absolute;border-left: 1px solid gray;box-sizing: border-box;top: 0;bottom: 0;left: 50%;z-index: 0;}#sk-container-id-14 div.sk-serial {display: flex;flex-direction: column;align-items: center;background-color: white;padding-right: 0.2em;padding-left: 0.2em;position: relative;}#sk-container-id-14 div.sk-item {position: relative;z-index: 1;}#sk-container-id-14 div.sk-parallel {display: flex;align-items: stretch;justify-content: center;background-color: white;position: relative;}#sk-container-id-14 div.sk-item::before, #sk-container-id-14 div.sk-parallel-item::before {content: \"\";position: absolute;border-left: 1px solid gray;box-sizing: border-box;top: 0;bottom: 0;left: 50%;z-index: -1;}#sk-container-id-14 div.sk-parallel-item {display: flex;flex-direction: column;z-index: 1;position: relative;background-color: white;}#sk-container-id-14 div.sk-parallel-item:first-child::after {align-self: flex-end;width: 50%;}#sk-container-id-14 div.sk-parallel-item:last-child::after {align-self: flex-start;width: 50%;}#sk-container-id-14 div.sk-parallel-item:only-child::after {width: 0;}#sk-container-id-14 div.sk-dashed-wrapped {border: 1px dashed gray;margin: 0 0.4em 0.5em 0.4em;box-sizing: border-box;padding-bottom: 0.4em;background-color: white;}#sk-container-id-14 div.sk-label label {font-family: monospace;font-weight: bold;display: inline-block;line-height: 1.2em;}#sk-container-id-14 div.sk-label-container {text-align: center;}#sk-container-id-14 div.sk-container {/* jupyter's `normalize.less` sets `[hidden] { display: none; }` but bootstrap.min.css set `[hidden] { display: none !important; }` so we also need the `!important` here to be able to override the default hidden behavior on the sphinx rendered scikit-learn.org. See: https://github.com/scikit-learn/scikit-learn/issues/21755 */display: inline-block !important;position: relative;}#sk-container-id-14 div.sk-text-repr-fallback {display: none;}</style><div id=\"sk-container-id-14\" class=\"sk-top-container\"><div class=\"sk-text-repr-fallback\"><pre>KNeighborsClassifier(n_neighbors=1)</pre><b>In a Jupyter environment, please rerun this cell to show the HTML representation or trust the notebook. <br />On GitHub, the HTML representation is unable to render, please try loading this page with nbviewer.org.</b></div><div class=\"sk-container\" hidden><div class=\"sk-item\"><div class=\"sk-estimator sk-toggleable\"><input class=\"sk-toggleable__control sk-hidden--visually\" id=\"sk-estimator-id-14\" type=\"checkbox\" checked><label for=\"sk-estimator-id-14\" class=\"sk-toggleable__label sk-toggleable__label-arrow\">KNeighborsClassifier</label><div class=\"sk-toggleable__content\"><pre>KNeighborsClassifier(n_neighbors=1)</pre></div></div></div></div></div>"
            ]
          },
          "metadata": {},
          "execution_count": 157
        }
      ]
    },
    {
      "cell_type": "code",
      "source": [
        "y_kne=kne.predict(X_test)"
      ],
      "metadata": {
        "id": "McNJPOsg8jgx"
      },
      "execution_count": 158,
      "outputs": []
    },
    {
      "cell_type": "code",
      "source": [
        "print(np.concatenate((y_kne.reshape(len(y_kne),1),y_test.reshape(len(y_test),1)),1))"
      ],
      "metadata": {
        "id": "pc7wbD418nVZ",
        "colab": {
          "base_uri": "https://localhost:8080/"
        },
        "outputId": "a7960d62-e945-4ad5-9847-55282be120e0"
      },
      "execution_count": 159,
      "outputs": [
        {
          "output_type": "stream",
          "name": "stdout",
          "text": [
            "[[1 1]\n",
            " [1 1]\n",
            " [0 0]\n",
            " ...\n",
            " [1 1]\n",
            " [0 0]\n",
            " [1 0]]\n"
          ]
        }
      ]
    },
    {
      "cell_type": "code",
      "source": [
        "from sklearn.metrics import accuracy_score\n",
        "accuracy_score(y_test, y_kne)"
      ],
      "metadata": {
        "id": "xniHB6Pl8qUU",
        "colab": {
          "base_uri": "https://localhost:8080/"
        },
        "outputId": "cb5ace2e-5368-4317-b018-db95039f720e"
      },
      "execution_count": 160,
      "outputs": [
        {
          "output_type": "execute_result",
          "data": {
            "text/plain": [
              "0.8290987232966756"
            ]
          },
          "metadata": {},
          "execution_count": 160
        }
      ]
    },
    {
      "cell_type": "code",
      "source": [
        "from sklearn.metrics import confusion_matrix\n",
        "print(confusion_matrix(y_test,y_kne))"
      ],
      "metadata": {
        "id": "H-SsNzii8qXG",
        "colab": {
          "base_uri": "https://localhost:8080/"
        },
        "outputId": "31169ae4-16c1-4bb8-9962-d9fa13cfe2cf"
      },
      "execution_count": 161,
      "outputs": [
        {
          "output_type": "stream",
          "name": "stdout",
          "text": [
            "[[3232  681]\n",
            " [ 671 3327]]\n"
          ]
        }
      ]
    },
    {
      "cell_type": "code",
      "source": [
        "from sklearn.metrics import classification_report\n",
        "print(classification_report(y_test, y_kne))"
      ],
      "metadata": {
        "id": "z_a_1rcM8qh7",
        "colab": {
          "base_uri": "https://localhost:8080/"
        },
        "outputId": "05bab41c-6482-4e7c-b212-40471f155259"
      },
      "execution_count": 162,
      "outputs": [
        {
          "output_type": "stream",
          "name": "stdout",
          "text": [
            "              precision    recall  f1-score   support\n",
            "\n",
            "           0       0.83      0.83      0.83      3913\n",
            "           1       0.83      0.83      0.83      3998\n",
            "\n",
            "    accuracy                           0.83      7911\n",
            "   macro avg       0.83      0.83      0.83      7911\n",
            "weighted avg       0.83      0.83      0.83      7911\n",
            "\n"
          ]
        }
      ]
    },
    {
      "cell_type": "code",
      "source": [
        "from sklearn.ensemble import GradientBoostingClassifier"
      ],
      "metadata": {
        "id": "y3TTrjF589eW"
      },
      "execution_count": 163,
      "outputs": []
    },
    {
      "cell_type": "code",
      "source": [
        "gra=GradientBoostingClassifier(loss='log_loss', learning_rate=0.1, n_estimators=400)"
      ],
      "metadata": {
        "id": "dvN55Mg-f7b3"
      },
      "execution_count": 164,
      "outputs": []
    },
    {
      "cell_type": "code",
      "source": [
        "gra.fit(X_train,y_train)"
      ],
      "metadata": {
        "id": "oGh5m5p1gC5X",
        "colab": {
          "base_uri": "https://localhost:8080/",
          "height": 74
        },
        "outputId": "fa12e30b-3d72-4ff9-ff5f-3b6bc4ba17c6"
      },
      "execution_count": 165,
      "outputs": [
        {
          "output_type": "execute_result",
          "data": {
            "text/plain": [
              "GradientBoostingClassifier(n_estimators=400)"
            ],
            "text/html": [
              "<style>#sk-container-id-15 {color: black;background-color: white;}#sk-container-id-15 pre{padding: 0;}#sk-container-id-15 div.sk-toggleable {background-color: white;}#sk-container-id-15 label.sk-toggleable__label {cursor: pointer;display: block;width: 100%;margin-bottom: 0;padding: 0.3em;box-sizing: border-box;text-align: center;}#sk-container-id-15 label.sk-toggleable__label-arrow:before {content: \"▸\";float: left;margin-right: 0.25em;color: #696969;}#sk-container-id-15 label.sk-toggleable__label-arrow:hover:before {color: black;}#sk-container-id-15 div.sk-estimator:hover label.sk-toggleable__label-arrow:before {color: black;}#sk-container-id-15 div.sk-toggleable__content {max-height: 0;max-width: 0;overflow: hidden;text-align: left;background-color: #f0f8ff;}#sk-container-id-15 div.sk-toggleable__content pre {margin: 0.2em;color: black;border-radius: 0.25em;background-color: #f0f8ff;}#sk-container-id-15 input.sk-toggleable__control:checked~div.sk-toggleable__content {max-height: 200px;max-width: 100%;overflow: auto;}#sk-container-id-15 input.sk-toggleable__control:checked~label.sk-toggleable__label-arrow:before {content: \"▾\";}#sk-container-id-15 div.sk-estimator input.sk-toggleable__control:checked~label.sk-toggleable__label {background-color: #d4ebff;}#sk-container-id-15 div.sk-label input.sk-toggleable__control:checked~label.sk-toggleable__label {background-color: #d4ebff;}#sk-container-id-15 input.sk-hidden--visually {border: 0;clip: rect(1px 1px 1px 1px);clip: rect(1px, 1px, 1px, 1px);height: 1px;margin: -1px;overflow: hidden;padding: 0;position: absolute;width: 1px;}#sk-container-id-15 div.sk-estimator {font-family: monospace;background-color: #f0f8ff;border: 1px dotted black;border-radius: 0.25em;box-sizing: border-box;margin-bottom: 0.5em;}#sk-container-id-15 div.sk-estimator:hover {background-color: #d4ebff;}#sk-container-id-15 div.sk-parallel-item::after {content: \"\";width: 100%;border-bottom: 1px solid gray;flex-grow: 1;}#sk-container-id-15 div.sk-label:hover label.sk-toggleable__label {background-color: #d4ebff;}#sk-container-id-15 div.sk-serial::before {content: \"\";position: absolute;border-left: 1px solid gray;box-sizing: border-box;top: 0;bottom: 0;left: 50%;z-index: 0;}#sk-container-id-15 div.sk-serial {display: flex;flex-direction: column;align-items: center;background-color: white;padding-right: 0.2em;padding-left: 0.2em;position: relative;}#sk-container-id-15 div.sk-item {position: relative;z-index: 1;}#sk-container-id-15 div.sk-parallel {display: flex;align-items: stretch;justify-content: center;background-color: white;position: relative;}#sk-container-id-15 div.sk-item::before, #sk-container-id-15 div.sk-parallel-item::before {content: \"\";position: absolute;border-left: 1px solid gray;box-sizing: border-box;top: 0;bottom: 0;left: 50%;z-index: -1;}#sk-container-id-15 div.sk-parallel-item {display: flex;flex-direction: column;z-index: 1;position: relative;background-color: white;}#sk-container-id-15 div.sk-parallel-item:first-child::after {align-self: flex-end;width: 50%;}#sk-container-id-15 div.sk-parallel-item:last-child::after {align-self: flex-start;width: 50%;}#sk-container-id-15 div.sk-parallel-item:only-child::after {width: 0;}#sk-container-id-15 div.sk-dashed-wrapped {border: 1px dashed gray;margin: 0 0.4em 0.5em 0.4em;box-sizing: border-box;padding-bottom: 0.4em;background-color: white;}#sk-container-id-15 div.sk-label label {font-family: monospace;font-weight: bold;display: inline-block;line-height: 1.2em;}#sk-container-id-15 div.sk-label-container {text-align: center;}#sk-container-id-15 div.sk-container {/* jupyter's `normalize.less` sets `[hidden] { display: none; }` but bootstrap.min.css set `[hidden] { display: none !important; }` so we also need the `!important` here to be able to override the default hidden behavior on the sphinx rendered scikit-learn.org. See: https://github.com/scikit-learn/scikit-learn/issues/21755 */display: inline-block !important;position: relative;}#sk-container-id-15 div.sk-text-repr-fallback {display: none;}</style><div id=\"sk-container-id-15\" class=\"sk-top-container\"><div class=\"sk-text-repr-fallback\"><pre>GradientBoostingClassifier(n_estimators=400)</pre><b>In a Jupyter environment, please rerun this cell to show the HTML representation or trust the notebook. <br />On GitHub, the HTML representation is unable to render, please try loading this page with nbviewer.org.</b></div><div class=\"sk-container\" hidden><div class=\"sk-item\"><div class=\"sk-estimator sk-toggleable\"><input class=\"sk-toggleable__control sk-hidden--visually\" id=\"sk-estimator-id-15\" type=\"checkbox\" checked><label for=\"sk-estimator-id-15\" class=\"sk-toggleable__label sk-toggleable__label-arrow\">GradientBoostingClassifier</label><div class=\"sk-toggleable__content\"><pre>GradientBoostingClassifier(n_estimators=400)</pre></div></div></div></div></div>"
            ]
          },
          "metadata": {},
          "execution_count": 165
        }
      ]
    },
    {
      "cell_type": "code",
      "source": [
        "y_gra=gra.predict(X_test)"
      ],
      "metadata": {
        "id": "xmlla0aQgHT2"
      },
      "execution_count": 166,
      "outputs": []
    },
    {
      "cell_type": "code",
      "source": [
        "print(np.concatenate((y_gra.reshape(len(y_gra),1),y_test.reshape(len(y_test),1)),1))"
      ],
      "metadata": {
        "id": "ZbStXXifgMHo",
        "colab": {
          "base_uri": "https://localhost:8080/"
        },
        "outputId": "8230f1c1-e0a3-4b87-a44c-f33c492b2910"
      },
      "execution_count": 167,
      "outputs": [
        {
          "output_type": "stream",
          "name": "stdout",
          "text": [
            "[[1 1]\n",
            " [1 1]\n",
            " [0 0]\n",
            " ...\n",
            " [1 1]\n",
            " [0 0]\n",
            " [1 0]]\n"
          ]
        }
      ]
    },
    {
      "cell_type": "code",
      "source": [
        "from sklearn.metrics import accuracy_score\n",
        "accuracy_score(y_test, y_gra)"
      ],
      "metadata": {
        "id": "dOtaVHUKgNMi",
        "colab": {
          "base_uri": "https://localhost:8080/"
        },
        "outputId": "758aa46f-d00e-4c76-f583-930596719e85"
      },
      "execution_count": 168,
      "outputs": [
        {
          "output_type": "execute_result",
          "data": {
            "text/plain": [
              "0.8834534192895968"
            ]
          },
          "metadata": {},
          "execution_count": 168
        }
      ]
    },
    {
      "cell_type": "code",
      "source": [
        "from sklearn.metrics import confusion_matrix\n",
        "print(confusion_matrix(y_test,y_gra))"
      ],
      "metadata": {
        "id": "b24LxGYtgNmX",
        "colab": {
          "base_uri": "https://localhost:8080/"
        },
        "outputId": "ffa085af-4e17-4c33-bf09-d642e5d040fd"
      },
      "execution_count": 169,
      "outputs": [
        {
          "output_type": "stream",
          "name": "stdout",
          "text": [
            "[[3359  554]\n",
            " [ 368 3630]]\n"
          ]
        }
      ]
    },
    {
      "cell_type": "code",
      "source": [
        "from sklearn.metrics import classification_report\n",
        "print(classification_report(y_test, y_gra))"
      ],
      "metadata": {
        "id": "qkwO2C79gUbF",
        "colab": {
          "base_uri": "https://localhost:8080/"
        },
        "outputId": "97f5a56e-24b1-4c23-c097-a512d3d1e15a"
      },
      "execution_count": 170,
      "outputs": [
        {
          "output_type": "stream",
          "name": "stdout",
          "text": [
            "              precision    recall  f1-score   support\n",
            "\n",
            "           0       0.90      0.86      0.88      3913\n",
            "           1       0.87      0.91      0.89      3998\n",
            "\n",
            "    accuracy                           0.88      7911\n",
            "   macro avg       0.88      0.88      0.88      7911\n",
            "weighted avg       0.88      0.88      0.88      7911\n",
            "\n"
          ]
        }
      ]
    },
    {
      "cell_type": "code",
      "source": [
        "from xgboost import XGBClassifier\n",
        "xc = XGBClassifier()"
      ],
      "metadata": {
        "id": "ebQUaTY_gkJT"
      },
      "execution_count": 171,
      "outputs": []
    },
    {
      "cell_type": "code",
      "source": [
        "xc.fit(X_train,y_train)"
      ],
      "metadata": {
        "id": "kM9Uaa8WiARf",
        "colab": {
          "base_uri": "https://localhost:8080/",
          "height": 244
        },
        "outputId": "a4548b41-2749-4503-e734-4921b9eea249"
      },
      "execution_count": 172,
      "outputs": [
        {
          "output_type": "execute_result",
          "data": {
            "text/plain": [
              "XGBClassifier(base_score=None, booster=None, callbacks=None,\n",
              "              colsample_bylevel=None, colsample_bynode=None,\n",
              "              colsample_bytree=None, device=None, early_stopping_rounds=None,\n",
              "              enable_categorical=False, eval_metric=None, feature_types=None,\n",
              "              gamma=None, grow_policy=None, importance_type=None,\n",
              "              interaction_constraints=None, learning_rate=None, max_bin=None,\n",
              "              max_cat_threshold=None, max_cat_to_onehot=None,\n",
              "              max_delta_step=None, max_depth=None, max_leaves=None,\n",
              "              min_child_weight=None, missing=nan, monotone_constraints=None,\n",
              "              multi_strategy=None, n_estimators=None, n_jobs=None,\n",
              "              num_parallel_tree=None, random_state=None, ...)"
            ],
            "text/html": [
              "<style>#sk-container-id-16 {color: black;background-color: white;}#sk-container-id-16 pre{padding: 0;}#sk-container-id-16 div.sk-toggleable {background-color: white;}#sk-container-id-16 label.sk-toggleable__label {cursor: pointer;display: block;width: 100%;margin-bottom: 0;padding: 0.3em;box-sizing: border-box;text-align: center;}#sk-container-id-16 label.sk-toggleable__label-arrow:before {content: \"▸\";float: left;margin-right: 0.25em;color: #696969;}#sk-container-id-16 label.sk-toggleable__label-arrow:hover:before {color: black;}#sk-container-id-16 div.sk-estimator:hover label.sk-toggleable__label-arrow:before {color: black;}#sk-container-id-16 div.sk-toggleable__content {max-height: 0;max-width: 0;overflow: hidden;text-align: left;background-color: #f0f8ff;}#sk-container-id-16 div.sk-toggleable__content pre {margin: 0.2em;color: black;border-radius: 0.25em;background-color: #f0f8ff;}#sk-container-id-16 input.sk-toggleable__control:checked~div.sk-toggleable__content {max-height: 200px;max-width: 100%;overflow: auto;}#sk-container-id-16 input.sk-toggleable__control:checked~label.sk-toggleable__label-arrow:before {content: \"▾\";}#sk-container-id-16 div.sk-estimator input.sk-toggleable__control:checked~label.sk-toggleable__label {background-color: #d4ebff;}#sk-container-id-16 div.sk-label input.sk-toggleable__control:checked~label.sk-toggleable__label {background-color: #d4ebff;}#sk-container-id-16 input.sk-hidden--visually {border: 0;clip: rect(1px 1px 1px 1px);clip: rect(1px, 1px, 1px, 1px);height: 1px;margin: -1px;overflow: hidden;padding: 0;position: absolute;width: 1px;}#sk-container-id-16 div.sk-estimator {font-family: monospace;background-color: #f0f8ff;border: 1px dotted black;border-radius: 0.25em;box-sizing: border-box;margin-bottom: 0.5em;}#sk-container-id-16 div.sk-estimator:hover {background-color: #d4ebff;}#sk-container-id-16 div.sk-parallel-item::after {content: \"\";width: 100%;border-bottom: 1px solid gray;flex-grow: 1;}#sk-container-id-16 div.sk-label:hover label.sk-toggleable__label {background-color: #d4ebff;}#sk-container-id-16 div.sk-serial::before {content: \"\";position: absolute;border-left: 1px solid gray;box-sizing: border-box;top: 0;bottom: 0;left: 50%;z-index: 0;}#sk-container-id-16 div.sk-serial {display: flex;flex-direction: column;align-items: center;background-color: white;padding-right: 0.2em;padding-left: 0.2em;position: relative;}#sk-container-id-16 div.sk-item {position: relative;z-index: 1;}#sk-container-id-16 div.sk-parallel {display: flex;align-items: stretch;justify-content: center;background-color: white;position: relative;}#sk-container-id-16 div.sk-item::before, #sk-container-id-16 div.sk-parallel-item::before {content: \"\";position: absolute;border-left: 1px solid gray;box-sizing: border-box;top: 0;bottom: 0;left: 50%;z-index: -1;}#sk-container-id-16 div.sk-parallel-item {display: flex;flex-direction: column;z-index: 1;position: relative;background-color: white;}#sk-container-id-16 div.sk-parallel-item:first-child::after {align-self: flex-end;width: 50%;}#sk-container-id-16 div.sk-parallel-item:last-child::after {align-self: flex-start;width: 50%;}#sk-container-id-16 div.sk-parallel-item:only-child::after {width: 0;}#sk-container-id-16 div.sk-dashed-wrapped {border: 1px dashed gray;margin: 0 0.4em 0.5em 0.4em;box-sizing: border-box;padding-bottom: 0.4em;background-color: white;}#sk-container-id-16 div.sk-label label {font-family: monospace;font-weight: bold;display: inline-block;line-height: 1.2em;}#sk-container-id-16 div.sk-label-container {text-align: center;}#sk-container-id-16 div.sk-container {/* jupyter's `normalize.less` sets `[hidden] { display: none; }` but bootstrap.min.css set `[hidden] { display: none !important; }` so we also need the `!important` here to be able to override the default hidden behavior on the sphinx rendered scikit-learn.org. See: https://github.com/scikit-learn/scikit-learn/issues/21755 */display: inline-block !important;position: relative;}#sk-container-id-16 div.sk-text-repr-fallback {display: none;}</style><div id=\"sk-container-id-16\" class=\"sk-top-container\"><div class=\"sk-text-repr-fallback\"><pre>XGBClassifier(base_score=None, booster=None, callbacks=None,\n",
              "              colsample_bylevel=None, colsample_bynode=None,\n",
              "              colsample_bytree=None, device=None, early_stopping_rounds=None,\n",
              "              enable_categorical=False, eval_metric=None, feature_types=None,\n",
              "              gamma=None, grow_policy=None, importance_type=None,\n",
              "              interaction_constraints=None, learning_rate=None, max_bin=None,\n",
              "              max_cat_threshold=None, max_cat_to_onehot=None,\n",
              "              max_delta_step=None, max_depth=None, max_leaves=None,\n",
              "              min_child_weight=None, missing=nan, monotone_constraints=None,\n",
              "              multi_strategy=None, n_estimators=None, n_jobs=None,\n",
              "              num_parallel_tree=None, random_state=None, ...)</pre><b>In a Jupyter environment, please rerun this cell to show the HTML representation or trust the notebook. <br />On GitHub, the HTML representation is unable to render, please try loading this page with nbviewer.org.</b></div><div class=\"sk-container\" hidden><div class=\"sk-item\"><div class=\"sk-estimator sk-toggleable\"><input class=\"sk-toggleable__control sk-hidden--visually\" id=\"sk-estimator-id-16\" type=\"checkbox\" checked><label for=\"sk-estimator-id-16\" class=\"sk-toggleable__label sk-toggleable__label-arrow\">XGBClassifier</label><div class=\"sk-toggleable__content\"><pre>XGBClassifier(base_score=None, booster=None, callbacks=None,\n",
              "              colsample_bylevel=None, colsample_bynode=None,\n",
              "              colsample_bytree=None, device=None, early_stopping_rounds=None,\n",
              "              enable_categorical=False, eval_metric=None, feature_types=None,\n",
              "              gamma=None, grow_policy=None, importance_type=None,\n",
              "              interaction_constraints=None, learning_rate=None, max_bin=None,\n",
              "              max_cat_threshold=None, max_cat_to_onehot=None,\n",
              "              max_delta_step=None, max_depth=None, max_leaves=None,\n",
              "              min_child_weight=None, missing=nan, monotone_constraints=None,\n",
              "              multi_strategy=None, n_estimators=None, n_jobs=None,\n",
              "              num_parallel_tree=None, random_state=None, ...)</pre></div></div></div></div></div>"
            ]
          },
          "metadata": {},
          "execution_count": 172
        }
      ]
    },
    {
      "cell_type": "code",
      "source": [
        "y_xc=xc.predict(X_test)"
      ],
      "metadata": {
        "id": "Ep89J6-fiC_x"
      },
      "execution_count": 173,
      "outputs": []
    },
    {
      "cell_type": "code",
      "source": [
        "print(np.concatenate((y_xc.reshape(len(y_xc),1),y_test.reshape(len(y_test),1)),1))"
      ],
      "metadata": {
        "id": "wBxdEYcIiIXd",
        "colab": {
          "base_uri": "https://localhost:8080/"
        },
        "outputId": "96b98c03-ee63-4040-a6a2-59a4ecc06b76"
      },
      "execution_count": 174,
      "outputs": [
        {
          "output_type": "stream",
          "name": "stdout",
          "text": [
            "[[1 1]\n",
            " [1 1]\n",
            " [0 0]\n",
            " ...\n",
            " [1 1]\n",
            " [0 0]\n",
            " [1 0]]\n"
          ]
        }
      ]
    },
    {
      "cell_type": "code",
      "source": [
        "from sklearn.metrics import accuracy_score\n",
        "accuracy_score(y_test, y_xc)"
      ],
      "metadata": {
        "id": "z2FkAEa6iMpc",
        "colab": {
          "base_uri": "https://localhost:8080/"
        },
        "outputId": "138f2d79-a597-496f-9b7a-91062ed78995"
      },
      "execution_count": 175,
      "outputs": [
        {
          "output_type": "execute_result",
          "data": {
            "text/plain": [
              "0.881936544052585"
            ]
          },
          "metadata": {},
          "execution_count": 175
        }
      ]
    },
    {
      "cell_type": "code",
      "source": [
        "from sklearn.metrics import confusion_matrix\n",
        "print(confusion_matrix(y_test,y_xc))"
      ],
      "metadata": {
        "id": "-LG8VdHdiU3x",
        "colab": {
          "base_uri": "https://localhost:8080/"
        },
        "outputId": "3e9aa1e7-dc50-4cec-aa44-7fe333c94232"
      },
      "execution_count": 176,
      "outputs": [
        {
          "output_type": "stream",
          "name": "stdout",
          "text": [
            "[[3387  526]\n",
            " [ 408 3590]]\n"
          ]
        }
      ]
    },
    {
      "cell_type": "code",
      "source": [
        "from sklearn.metrics import classification_report\n",
        "print(classification_report(y_test, y_xc))"
      ],
      "metadata": {
        "id": "udaxhH2MiZFC",
        "colab": {
          "base_uri": "https://localhost:8080/"
        },
        "outputId": "812a2877-d92e-4aec-fb6e-2a40cb5ac8b4"
      },
      "execution_count": 177,
      "outputs": [
        {
          "output_type": "stream",
          "name": "stdout",
          "text": [
            "              precision    recall  f1-score   support\n",
            "\n",
            "           0       0.89      0.87      0.88      3913\n",
            "           1       0.87      0.90      0.88      3998\n",
            "\n",
            "    accuracy                           0.88      7911\n",
            "   macro avg       0.88      0.88      0.88      7911\n",
            "weighted avg       0.88      0.88      0.88      7911\n",
            "\n"
          ]
        }
      ]
    },
    {
      "cell_type": "code",
      "source": [
        "nn=tf.keras.models.Sequential()"
      ],
      "metadata": {
        "id": "PHwrZ5YRicH6"
      },
      "execution_count": 178,
      "outputs": []
    },
    {
      "cell_type": "code",
      "source": [
        "nn.add(tf.keras.layers.Dense(units=6,activation='relu'))"
      ],
      "metadata": {
        "id": "Bwt4jTaFjArp"
      },
      "execution_count": 179,
      "outputs": []
    },
    {
      "cell_type": "code",
      "source": [
        "nn.add(tf.keras.layers.Dense(units=6,activation='relu'))"
      ],
      "metadata": {
        "id": "cuAWl6sVjLiQ"
      },
      "execution_count": 180,
      "outputs": []
    },
    {
      "cell_type": "code",
      "source": [
        "nn.add(tf.keras.layers.Dense(units=1,activation='sigmoid'))"
      ],
      "metadata": {
        "id": "o2jhtuuTjM9y"
      },
      "execution_count": 181,
      "outputs": []
    },
    {
      "cell_type": "code",
      "source": [
        "nn.compile(optimizer='adam',loss='binary_crossentropy',metrics=['accuracy'])"
      ],
      "metadata": {
        "id": "LJJYGlKOjPoB"
      },
      "execution_count": 182,
      "outputs": []
    },
    {
      "cell_type": "code",
      "source": [
        "nn.fit(X_train,y_train,batch_size=32,epochs=100)"
      ],
      "metadata": {
        "id": "1uoHri71jh8d",
        "colab": {
          "base_uri": "https://localhost:8080/"
        },
        "outputId": "81fe805e-d0f8-462c-a0f2-9bde8e036495"
      },
      "execution_count": 183,
      "outputs": [
        {
          "output_type": "stream",
          "name": "stdout",
          "text": [
            "Epoch 1/100\n",
            "989/989 [==============================] - 8s 7ms/step - loss: 0.4094 - accuracy: 0.8279\n",
            "Epoch 2/100\n",
            "989/989 [==============================] - 3s 3ms/step - loss: 0.3192 - accuracy: 0.8768\n",
            "Epoch 3/100\n",
            "989/989 [==============================] - 3s 3ms/step - loss: 0.3163 - accuracy: 0.8777\n",
            "Epoch 4/100\n",
            "989/989 [==============================] - 10s 10ms/step - loss: 0.3147 - accuracy: 0.8785\n",
            "Epoch 5/100\n",
            "989/989 [==============================] - 15s 15ms/step - loss: 0.3132 - accuracy: 0.8785\n",
            "Epoch 6/100\n",
            "989/989 [==============================] - 14s 14ms/step - loss: 0.3122 - accuracy: 0.8784\n",
            "Epoch 7/100\n",
            "989/989 [==============================] - 9s 9ms/step - loss: 0.3117 - accuracy: 0.8783\n",
            "Epoch 8/100\n",
            "989/989 [==============================] - 13s 14ms/step - loss: 0.3112 - accuracy: 0.8786\n",
            "Epoch 9/100\n",
            "989/989 [==============================] - 10s 10ms/step - loss: 0.3106 - accuracy: 0.8780\n",
            "Epoch 10/100\n",
            "989/989 [==============================] - 17s 17ms/step - loss: 0.3102 - accuracy: 0.8781\n",
            "Epoch 11/100\n",
            "989/989 [==============================] - 16s 17ms/step - loss: 0.3100 - accuracy: 0.8781\n",
            "Epoch 12/100\n",
            "989/989 [==============================] - 17s 17ms/step - loss: 0.3096 - accuracy: 0.8789\n",
            "Epoch 13/100\n",
            "989/989 [==============================] - 16s 16ms/step - loss: 0.3095 - accuracy: 0.8783\n",
            "Epoch 14/100\n",
            "989/989 [==============================] - 17s 18ms/step - loss: 0.3094 - accuracy: 0.8792\n",
            "Epoch 15/100\n",
            "989/989 [==============================] - 18s 18ms/step - loss: 0.3090 - accuracy: 0.8790\n",
            "Epoch 16/100\n",
            "989/989 [==============================] - 11s 11ms/step - loss: 0.3089 - accuracy: 0.8792\n",
            "Epoch 17/100\n",
            "989/989 [==============================] - 17s 17ms/step - loss: 0.3088 - accuracy: 0.8795\n",
            "Epoch 18/100\n",
            "989/989 [==============================] - 19s 19ms/step - loss: 0.3086 - accuracy: 0.8797\n",
            "Epoch 19/100\n",
            "989/989 [==============================] - 19s 19ms/step - loss: 0.3084 - accuracy: 0.8793\n",
            "Epoch 20/100\n",
            "989/989 [==============================] - 19s 20ms/step - loss: 0.3083 - accuracy: 0.8796\n",
            "Epoch 21/100\n",
            "989/989 [==============================] - 10s 10ms/step - loss: 0.3082 - accuracy: 0.8805\n",
            "Epoch 22/100\n",
            "989/989 [==============================] - 9s 9ms/step - loss: 0.3080 - accuracy: 0.8800\n",
            "Epoch 23/100\n",
            "989/989 [==============================] - 19s 20ms/step - loss: 0.3081 - accuracy: 0.8807\n",
            "Epoch 24/100\n",
            "989/989 [==============================] - 13s 14ms/step - loss: 0.3078 - accuracy: 0.8801\n",
            "Epoch 25/100\n",
            "989/989 [==============================] - 16s 16ms/step - loss: 0.3076 - accuracy: 0.8805\n",
            "Epoch 26/100\n",
            "989/989 [==============================] - 13s 13ms/step - loss: 0.3077 - accuracy: 0.8804\n",
            "Epoch 27/100\n",
            "989/989 [==============================] - 16s 17ms/step - loss: 0.3074 - accuracy: 0.8809\n",
            "Epoch 28/100\n",
            "989/989 [==============================] - 15s 15ms/step - loss: 0.3071 - accuracy: 0.8814\n",
            "Epoch 29/100\n",
            "989/989 [==============================] - 13s 13ms/step - loss: 0.3075 - accuracy: 0.8813\n",
            "Epoch 30/100\n",
            "989/989 [==============================] - 15s 16ms/step - loss: 0.3072 - accuracy: 0.8814\n",
            "Epoch 31/100\n",
            "989/989 [==============================] - 13s 13ms/step - loss: 0.3070 - accuracy: 0.8813\n",
            "Epoch 32/100\n",
            "989/989 [==============================] - 20s 21ms/step - loss: 0.3071 - accuracy: 0.8816\n",
            "Epoch 33/100\n",
            "989/989 [==============================] - 14s 15ms/step - loss: 0.3070 - accuracy: 0.8814\n",
            "Epoch 34/100\n",
            "989/989 [==============================] - 12s 12ms/step - loss: 0.3068 - accuracy: 0.8815\n",
            "Epoch 35/100\n",
            "989/989 [==============================] - 11s 11ms/step - loss: 0.3069 - accuracy: 0.8815\n",
            "Epoch 36/100\n",
            "989/989 [==============================] - 15s 15ms/step - loss: 0.3069 - accuracy: 0.8815\n",
            "Epoch 37/100\n",
            "989/989 [==============================] - 13s 13ms/step - loss: 0.3068 - accuracy: 0.8816\n",
            "Epoch 38/100\n",
            "989/989 [==============================] - 18s 18ms/step - loss: 0.3066 - accuracy: 0.8818\n",
            "Epoch 39/100\n",
            "989/989 [==============================] - 16s 16ms/step - loss: 0.3067 - accuracy: 0.8813\n",
            "Epoch 40/100\n",
            "989/989 [==============================] - 13s 13ms/step - loss: 0.3064 - accuracy: 0.8819\n",
            "Epoch 41/100\n",
            "989/989 [==============================] - 14s 15ms/step - loss: 0.3065 - accuracy: 0.8814\n",
            "Epoch 42/100\n",
            "989/989 [==============================] - 10s 10ms/step - loss: 0.3065 - accuracy: 0.8815\n",
            "Epoch 43/100\n",
            "989/989 [==============================] - 12s 12ms/step - loss: 0.3063 - accuracy: 0.8822\n",
            "Epoch 44/100\n",
            "989/989 [==============================] - 14s 14ms/step - loss: 0.3063 - accuracy: 0.8819\n",
            "Epoch 45/100\n",
            "989/989 [==============================] - 15s 15ms/step - loss: 0.3062 - accuracy: 0.8817\n",
            "Epoch 46/100\n",
            "989/989 [==============================] - 17s 17ms/step - loss: 0.3062 - accuracy: 0.8818\n",
            "Epoch 47/100\n",
            "989/989 [==============================] - 16s 16ms/step - loss: 0.3061 - accuracy: 0.8820\n",
            "Epoch 48/100\n",
            "989/989 [==============================] - 21s 21ms/step - loss: 0.3058 - accuracy: 0.8815\n",
            "Epoch 49/100\n",
            "989/989 [==============================] - 16s 16ms/step - loss: 0.3061 - accuracy: 0.8817\n",
            "Epoch 50/100\n",
            "989/989 [==============================] - 18s 18ms/step - loss: 0.3061 - accuracy: 0.8814\n",
            "Epoch 51/100\n",
            "989/989 [==============================] - 11s 11ms/step - loss: 0.3060 - accuracy: 0.8818\n",
            "Epoch 52/100\n",
            "989/989 [==============================] - 17s 18ms/step - loss: 0.3061 - accuracy: 0.8817\n",
            "Epoch 53/100\n",
            "989/989 [==============================] - 14s 14ms/step - loss: 0.3059 - accuracy: 0.8817\n",
            "Epoch 54/100\n",
            "989/989 [==============================] - 14s 15ms/step - loss: 0.3059 - accuracy: 0.8815\n",
            "Epoch 55/100\n",
            "989/989 [==============================] - 15s 15ms/step - loss: 0.3059 - accuracy: 0.8812\n",
            "Epoch 56/100\n",
            "989/989 [==============================] - 17s 17ms/step - loss: 0.3059 - accuracy: 0.8816\n",
            "Epoch 57/100\n",
            "989/989 [==============================] - 13s 14ms/step - loss: 0.3057 - accuracy: 0.8813\n",
            "Epoch 58/100\n",
            "989/989 [==============================] - 7s 7ms/step - loss: 0.3059 - accuracy: 0.8821\n",
            "Epoch 59/100\n",
            "989/989 [==============================] - 4s 4ms/step - loss: 0.3058 - accuracy: 0.8821\n",
            "Epoch 60/100\n",
            "989/989 [==============================] - 5s 5ms/step - loss: 0.3057 - accuracy: 0.8816\n",
            "Epoch 61/100\n",
            "989/989 [==============================] - 3s 3ms/step - loss: 0.3057 - accuracy: 0.8815\n",
            "Epoch 62/100\n",
            "989/989 [==============================] - 5s 5ms/step - loss: 0.3056 - accuracy: 0.8818\n",
            "Epoch 63/100\n",
            "989/989 [==============================] - 4s 4ms/step - loss: 0.3057 - accuracy: 0.8817\n",
            "Epoch 64/100\n",
            "989/989 [==============================] - 5s 5ms/step - loss: 0.3056 - accuracy: 0.8816\n",
            "Epoch 65/100\n",
            "989/989 [==============================] - 5s 5ms/step - loss: 0.3058 - accuracy: 0.8813\n",
            "Epoch 66/100\n",
            "989/989 [==============================] - 4s 4ms/step - loss: 0.3056 - accuracy: 0.8815\n",
            "Epoch 67/100\n",
            "989/989 [==============================] - 4s 4ms/step - loss: 0.3055 - accuracy: 0.8821\n",
            "Epoch 68/100\n",
            "989/989 [==============================] - 5s 5ms/step - loss: 0.3057 - accuracy: 0.8814\n",
            "Epoch 69/100\n",
            "989/989 [==============================] - 4s 4ms/step - loss: 0.3054 - accuracy: 0.8821\n",
            "Epoch 70/100\n",
            "989/989 [==============================] - 5s 5ms/step - loss: 0.3055 - accuracy: 0.8816\n",
            "Epoch 71/100\n",
            "989/989 [==============================] - 4s 4ms/step - loss: 0.3055 - accuracy: 0.8818\n",
            "Epoch 72/100\n",
            "989/989 [==============================] - 4s 4ms/step - loss: 0.3054 - accuracy: 0.8820\n",
            "Epoch 73/100\n",
            "989/989 [==============================] - 5s 5ms/step - loss: 0.3054 - accuracy: 0.8812\n",
            "Epoch 74/100\n",
            "989/989 [==============================] - 4s 4ms/step - loss: 0.3053 - accuracy: 0.8819\n",
            "Epoch 75/100\n",
            "989/989 [==============================] - 4s 4ms/step - loss: 0.3053 - accuracy: 0.8812\n",
            "Epoch 76/100\n",
            "989/989 [==============================] - 5s 5ms/step - loss: 0.3053 - accuracy: 0.8817\n",
            "Epoch 77/100\n",
            "989/989 [==============================] - 4s 4ms/step - loss: 0.3053 - accuracy: 0.8817\n",
            "Epoch 78/100\n",
            "989/989 [==============================] - 4s 4ms/step - loss: 0.3053 - accuracy: 0.8819\n",
            "Epoch 79/100\n",
            "989/989 [==============================] - 4s 5ms/step - loss: 0.3053 - accuracy: 0.8815\n",
            "Epoch 80/100\n",
            "989/989 [==============================] - 4s 4ms/step - loss: 0.3052 - accuracy: 0.8818\n",
            "Epoch 81/100\n",
            "989/989 [==============================] - 4s 4ms/step - loss: 0.3052 - accuracy: 0.8814\n",
            "Epoch 82/100\n",
            "989/989 [==============================] - 4s 4ms/step - loss: 0.3051 - accuracy: 0.8813\n",
            "Epoch 83/100\n",
            "989/989 [==============================] - 4s 4ms/step - loss: 0.3052 - accuracy: 0.8813\n",
            "Epoch 84/100\n",
            "989/989 [==============================] - 5s 5ms/step - loss: 0.3051 - accuracy: 0.8814\n",
            "Epoch 85/100\n",
            "989/989 [==============================] - 4s 4ms/step - loss: 0.3052 - accuracy: 0.8812\n",
            "Epoch 86/100\n",
            "989/989 [==============================] - 4s 4ms/step - loss: 0.3051 - accuracy: 0.8815\n",
            "Epoch 87/100\n",
            "989/989 [==============================] - 5s 5ms/step - loss: 0.3051 - accuracy: 0.8818\n",
            "Epoch 88/100\n",
            "989/989 [==============================] - 4s 4ms/step - loss: 0.3050 - accuracy: 0.8818\n",
            "Epoch 89/100\n",
            "989/989 [==============================] - 4s 4ms/step - loss: 0.3050 - accuracy: 0.8820\n",
            "Epoch 90/100\n",
            "989/989 [==============================] - 5s 5ms/step - loss: 0.3049 - accuracy: 0.8823\n",
            "Epoch 91/100\n",
            "989/989 [==============================] - 5s 5ms/step - loss: 0.3050 - accuracy: 0.8817\n",
            "Epoch 92/100\n",
            "989/989 [==============================] - 5s 5ms/step - loss: 0.3050 - accuracy: 0.8818\n",
            "Epoch 93/100\n",
            "989/989 [==============================] - 4s 5ms/step - loss: 0.3051 - accuracy: 0.8818\n",
            "Epoch 94/100\n",
            "989/989 [==============================] - 4s 4ms/step - loss: 0.3049 - accuracy: 0.8817\n",
            "Epoch 95/100\n",
            "989/989 [==============================] - 4s 5ms/step - loss: 0.3050 - accuracy: 0.8819\n",
            "Epoch 96/100\n",
            "989/989 [==============================] - 4s 4ms/step - loss: 0.3047 - accuracy: 0.8821\n",
            "Epoch 97/100\n",
            "989/989 [==============================] - 4s 4ms/step - loss: 0.3047 - accuracy: 0.8819\n",
            "Epoch 98/100\n",
            "989/989 [==============================] - 5s 5ms/step - loss: 0.3050 - accuracy: 0.8814\n",
            "Epoch 99/100\n",
            "989/989 [==============================] - 4s 4ms/step - loss: 0.3048 - accuracy: 0.8816\n",
            "Epoch 100/100\n",
            "989/989 [==============================] - 4s 4ms/step - loss: 0.3046 - accuracy: 0.8823\n"
          ]
        },
        {
          "output_type": "execute_result",
          "data": {
            "text/plain": [
              "<keras.src.callbacks.History at 0x7c38c8c3d960>"
            ]
          },
          "metadata": {},
          "execution_count": 183
        }
      ]
    },
    {
      "cell_type": "code",
      "source": [
        "y_nn=nn.predict(X_test)"
      ],
      "metadata": {
        "id": "1EATFeU1juYu",
        "colab": {
          "base_uri": "https://localhost:8080/"
        },
        "outputId": "e7156ba1-2142-4b94-c048-a26337283e46"
      },
      "execution_count": 184,
      "outputs": [
        {
          "output_type": "stream",
          "name": "stdout",
          "text": [
            "248/248 [==============================] - 0s 2ms/step\n"
          ]
        }
      ]
    },
    {
      "cell_type": "code",
      "source": [
        "y_nn=(y_nn>0.5)"
      ],
      "metadata": {
        "id": "XddOqGDak67o"
      },
      "execution_count": 185,
      "outputs": []
    },
    {
      "cell_type": "code",
      "source": [
        "y_nn"
      ],
      "metadata": {
        "id": "V3Q4exsTlAuc",
        "colab": {
          "base_uri": "https://localhost:8080/"
        },
        "outputId": "d84d4d69-c6ed-479a-a070-bebe50947047"
      },
      "execution_count": 186,
      "outputs": [
        {
          "output_type": "execute_result",
          "data": {
            "text/plain": [
              "array([[ True],\n",
              "       [ True],\n",
              "       [False],\n",
              "       ...,\n",
              "       [ True],\n",
              "       [False],\n",
              "       [ True]])"
            ]
          },
          "metadata": {},
          "execution_count": 186
        }
      ]
    },
    {
      "cell_type": "code",
      "source": [
        "from sklearn.metrics import accuracy_score\n",
        "accuracy_score(y_test, y_nn)"
      ],
      "metadata": {
        "id": "0kLkbL3PlCIB",
        "colab": {
          "base_uri": "https://localhost:8080/"
        },
        "outputId": "8b12279d-3344-45bc-8eb3-0607d41282b5"
      },
      "execution_count": 187,
      "outputs": [
        {
          "output_type": "execute_result",
          "data": {
            "text/plain": [
              "0.8828213879408419"
            ]
          },
          "metadata": {},
          "execution_count": 187
        }
      ]
    },
    {
      "cell_type": "markdown",
      "source": [
        "Preprocessed dataset. 3642 records.\n",
        "\n",
        "TargetClass - Whether the Star is Dwarf (0) or Giant (1)\n",
        "\n",
        "B-V - B-V color index.\n",
        "\n",
        "Vmag=Visual Apparent Magnitude of the Star\n",
        "\n",
        "Amag - Absolute Magnitude of the Star.\n",
        "The absolute magnitude of the stars were generated via the equation:\n",
        "\n",
        "M = m + 5(logP + 1)\n",
        "\n",
        "Where M represents the absolute magnitude Amag,\n",
        "m represents the visual apparent magnitude Vmag\n",
        "and p represents stellar parallax Plx."
      ],
      "metadata": {
        "id": "FsyxuIREpEdO"
      }
    }
  ],
  "metadata": {
    "colab": {
      "provenance": []
    },
    "kernelspec": {
      "display_name": "Python 3",
      "name": "python3"
    },
    "language_info": {
      "name": "python"
    }
  },
  "nbformat": 4,
  "nbformat_minor": 0
}